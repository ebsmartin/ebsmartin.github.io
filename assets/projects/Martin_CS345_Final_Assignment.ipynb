{
 "cells": [
  {
   "cell_type": "markdown",
   "id": "bcfc7d28",
   "metadata": {
    "id": "bcfc7d28"
   },
   "source": [
    "# CS345 Final Assignment\n",
    "\n",
    "Name: Eric Martin\n",
    "\n",
    "Date: May 2022\n",
    "\n",
    "Institution Institution: Colorado State University\n",
    "\n",
    "## SPAM E-mail Database Information\n",
    "\n",
    "*The \"spam\" concept is diverse: advertisements for products/websites, make money fast schemes, chain letters, pornography... Our collection of spam e-mails came from our postmaster and individuals who had filed spam. Our collection of non-spam e-mails came from filed work and personal e-mails, and hence the word 'george' and the area code '650' are indicators of non-spam. These are useful when constructing a personalized spam filter. One would either have to blind such non-spam indicators or get a very wide collection of non-spam to generate a general purpose spam filter.*\n",
    "\n",
    "    For background on spam:\n",
    "    *Cranor, Lorrie F., LaMacchia, Brian A. Spam! Communications of the ACM, 41(8):74-83, 1998.*\n",
    "\n",
    "Attribute Information:\n",
    "*The last column denotes whether the e-mail was considered spam (1) or not (0), i.e. unsolicited commercial e-mail. Most of the attributes indicate whether a particular word or character was frequently occurring in the e-mail. The run-length attributes (55-57) measure the length of sequences of consecutive capital letters.*\n",
    "\n",
    "For the statistical measures of each attribute, see the end of this file. Here are the definitions of the attributes:\n",
    "\n",
    "* 48 continuous real [0,100] attributes of type word_freq_WORD = percentage of words in the e-mail that match WORD, i.e. 100 * (number of times the WORD appears in the e-mail) / total number of words in e-mail. A \"word\" in this case is any string of alphanumeric characters bounded by non-alphanumeric characters or end-of-string.\n",
    "\n",
    "* 6 continuous real [0,100] attributes of type char_freq_CHAR = percentage of characters in the e-mail that match CHAR, i.e. 100 * (number of CHAR occurences) / total characters in e-mail\n",
    "\n",
    "* 1 continuous real [1,...] attribute of type capital_run_length_average = average length of uninterrupted sequences of capital letters\n",
    "\n",
    "* 1 continuous integer [1,...] attribute of type capital_run_length_longest = length of longest uninterrupted sequence of capital letters\n",
    "\n",
    "* 1 continuous integer [1,...] attribute of type capital_run_length_total = sum of length of uninterrupted sequences of capital letters = total number of capital letters in the e-mail\n",
    "\n",
    "* 1 nominal {0,1} class attribute of type spam = denotes whether the e-mail was considered spam (1) or not (0), i.e. unsolicited commercial e-mail.\n",
    "\n",
    "\n",
    "**Author**: Mark Hopkins, Erik Reeber, George Forman, Jaap Suermondt    \n",
    "**Source**: [UCI](https://archive.ics.uci.edu/ml/datasets/spambase)   \n",
    "**Citation**: [UCI](https://archive.ics.uci.edu/ml/citation_policy.html)\n"
   ]
  },
  {
   "cell_type": "markdown",
   "id": "2e7aaa2f",
   "metadata": {},
   "source": [
    "# Part 1: Importing Libraries and Understanding the Dataset\n",
    "\n",
    "Libraries will be imported as needed throughout the notebook."
   ]
  },
  {
   "cell_type": "code",
   "execution_count": 2,
   "id": "693c4d51",
   "metadata": {
    "id": "693c4d51"
   },
   "outputs": [
    {
     "name": "stderr",
     "output_type": "stream",
     "text": [
      "Using TensorFlow backend.\n"
     ]
    }
   ],
   "source": [
    "import numpy as np\n",
    "import matplotlib\n",
    "import matplotlib.pyplot as plt\n",
    "\n",
    "from sklearn.datasets import fetch_openml\n",
    "from sklearn.model_selection import train_test_split\n",
    "from sklearn import preprocessing\n",
    "\n",
    "import warnings\n",
    "warnings.simplefilter(action='ignore', category=FutureWarning)\n",
    "\n",
    "import keras\n",
    "import tensorflow as tf\n",
    "tf.executing_eagerly()\n",
    "\n",
    "%matplotlib inline\n",
    "\n",
    "# import the following dataset from UCI Machine Learning Repository via OpenML\n",
    "spam = fetch_openml(name='spambase', version=1)"
   ]
  },
  {
   "cell_type": "markdown",
   "id": "429a9d49",
   "metadata": {},
   "source": [
    "### Elucidating Details of the Dataset:\n",
    "\n",
    "As we can see from the output of the code below, there are 4601 data points each with 57 attributes/features.\n",
    "The classes are 'spam' and 'not spam' so the dataset has a binary classification.\n"
   ]
  },
  {
   "cell_type": "code",
   "execution_count": 3,
   "id": "1fdd8376",
   "metadata": {},
   "outputs": [
    {
     "name": "stdout",
     "output_type": "stream",
     "text": [
      "spambase data ID is : 44\n",
      "spambase data shape is : (4601, 57)\n",
      "spambase target shape is : (4601,)\n",
      "spambase number of classes: ['0' '1']\n"
     ]
    }
   ],
   "source": [
    "# using dataset with data_id = 44\n",
    "print('spambase data ID is :', spam.details['id']) \n",
    "print('spambase data shape is :', spam.data.shape)  \n",
    "print('spambase target shape is :', spam.target.shape)\n",
    "print('spambase number of classes:', np.unique(spam.target))\n",
    "\n",
    "# save details to a txt file\n",
    "with open('spambase_details.txt', 'w') as f:\n",
    "    f.write('spambase data ID is : ' + str(spam.details['id']) + '\\n')\n",
    "    f.write('spambase data shape is : ' + str(spam.data.shape) + '\\n')\n",
    "    f.write('spambase target shape is : ' + str(spam.target.shape) + '\\n')\n",
    "    f.write('spambase number of classes: ' + str(np.unique(spam.target)) + '\\n')\n",
    "    f.write('spambase details: ' + '\\n' + str(spam.details) + '\\n')"
   ]
  },
  {
   "cell_type": "markdown",
   "id": "269100ec",
   "metadata": {},
   "source": [
    "#### The Attributes for Each Data Point (E-mail) are as Follows:\n",
    "\n",
    "The dataset attributes mainly consist of specific word/character frequencies within the email. The number of capital letters and capital letter run lengths are also accouted for."
   ]
  },
  {
   "cell_type": "code",
   "execution_count": 4,
   "id": "831a660a",
   "metadata": {},
   "outputs": [],
   "source": [
    "spam_features = [ 'word_freq_make', 'word_freq_address', 'word_freq_all', 'word_freq_3d', 'word_freq_our', 'word_freq_over', 'word_freq_remove',\n",
    "             'word_freq_internet', 'word_freq_order', 'word_freq_mail', 'word_freq_receive', 'word_freq_will', 'word_freq_people',\n",
    "             'word_freq_report', 'word_freq_addresses', 'word_freq_free', 'word_freq_business', 'word_freq_email', 'word_freq_you',\n",
    "             'word_freq_credit', 'word_freq_your', 'word_freq_font', 'word_freq_000', 'word_freq_money', 'word_freq_hp', 'word_freq_hpl',\n",
    "             'word_freq_george', 'word_freq_650',  'word_freq_lab', 'word_freq_labs', 'word_freq_telnet', 'word_freq_857', 'word_freq_data',\n",
    "             'word_freq_415', 'word_freq_85', 'word_freq_technology', 'word_freq_1999', 'word_freq_parts', 'word_freq_pm', 'word_freq_direct',\t\n",
    "             'word_freq_cs', 'word_freq_meeting', 'word_freq_original', 'word_freq_project', 'word_freq_re', 'word_freq_edu', 'word_freq_table',\t\n",
    "             'word_freq_conference', 'char_freq_;', 'char_freq_(', 'char_freq_[', 'char_freq_!', 'char_freq_$', 'char_freq_#',\n",
    "             'capital_run_length_average', 'capital_run_length_longest', 'capital_run_length_total']\t"
   ]
  },
  {
   "cell_type": "markdown",
   "id": "71a2d2c1",
   "metadata": {},
   "source": [
    "# Part 2: Splitting our Data into Test and Train Sets"
   ]
  },
  {
   "cell_type": "code",
   "execution_count": 5,
   "id": "ce24a4ae",
   "metadata": {},
   "outputs": [],
   "source": [
    "\n",
    "    spam.data = preprocessing.normalize(spam.data) # normalize data\n",
    "    target = spam.target # target\n",
    "    data = spam.data # data\n",
    "\n",
    "    X = data[:, :] # all rows, all columns except the last one\n",
    "    y = target # classification labels\n",
    "    X_train, X_test, y_train, y_test = train_test_split(X, y, test_size=0.5, random_state=42) # split data into training and testing sets"
   ]
  },
  {
   "cell_type": "markdown",
   "id": "6971edea",
   "metadata": {},
   "source": [
    "# Part 3: Multi-layer Perceptron using Keras\n",
    "\n",
    "I will use Keras with a TensorFlow backend as it is simple to use and competitive with other options.\n",
    "\n",
    "We will convert the input values to be 32 bit floating point values rather than 64 bit because most neural network packages use 32 bit floats to save on memory and computational cost."
   ]
  },
  {
   "cell_type": "code",
   "execution_count": 6,
   "id": "665e9202",
   "metadata": {},
   "outputs": [],
   "source": [
    "X_mlp = X.astype('float32')\n",
    "y_mlp = y.astype('float32')\n",
    "X_train_mlp = X_train.astype('float32')\n",
    "X_test_mlp = X_test.astype('float32')\n",
    "y_train_mlp = y_train.astype('float32')\n",
    "y_test_mlp = y_test.astype('float32')"
   ]
  },
  {
   "cell_type": "markdown",
   "id": "a38eee86",
   "metadata": {},
   "source": [
    "### Setting up the sequential network model:\n",
    "\n",
    "We will use a sequential network, which is the container for a multilayer perceptron/feedforward neural network structure.\n",
    "\n",
    "    There are many rule-of-thumb methods for determining the correct number of neurons to use in the hidden layers, such as the following:\n",
    "        1. The number of hidden neurons should be between the size of the input layer and the size of the output layer.\n",
    "        2. The number of hidden neurons should be 2/3 the size of the input layer, plus the size of the output layer.\n",
    "        3. The number of hidden neurons should be less than twice the size of the input layer. \n",
    "\n",
    "*Kazemi, Somayeh. (2017). Re: How to decide the number of hidden layers and nodes in a hidden layer?. Retrieved from: https://www.researchgate.net/post/How-to-decide-the-number-of-hidden-layers-and-nodes-in-a-hidden-layer/5964fcae5b49528f9e7097da/citation/download.*\n",
    "\n",
    "\n",
    "### Train the Network:\n",
    "    The training parameters are described below. Since the classifiers in this dataset are 0 and 1 we can use the Binary Cross Entropy loss function. For the optimizer, Adam was chosen as it is great optimization alogrithm for stocahstic gradient descent. A three layer neural net was chosen for this problem with a hidden width of 39 (# of attributes * (2/3) + 1) and the number of epochs and batch size were chosen to both be 128.\n",
    "\n",
    "> **Sources for the following code:*\n",
    "CS345 Machine Learning Foundations and Practice at Colorado State University: Module06_02_neural_networks_keras - created by Asa Ben-Hur and Ross Beveridge"
   ]
  },
  {
   "cell_type": "code",
   "execution_count": 7,
   "id": "d5162d3d",
   "metadata": {},
   "outputs": [
    {
     "name": "stdout",
     "output_type": "stream",
     "text": [
      "Epoch 1/128\n",
      "2300/2300 [==============================] - 0s 95us/step - loss: 0.7698 - accuracy: 0.5930 - mse: 0.2432\n",
      "Epoch 2/128\n",
      "2300/2300 [==============================] - 0s 15us/step - loss: 0.7511 - accuracy: 0.6083 - mse: 0.2386\n",
      "Epoch 3/128\n",
      "2300/2300 [==============================] - 0s 16us/step - loss: 0.7293 - accuracy: 0.6083 - mse: 0.2546\n",
      "Epoch 4/128\n",
      "2300/2300 [==============================] - 0s 16us/step - loss: 0.7101 - accuracy: 0.6083 - mse: 0.2998\n",
      "Epoch 5/128\n",
      "2300/2300 [==============================] - 0s 14us/step - loss: 0.6997 - accuracy: 0.6083 - mse: 0.3416\n",
      "Epoch 6/128\n",
      "2300/2300 [==============================] - 0s 15us/step - loss: 0.6961 - accuracy: 0.6083 - mse: 0.3655\n",
      "Epoch 7/128\n",
      "2300/2300 [==============================] - 0s 15us/step - loss: 0.6946 - accuracy: 0.6083 - mse: 0.3761\n",
      "Epoch 8/128\n",
      "2300/2300 [==============================] - 0s 14us/step - loss: 0.6940 - accuracy: 0.6083 - mse: 0.3807\n",
      "Epoch 9/128\n",
      "2300/2300 [==============================] - 0s 13us/step - loss: 0.6938 - accuracy: 0.6083 - mse: 0.3836\n",
      "Epoch 10/128\n",
      "2300/2300 [==============================] - 0s 15us/step - loss: 0.6936 - accuracy: 0.6083 - mse: 0.3854\n",
      "Epoch 11/128\n",
      "2300/2300 [==============================] - 0s 14us/step - loss: 0.6935 - accuracy: 0.6083 - mse: 0.3866\n",
      "Epoch 12/128\n",
      "2300/2300 [==============================] - 0s 14us/step - loss: 0.6934 - accuracy: 0.6083 - mse: 0.3875\n",
      "Epoch 13/128\n",
      "2300/2300 [==============================] - 0s 13us/step - loss: 0.6933 - accuracy: 0.6083 - mse: 0.3881\n",
      "Epoch 14/128\n",
      "2300/2300 [==============================] - 0s 13us/step - loss: 0.6933 - accuracy: 0.6083 - mse: 0.3885\n",
      "Epoch 15/128\n",
      "2300/2300 [==============================] - 0s 14us/step - loss: 0.6933 - accuracy: 0.6083 - mse: 0.3889\n",
      "Epoch 16/128\n",
      "2300/2300 [==============================] - 0s 13us/step - loss: 0.6933 - accuracy: 0.6083 - mse: 0.3892\n",
      "Epoch 17/128\n",
      "2300/2300 [==============================] - 0s 15us/step - loss: 0.6932 - accuracy: 0.6083 - mse: 0.3895\n",
      "Epoch 18/128\n",
      "2300/2300 [==============================] - 0s 13us/step - loss: 0.6932 - accuracy: 0.6083 - mse: 0.3897\n",
      "Epoch 19/128\n",
      "2300/2300 [==============================] - 0s 14us/step - loss: 0.6932 - accuracy: 0.6083 - mse: 0.3899\n",
      "Epoch 20/128\n",
      "2300/2300 [==============================] - 0s 13us/step - loss: 0.6932 - accuracy: 0.6083 - mse: 0.3900\n",
      "Epoch 21/128\n",
      "2300/2300 [==============================] - 0s 12us/step - loss: 0.6932 - accuracy: 0.6083 - mse: 0.3902\n",
      "Epoch 22/128\n",
      "2300/2300 [==============================] - 0s 11us/step - loss: 0.6932 - accuracy: 0.6083 - mse: 0.3903\n",
      "Epoch 23/128\n",
      "2300/2300 [==============================] - 0s 13us/step - loss: 0.6932 - accuracy: 0.6083 - mse: 0.3903\n",
      "Epoch 24/128\n",
      "2300/2300 [==============================] - 0s 12us/step - loss: 0.6932 - accuracy: 0.6083 - mse: 0.3904\n",
      "Epoch 25/128\n",
      "2300/2300 [==============================] - 0s 12us/step - loss: 0.6932 - accuracy: 0.6083 - mse: 0.3905\n",
      "Epoch 26/128\n",
      "2300/2300 [==============================] - 0s 12us/step - loss: 0.6932 - accuracy: 0.6083 - mse: 0.3905\n",
      "Epoch 27/128\n",
      "2300/2300 [==============================] - 0s 12us/step - loss: 0.6932 - accuracy: 0.6083 - mse: 0.3906\n",
      "Epoch 28/128\n",
      "2300/2300 [==============================] - 0s 12us/step - loss: 0.6932 - accuracy: 0.6083 - mse: 0.3906\n",
      "Epoch 29/128\n",
      "2300/2300 [==============================] - 0s 12us/step - loss: 0.6932 - accuracy: 0.6083 - mse: 0.3907\n",
      "Epoch 30/128\n",
      "2300/2300 [==============================] - 0s 13us/step - loss: 0.6932 - accuracy: 0.6083 - mse: 0.3907\n",
      "Epoch 31/128\n",
      "2300/2300 [==============================] - 0s 11us/step - loss: 0.6931 - accuracy: 0.6083 - mse: 0.3907\n",
      "Epoch 32/128\n",
      "2300/2300 [==============================] - 0s 12us/step - loss: 0.6931 - accuracy: 0.6083 - mse: 0.3907\n",
      "Epoch 33/128\n",
      "2300/2300 [==============================] - 0s 13us/step - loss: 0.6931 - accuracy: 0.6083 - mse: 0.3907\n",
      "Epoch 34/128\n",
      "2300/2300 [==============================] - 0s 12us/step - loss: 0.6931 - accuracy: 0.6083 - mse: 0.3907\n",
      "Epoch 35/128\n",
      "2300/2300 [==============================] - 0s 11us/step - loss: 0.6931 - accuracy: 0.6083 - mse: 0.3907\n",
      "Epoch 36/128\n",
      "2300/2300 [==============================] - 0s 11us/step - loss: 0.6931 - accuracy: 0.6083 - mse: 0.3907\n",
      "Epoch 37/128\n",
      "2300/2300 [==============================] - 0s 12us/step - loss: 0.6931 - accuracy: 0.6083 - mse: 0.3907\n",
      "Epoch 38/128\n",
      "2300/2300 [==============================] - 0s 12us/step - loss: 0.6931 - accuracy: 0.6083 - mse: 0.3907\n",
      "Epoch 39/128\n",
      "2300/2300 [==============================] - 0s 12us/step - loss: 0.6931 - accuracy: 0.6083 - mse: 0.3906\n",
      "Epoch 40/128\n",
      "2300/2300 [==============================] - 0s 11us/step - loss: 0.6931 - accuracy: 0.6083 - mse: 0.3906\n",
      "Epoch 41/128\n",
      "2300/2300 [==============================] - 0s 13us/step - loss: 0.6931 - accuracy: 0.6083 - mse: 0.3905\n",
      "Epoch 42/128\n",
      "2300/2300 [==============================] - 0s 11us/step - loss: 0.6931 - accuracy: 0.6083 - mse: 0.3904\n",
      "Epoch 43/128\n",
      "2300/2300 [==============================] - 0s 12us/step - loss: 0.6931 - accuracy: 0.6083 - mse: 0.3903\n",
      "Epoch 44/128\n",
      "2300/2300 [==============================] - 0s 11us/step - loss: 0.6931 - accuracy: 0.6083 - mse: 0.3901\n",
      "Epoch 45/128\n",
      "2300/2300 [==============================] - 0s 13us/step - loss: 0.6931 - accuracy: 0.6083 - mse: 0.3900\n",
      "Epoch 46/128\n",
      "2300/2300 [==============================] - 0s 12us/step - loss: 0.6931 - accuracy: 0.6083 - mse: 0.3897\n",
      "Epoch 47/128\n",
      "2300/2300 [==============================] - 0s 12us/step - loss: 0.6930 - accuracy: 0.6083 - mse: 0.3894\n",
      "Epoch 48/128\n",
      "2300/2300 [==============================] - 0s 12us/step - loss: 0.6930 - accuracy: 0.6083 - mse: 0.3889\n",
      "Epoch 49/128\n",
      "2300/2300 [==============================] - 0s 12us/step - loss: 0.6929 - accuracy: 0.6083 - mse: 0.3881\n",
      "Epoch 50/128\n",
      "2300/2300 [==============================] - 0s 12us/step - loss: 0.6928 - accuracy: 0.6083 - mse: 0.3871\n",
      "Epoch 51/128\n",
      "2300/2300 [==============================] - 0s 13us/step - loss: 0.6927 - accuracy: 0.6083 - mse: 0.3850\n",
      "Epoch 52/128\n",
      "2300/2300 [==============================] - 0s 12us/step - loss: 0.6923 - accuracy: 0.6083 - mse: 0.3811\n",
      "Epoch 53/128\n",
      "2300/2300 [==============================] - 0s 11us/step - loss: 0.6913 - accuracy: 0.6083 - mse: 0.3677\n",
      "Epoch 54/128\n",
      "2300/2300 [==============================] - 0s 12us/step - loss: 0.6876 - accuracy: 0.6096 - mse: 0.3229\n",
      "Epoch 55/128\n",
      "2300/2300 [==============================] - 0s 12us/step - loss: 0.6807 - accuracy: 0.6374 - mse: 0.2502\n",
      "Epoch 56/128\n",
      "2300/2300 [==============================] - 0s 12us/step - loss: 0.6736 - accuracy: 0.6652 - mse: 0.2370\n",
      "Epoch 57/128\n",
      "2300/2300 [==============================] - 0s 17us/step - loss: 0.6673 - accuracy: 0.6965 - mse: 0.2049\n",
      "Epoch 58/128\n",
      "2300/2300 [==============================] - 0s 16us/step - loss: 0.6612 - accuracy: 0.7213 - mse: 0.1821\n",
      "Epoch 59/128\n",
      "2300/2300 [==============================] - 0s 13us/step - loss: 0.6567 - accuracy: 0.7357 - mse: 0.1743\n",
      "Epoch 60/128\n",
      "2300/2300 [==============================] - 0s 14us/step - loss: 0.6522 - accuracy: 0.7596 - mse: 0.1549\n",
      "Epoch 61/128\n",
      "2300/2300 [==============================] - 0s 17us/step - loss: 0.6476 - accuracy: 0.7674 - mse: 0.1453\n",
      "Epoch 62/128\n",
      "2300/2300 [==============================] - 0s 14us/step - loss: 0.6447 - accuracy: 0.7835 - mse: 0.1415\n",
      "Epoch 63/128\n",
      "2300/2300 [==============================] - 0s 21us/step - loss: 0.6416 - accuracy: 0.7878 - mse: 0.1349\n",
      "Epoch 64/128\n",
      "2300/2300 [==============================] - 0s 15us/step - loss: 0.6387 - accuracy: 0.7965 - mse: 0.1306\n",
      "Epoch 65/128\n",
      "2300/2300 [==============================] - 0s 13us/step - loss: 0.6361 - accuracy: 0.8113 - mse: 0.1262\n",
      "Epoch 66/128\n",
      "2300/2300 [==============================] - 0s 13us/step - loss: 0.6337 - accuracy: 0.8270 - mse: 0.1202\n",
      "Epoch 67/128\n",
      "2300/2300 [==============================] - 0s 12us/step - loss: 0.6327 - accuracy: 0.8335 - mse: 0.1219\n",
      "Epoch 68/128\n",
      "2300/2300 [==============================] - 0s 13us/step - loss: 0.6345 - accuracy: 0.8165 - mse: 0.1371\n",
      "Epoch 69/128\n",
      "2300/2300 [==============================] - 0s 12us/step - loss: 0.6313 - accuracy: 0.8191 - mse: 0.1280\n",
      "Epoch 70/128\n",
      "2300/2300 [==============================] - 0s 15us/step - loss: 0.6274 - accuracy: 0.8370 - mse: 0.1163\n",
      "Epoch 71/128\n",
      "2300/2300 [==============================] - 0s 13us/step - loss: 0.6253 - accuracy: 0.8443 - mse: 0.1117\n",
      "Epoch 72/128\n",
      "2300/2300 [==============================] - 0s 14us/step - loss: 0.6231 - accuracy: 0.8483 - mse: 0.1059\n",
      "Epoch 73/128\n",
      "2300/2300 [==============================] - 0s 13us/step - loss: 0.6218 - accuracy: 0.8452 - mse: 0.1060\n",
      "Epoch 74/128\n",
      "2300/2300 [==============================] - 0s 11us/step - loss: 0.6205 - accuracy: 0.8565 - mse: 0.1016\n",
      "Epoch 75/128\n",
      "2300/2300 [==============================] - 0s 12us/step - loss: 0.6195 - accuracy: 0.8670 - mse: 0.1020\n",
      "Epoch 76/128\n",
      "2300/2300 [==============================] - 0s 11us/step - loss: 0.6171 - accuracy: 0.8557 - mse: 0.0999\n",
      "Epoch 77/128\n",
      "2300/2300 [==============================] - 0s 11us/step - loss: 0.6159 - accuracy: 0.8604 - mse: 0.0988\n",
      "Epoch 78/128\n",
      "2300/2300 [==============================] - 0s 11us/step - loss: 0.6156 - accuracy: 0.8709 - mse: 0.0969\n",
      "Epoch 79/128\n",
      "2300/2300 [==============================] - 0s 13us/step - loss: 0.6147 - accuracy: 0.8730 - mse: 0.0950\n",
      "Epoch 80/128\n",
      "2300/2300 [==============================] - 0s 12us/step - loss: 0.6126 - accuracy: 0.8722 - mse: 0.0930\n",
      "Epoch 81/128\n",
      "2300/2300 [==============================] - 0s 13us/step - loss: 0.6118 - accuracy: 0.8770 - mse: 0.0917\n",
      "Epoch 82/128\n",
      "2300/2300 [==============================] - 0s 11us/step - loss: 0.6102 - accuracy: 0.8791 - mse: 0.0901\n",
      "Epoch 83/128\n",
      "2300/2300 [==============================] - 0s 13us/step - loss: 0.6097 - accuracy: 0.8778 - mse: 0.0908\n",
      "Epoch 84/128\n",
      "2300/2300 [==============================] - 0s 12us/step - loss: 0.6081 - accuracy: 0.8843 - mse: 0.0871\n",
      "Epoch 85/128\n",
      "2300/2300 [==============================] - 0s 12us/step - loss: 0.6073 - accuracy: 0.8870 - mse: 0.0858\n",
      "Epoch 86/128\n",
      "2300/2300 [==============================] - 0s 13us/step - loss: 0.6071 - accuracy: 0.8826 - mse: 0.0878\n",
      "Epoch 87/128\n",
      "2300/2300 [==============================] - 0s 12us/step - loss: 0.6058 - accuracy: 0.8935 - mse: 0.0848\n",
      "Epoch 88/128\n",
      "2300/2300 [==============================] - 0s 12us/step - loss: 0.6047 - accuracy: 0.8896 - mse: 0.0821\n",
      "Epoch 89/128\n",
      "2300/2300 [==============================] - 0s 15us/step - loss: 0.6041 - accuracy: 0.8896 - mse: 0.0840\n",
      "Epoch 90/128\n",
      "2300/2300 [==============================] - 0s 16us/step - loss: 0.6028 - accuracy: 0.8965 - mse: 0.0808\n",
      "Epoch 91/128\n",
      "2300/2300 [==============================] - 0s 12us/step - loss: 0.6029 - accuracy: 0.8961 - mse: 0.0823\n",
      "Epoch 92/128\n",
      "2300/2300 [==============================] - 0s 12us/step - loss: 0.6030 - accuracy: 0.8930 - mse: 0.0835\n",
      "Epoch 93/128\n",
      "2300/2300 [==============================] - 0s 12us/step - loss: 0.6053 - accuracy: 0.8852 - mse: 0.0898\n",
      "Epoch 94/128\n",
      "2300/2300 [==============================] - 0s 11us/step - loss: 0.6014 - accuracy: 0.8974 - mse: 0.0816\n",
      "Epoch 95/128\n",
      "2300/2300 [==============================] - 0s 11us/step - loss: 0.6001 - accuracy: 0.8978 - mse: 0.0803\n",
      "Epoch 96/128\n",
      "2300/2300 [==============================] - 0s 12us/step - loss: 0.5993 - accuracy: 0.9004 - mse: 0.0779\n",
      "Epoch 97/128\n",
      "2300/2300 [==============================] - 0s 12us/step - loss: 0.5996 - accuracy: 0.9022 - mse: 0.0783\n",
      "Epoch 98/128\n",
      "2300/2300 [==============================] - 0s 11us/step - loss: 0.5989 - accuracy: 0.9030 - mse: 0.0777\n",
      "Epoch 99/128\n",
      "2300/2300 [==============================] - 0s 12us/step - loss: 0.5985 - accuracy: 0.9070 - mse: 0.0773\n",
      "Epoch 100/128\n",
      "2300/2300 [==============================] - 0s 12us/step - loss: 0.5969 - accuracy: 0.9078 - mse: 0.0749\n",
      "Epoch 101/128\n",
      "2300/2300 [==============================] - 0s 12us/step - loss: 0.5968 - accuracy: 0.9087 - mse: 0.0746\n",
      "Epoch 102/128\n",
      "2300/2300 [==============================] - 0s 13us/step - loss: 0.5971 - accuracy: 0.9061 - mse: 0.0757\n",
      "Epoch 103/128\n",
      "2300/2300 [==============================] - 0s 12us/step - loss: 0.5965 - accuracy: 0.9074 - mse: 0.0752\n",
      "Epoch 104/128\n",
      "2300/2300 [==============================] - 0s 10us/step - loss: 0.5959 - accuracy: 0.9083 - mse: 0.0743\n",
      "Epoch 105/128\n",
      "2300/2300 [==============================] - 0s 11us/step - loss: 0.5949 - accuracy: 0.9139 - mse: 0.0711\n",
      "Epoch 106/128\n",
      "2300/2300 [==============================] - 0s 12us/step - loss: 0.5941 - accuracy: 0.9104 - mse: 0.0715\n",
      "Epoch 107/128\n",
      "2300/2300 [==============================] - 0s 12us/step - loss: 0.5935 - accuracy: 0.9135 - mse: 0.0703\n",
      "Epoch 108/128\n",
      "2300/2300 [==============================] - 0s 12us/step - loss: 0.5932 - accuracy: 0.9165 - mse: 0.0704\n",
      "Epoch 109/128\n",
      "2300/2300 [==============================] - 0s 10us/step - loss: 0.5928 - accuracy: 0.9178 - mse: 0.0697\n",
      "Epoch 110/128\n",
      "2300/2300 [==============================] - 0s 12us/step - loss: 0.5936 - accuracy: 0.9152 - mse: 0.0711\n",
      "Epoch 111/128\n",
      "2300/2300 [==============================] - 0s 12us/step - loss: 0.5929 - accuracy: 0.9170 - mse: 0.0706\n",
      "Epoch 112/128\n",
      "2300/2300 [==============================] - 0s 13us/step - loss: 0.5916 - accuracy: 0.9191 - mse: 0.0685\n",
      "Epoch 113/128\n",
      "2300/2300 [==============================] - 0s 12us/step - loss: 0.5914 - accuracy: 0.9174 - mse: 0.0679\n",
      "Epoch 114/128\n",
      "2300/2300 [==============================] - 0s 11us/step - loss: 0.5912 - accuracy: 0.9191 - mse: 0.0683\n",
      "Epoch 115/128\n",
      "2300/2300 [==============================] - 0s 11us/step - loss: 0.5906 - accuracy: 0.9213 - mse: 0.0667\n",
      "Epoch 116/128\n",
      "2300/2300 [==============================] - 0s 10us/step - loss: 0.5903 - accuracy: 0.9200 - mse: 0.0671\n",
      "Epoch 117/128\n",
      "2300/2300 [==============================] - 0s 13us/step - loss: 0.5903 - accuracy: 0.9213 - mse: 0.0661\n",
      "Epoch 118/128\n",
      "2300/2300 [==============================] - 0s 12us/step - loss: 0.5911 - accuracy: 0.9161 - mse: 0.0694\n",
      "Epoch 119/128\n",
      "2300/2300 [==============================] - 0s 12us/step - loss: 0.5901 - accuracy: 0.9170 - mse: 0.0672\n",
      "Epoch 120/128\n",
      "2300/2300 [==============================] - 0s 13us/step - loss: 0.5887 - accuracy: 0.9235 - mse: 0.0646\n",
      "Epoch 121/128\n",
      "2300/2300 [==============================] - 0s 12us/step - loss: 0.5898 - accuracy: 0.9209 - mse: 0.0662\n",
      "Epoch 122/128\n",
      "2300/2300 [==============================] - 0s 11us/step - loss: 0.5886 - accuracy: 0.9222 - mse: 0.0653\n",
      "Epoch 123/128\n",
      "2300/2300 [==============================] - 0s 13us/step - loss: 0.5888 - accuracy: 0.9204 - mse: 0.0661\n",
      "Epoch 124/128\n",
      "2300/2300 [==============================] - 0s 13us/step - loss: 0.5894 - accuracy: 0.9200 - mse: 0.0659\n",
      "Epoch 125/128\n",
      "2300/2300 [==============================] - 0s 12us/step - loss: 0.5879 - accuracy: 0.9248 - mse: 0.0647\n",
      "Epoch 126/128\n",
      "2300/2300 [==============================] - 0s 13us/step - loss: 0.5875 - accuracy: 0.9278 - mse: 0.0639\n",
      "Epoch 127/128\n",
      "2300/2300 [==============================] - 0s 12us/step - loss: 0.5870 - accuracy: 0.9278 - mse: 0.0631\n",
      "Epoch 128/128\n",
      "2300/2300 [==============================] - 0s 12us/step - loss: 0.5874 - accuracy: 0.9257 - mse: 0.0636\n",
      "Network instance 1 achieved 0.92565\n",
      "Found a network exceeding accuracy threshold 0.915\n"
     ]
    }
   ],
   "source": [
    "hidden_width = 39\n",
    "accuracy_threshold = 0.915\n",
    "instance  = 1\n",
    "max_tries = 8\n",
    "n_epochs = 128\n",
    "batch_size = 128\n",
    "\n",
    "while True:\n",
    "    spam_network = keras.Sequential()\n",
    "    spam_network.add(keras.layers.Dense(units=hidden_width, activation='relu', input_shape=(X.shape[1],)))\n",
    "    spam_network.add(keras.layers.Dense(units=hidden_width, activation='relu'))\n",
    "    spam_network.add(keras.layers.Dense(units=1, activation='sigmoid'))\n",
    "\n",
    "    loss_fn = tf.keras.losses.BinaryCrossentropy(from_logits=True)\n",
    "    opt     = keras.optimizers.Adam()\n",
    "    spam_network.compile(loss=loss_fn, optimizer=opt, metrics=['accuracy', 'mse'])\n",
    "   \n",
    "    history_spam = spam_network.fit(X_train_mlp, y_train_mlp, batch_size=batch_size, epochs=n_epochs, verbose=1)\n",
    "    accu = history_spam.history['accuracy'][-1]\n",
    "    print(f'Network instance {instance} achieved {accu:.5f}')\n",
    "    instance += 1\n",
    "    if history_spam.history['accuracy'][-1] >= accuracy_threshold :\n",
    "        print(f'Found a network exceeding accuracy threshold {accuracy_threshold}')\n",
    "        break\n",
    "    if instance > max_tries : break\n"
   ]
  },
  {
   "attachments": {},
   "cell_type": "markdown",
   "id": "3cc3689d",
   "metadata": {},
   "source": [
    "### Determining the Accuracy of the Model:\n",
    "Fortunately, since this is a public dataset on UCI, there is enough data to show that the neural net model produces accuracies that fall within the range of 0.89 to 0.93 shown on the [UCI website](https://archive-beta.ics.uci.edu/ml/datasets/spambase)."
   ]
  },
  {
   "cell_type": "code",
   "execution_count": 8,
   "id": "cc522a7e",
   "metadata": {},
   "outputs": [
    {
     "name": "stdout",
     "output_type": "stream",
     "text": [
      "2301/2301 [==============================] - 0s 42us/step\n",
      "Accuracy of the model is: 0.909604549407959\n"
     ]
    },
    {
     "data": {
      "image/png": "[encoded data removed]",
      "text/plain": [
       "<Figure size 432x288 with 1 Axes>"
      ]
     },
     "metadata": {
      "needs_background": "light"
     },
     "output_type": "display_data"
    }
   ],
   "source": [
    "# print the accuracy of the model\n",
    "spam_network_accuracy = spam_network.evaluate(X_test_mlp, y_test_mlp)[1]  # accuracy\n",
    "print('Accuracy of the model is:', spam_network_accuracy)  # print accuracy\n",
    "\n",
    "plt.plot(history_spam.history['accuracy'], label='Accuracy')  # plot accuracy\n",
    "plt.plot(history_spam.history['mse'], label='MSE')  # plot MSE\n",
    "plt.ylim([-0.1, 1.1])  # set y-axis limits\n",
    "plt.legend()  # show legend\n",
    "plt.xlabel('Epoch');  # label x-axis\n",
    "plt.ylabel('Accuracy');  # label y-axis\n",
    "plt.show()  # display plot"
   ]
  },
  {
   "cell_type": "markdown",
   "id": "a88b9050",
   "metadata": {},
   "source": [
    "### Confusion Matrix:\n",
    "A confusion matrix is a table that is often used to describe the performance of a classification model (or “classifier”) on a set of test data for which the true values are known. The correct predictions can be seen on the downward diagonal and the misclassified labels are seen on the upward diagonal. \n",
    "\n",
    "In this specific case, since there are only two classifiers, a confusion matrix is not as helpful as in cases with multiple classifiers but one can still gather insight from one.\n",
    "\n",
    "[Source of following code](https://towardsdatascience.com/logistic-regression-using-python-sklearn-numpy-mnist-handwriting-recognition-matplotlib-a6b31e2b166a)"
   ]
  },
  {
   "cell_type": "code",
   "execution_count": 9,
   "id": "9f5d0dc1",
   "metadata": {},
   "outputs": [
    {
     "data": {
      "image/png": "[encoded data removed]",
      "text/plain": [
       "<Figure size 648x648 with 2 Axes>"
      ]
     },
     "metadata": {
      "needs_background": "light"
     },
     "output_type": "display_data"
    }
   ],
   "source": [
    "import seaborn as sns\n",
    "from sklearn import metrics\n",
    "\n",
    "y_pred_mlp = spam_network.predict(X_test_mlp)  # make predictions\n",
    "y_pred_mlp = np.where(y_pred_mlp > 0.5, 1, 0)  # round predictions\n",
    "\n",
    "spam_confusion_matrix = metrics.confusion_matrix(y_test_mlp, y_pred_mlp)  # get confusion matrix\n",
    "\n",
    "plt.figure(figsize=(9,9))  # create figure with 9x9 inches \n",
    "sns.heatmap(spam_confusion_matrix, annot=True, fmt=\".3f\", linewidths=.5, square = True, cmap = 'PiYG');  # plot heatmap\n",
    "plt.ylabel('Actual label');  # label y-axis\n",
    "plt.xlabel('Predicted label');  # label x-axis \n",
    "all_sample_title = 'Accuracy Score: {0}'.format(spam_network_accuracy)  # set title\n",
    "plt.title(all_sample_title, size = 15);  # set title\n",
    "plt.show()  # display plot"
   ]
  },
  {
   "cell_type": "markdown",
   "id": "ad15671f",
   "metadata": {},
   "source": [
    "### Summary of the Model:\n",
    "\n",
    "A summary of the generated classification model can be seen below."
   ]
  },
  {
   "cell_type": "code",
   "execution_count": 10,
   "id": "2975c8d8",
   "metadata": {},
   "outputs": [
    {
     "name": "stdout",
     "output_type": "stream",
     "text": [
      "Model: \"sequential_1\"\n",
      "_________________________________________________________________\n",
      "Layer (type)                 Output Shape              Param #   \n",
      "=================================================================\n",
      "dense_1 (Dense)              (None, 39)                2262      \n",
      "_________________________________________________________________\n",
      "dense_2 (Dense)              (None, 39)                1560      \n",
      "_________________________________________________________________\n",
      "dense_3 (Dense)              (None, 1)                 40        \n",
      "=================================================================\n",
      "Total params: 3,862\n",
      "Trainable params: 3,862\n",
      "Non-trainable params: 0\n",
      "_________________________________________________________________\n"
     ]
    }
   ],
   "source": [
    "spam_network.summary()  # print model summary"
   ]
  },
  {
   "cell_type": "markdown",
   "id": "f2d796ab",
   "metadata": {},
   "source": [
    "# Part 4: Binomial Logistic Regression\n",
    "\n",
    "Since our dataset has two classifiers, spam or not-spam, a statistical analysis method to predict a binary outcome, such as binomial logistic regression is a great classification model to utilize.\n",
    "\n",
    "The binomial logistic regression model is a classification model that provides probabilities. This is useful in the case of spam detection as the user can be informed of the probability behind the classification. Knowing that an Email has a 94% probability of being spam versus a 51% chance is very important to help reduce misclassified Email."
   ]
  },
  {
   "cell_type": "code",
   "execution_count": 11,
   "id": "156e7f6c",
   "metadata": {},
   "outputs": [
    {
     "name": "stdout",
     "output_type": "stream",
     "text": [
      "Logistic Regression accuracy is: 0.7727075184702303\n"
     ]
    }
   ],
   "source": [
    "from sklearn.linear_model import LogisticRegression\n",
    "from sklearn.metrics import mean_squared_error\n",
    "from sklearn.metrics import r2_score\n",
    "\n",
    "log_reg = LogisticRegression(class_weight='balanced', penalty='l1', solver='saga', multi_class='ovr', n_jobs=4, max_iter=10000)  # create logistic regression model\n",
    "\n",
    "log_reg.fit(X_train, y_train)  # fit the model\n",
    "\n",
    "y_pred_reg = log_reg.predict(X_test)  # make predictions based on the model\n",
    "\n",
    "pred_lreg_score = log_reg.score(X_test, y_test)  # get accuracy score\n",
    "print('Logistic Regression accuracy is:', pred_lreg_score)  # logistic regression accuracy"
   ]
  },
  {
   "cell_type": "markdown",
   "id": "c46965ba",
   "metadata": {},
   "source": [
    "### Probability estimates\n",
    "\n",
    "Since the problem set is dealing with spam it would be advantageous to display the accuracy of each prediction.\n",
    "\n",
    "The following prediction classification probabilites are reported in the following format `[probability of not being spam, probability of being spam]`\n",
    "\n",
    "It can be inferred from the histogram below that based on the dataset, this binomial logistic regression model is most commonly very confident in declaring 'not spam' with the highest frequency of classification of probability below 0.50 being at 0.0 whereas the model is declaring most of the as spam with only a probability of 0.59% and an average proability of around 0.65% which is lower than one would hope."
   ]
  },
  {
   "cell_type": "code",
   "execution_count": 12,
   "metadata": {},
   "outputs": [
    {
     "name": "stdout",
     "output_type": "stream",
     "text": [
      "Predict probabilities: [[0.95354067 0.04645933]\n",
      " [0.71691561 0.28308439]\n",
      " [0.56005532 0.43994468]\n",
      " ...\n",
      " [0.59071191 0.40928809]\n",
      " [0.50428617 0.49571383]\n",
      " [0.67107748 0.32892252]]\n"
     ]
    },
    {
     "data": {
      "text/plain": [
       "Text(0.5, 1.0, 'Histogram of predicted probabilities')"
      ]
     },
     "execution_count": 12,
     "metadata": {},
     "output_type": "execute_result"
    },
    {
     "data": {
      "image/png": "[encoded data removed]",
      "text/plain": [
       "<Figure size 432x288 with 1 Axes>"
      ]
     },
     "metadata": {
      "needs_background": "light"
     },
     "output_type": "display_data"
    }
   ],
   "source": [
    "print('Predict probabilities:', log_reg.predict_proba(X_test))  # predict probabilities in format [probability of 0, probability of 1]\n",
    "\n",
    "# graph the probability of a choice being made\n",
    "y_pred_prob = log_reg.predict_proba(X_test)[:, 1]  # get probabilities of 1\n",
    "plt.hist(y_pred_prob, bins=20)  # plot histogram\n",
    "plt.xlabel('Probability of being a spam')  # label x-axis\n",
    "plt.ylabel('Frequency')  # label y-axis\n",
    "plt.title('Histogram of predicted probabilities')  # set title"
   ]
  },
  {
   "cell_type": "markdown",
   "id": "2a6754b7",
   "metadata": {},
   "source": [
    "### Determining the confidence of each decision\n",
    "\n",
    "The following histogram shows the confidence of each decision based on the decision function and boundary. Since this is a binomial problem, if the value is greater than 0 it will be defined as spam and if it is below 0 it will be defined as not spam. We can see that the confidence in declaring an email as 'not spam' is greater than that of decaring an email as spam since we are seeing values that stray a large distance negative whereas there is not much positive deviation."
   ]
  },
  {
   "cell_type": "code",
   "execution_count": 13,
   "id": "c0248f91",
   "metadata": {},
   "outputs": [
    {
     "name": "stdout",
     "output_type": "stream",
     "text": [
      "Decision function: [-3.02160482 -0.92921307 -0.24138659 ... -0.36690916 -0.01714511\n",
      " -0.71306239]\n"
     ]
    },
    {
     "data": {
      "text/plain": [
       "Text(0.5, 1.0, 'Histogram of distances from decision boundary')"
      ]
     },
     "execution_count": 13,
     "metadata": {},
     "output_type": "execute_result"
    },
    {
     "data": {
      "image/png": "[encoded data removed]",
      "text/plain": [
       "<Figure size 432x288 with 1 Axes>"
      ]
     },
     "metadata": {
      "needs_background": "light"
     },
     "output_type": "display_data"
    }
   ],
   "source": [
    "print('Decision function:', log_reg.decision_function(X_test))  # decision function in format [distance to 0, distance to 1]\n",
    "\n",
    "# plot distance from decision boundary\n",
    "y_pred_dist = log_reg.decision_function(X_test)  # get decision function\n",
    "plt.hist(y_pred_dist, bins=51)  # plot histogram\n",
    "plt.xlabel('Distance from decision boundary')  # label x-axis\n",
    "plt.ylabel('Frequency')  # label y-axis\n",
    "plt.title('Histogram of distances from decision boundary')  # set title"
   ]
  },
  {
   "cell_type": "markdown",
   "id": "f93d1447",
   "metadata": {},
   "source": [
    "# Part 5: KNN Classifier\n",
    "\n",
    "Out of curiosity, I wanted to see how well the K-Nearest Neighbor classifier would work on this dataset. First we will identify the best K value to use for the classification.\n",
    "\n",
    "The nearest neighbor classifier is one of the simplest machine learning methods available.\n",
    "Here's the simplest version of it:\n",
    "\n",
    "For nearest neighbor classification we obtain the decision boundary by merging adjacent Voronoi cells that have the same label associated with them.\n",
    "\n",
    "Since this problem resides in 57 dimensions, a 2D or 3D visualization is not possible.\n",
    "\n",
    "> **Sources*\n",
    "CS345 Machine Learning Foundations and Practice at Colorado State University: Module02_04_nearest_neighbors - created by Asa Ben-Hur and Ross Beveridge\n",
    "<br> Some text referenced is released under the [CC BY-SA license](https://creativecommons.org/licenses/by-sa/4.0/)\n",
    "\n",
    "We can begin by running a test to determine what the best K for the KNN is."
   ]
  },
  {
   "cell_type": "code",
   "execution_count": 14,
   "id": "d183c715",
   "metadata": {},
   "outputs": [
    {
     "data": {
      "image/png": "[encoded data removed]",
      "text/plain": [
       "<Figure size 432x288 with 1 Axes>"
      ]
     },
     "metadata": {
      "needs_background": "light"
     },
     "output_type": "display_data"
    }
   ],
   "source": [
    "from sklearn.neighbors import KNeighborsClassifier\n",
    "\n",
    "k_range = range(1,25)  # range of k values to try\n",
    "k_scores = []  # list to store k scores\n",
    "k_scores_list = []  # list to store k scores\n",
    "\n",
    "for k in k_range:\n",
    "    knn = KNeighborsClassifier(n_neighbors=k, weights='distance', metric='minkowski', p=2, n_jobs=4)  # create KNN model\n",
    "    knn.fit(X_train, y_train)  # fit the model\n",
    "    y_pred_knn = knn.predict(X_test)  # make predictions based on the model\n",
    "    k_scores.append(metrics.accuracy_score(y_test, y_pred_knn))  # get accuracy score\n",
    "    k_scores_list.append(metrics.accuracy_score(y_test, y_pred_knn))  # get accuracy score\n",
    "\n",
    "    \n",
    "plt.plot(k_range, k_scores_list)  # plot k scores\n",
    "plt.xlabel('Value of K for KNN')  # label x-axis\n",
    "plt.ylabel('Testing Accuracy')  # label y-axis\n",
    "plt.title('Testing Accuracy vs. Value of K for KNN')  # set title\n",
    "plt.show()  # display plot\n"
   ]
  },
  {
   "cell_type": "markdown",
   "id": "81743d05",
   "metadata": {},
   "source": [
    "From the results it can be inferred that a K value of 4-5 is best for this particular dataset."
   ]
  },
  {
   "cell_type": "code",
   "execution_count": 15,
   "id": "4c453f88",
   "metadata": {},
   "outputs": [
    {
     "name": "stdout",
     "output_type": "stream",
     "text": [
      "KNN accuracy is: 0.837896566710126\n"
     ]
    }
   ],
   "source": [
    "spam_neighbor = KNeighborsClassifier(n_neighbors=4, weights='distance', metric='minkowski', p=2, n_jobs=4)  # create KNN model\n",
    "spam_neighbor.fit(X_train, y_train)  # fit the model\n",
    "\n",
    "pred_neighbors = spam_neighbor.predict(X_test)  # make predictions based on the model\n",
    "pred_neighbors_score = spam_neighbor.score(X_test, y_test)  # get accuracy score\n",
    "print('KNN accuracy is:', pred_neighbors_score)  # KNN accuracy"
   ]
  },
  {
   "cell_type": "markdown",
   "id": "31a9a637",
   "metadata": {},
   "source": [
    "# Part 6: Support Vector Classifier\n",
    "\n",
    "Using one of the most powerful linear classifiers, the Support Vector Machine, we can create a separating hyperplane classifier.\n",
    "\n",
    "We can construct a hyperplane in a high- or infinite-dimensional space to be used for classification. Here we construct a SVM to attempt to create a classification model for the spam dataset. \n",
    "\n",
    "It can be seen that this method does not create a separation as well as the Neural net and KNN classifiers."
   ]
  },
  {
   "cell_type": "code",
   "execution_count": 16,
   "id": "eef45c69",
   "metadata": {},
   "outputs": [
    {
     "name": "stdout",
     "output_type": "stream",
     "text": [
      "SVM accuracy is: 0.717948717948718\n"
     ]
    }
   ],
   "source": [
    "from sklearn.svm import SVC\n",
    "\n",
    "X_reg = preprocessing.normalize(X)  # normalize data\n",
    "\n",
    "X_svm_train, X_svm_test, y_svm_train, y_svm_test = train_test_split(X_reg, y, test_size=0.5, shuffle=True)  # split data into training and testing sets\n",
    "spam_SVC = SVC(max_iter = -1, kernel='poly', class_weight='balanced', degree=5, probability=True)  # create SVC model\n",
    "spam_SVC.fit(X_svm_train, y_svm_train)  # fit the model\n",
    "\n",
    "pred_SVM = spam_SVC.predict(X_svm_test)  # make predictions based on the model\n",
    "spam_SVM_score = spam_SVC.score(X_svm_test, y_svm_test)  # get accuracy score\n",
    "print('SVM accuracy is:', spam_SVM_score)  # SVM accuracy"
   ]
  },
  {
   "cell_type": "markdown",
   "id": "011160d5",
   "metadata": {},
   "source": [
    "# Part 7: Principal Component Analysis\n",
    "\n",
    "> **Sources*\n",
    "CS345 Machine Learning Foundations and Practice at Colorado State University: Module02_05_nn_and_pca - created by Asa Ben-Hur and Ross Beveridge\n",
    "\n",
    "There are many ways to introduce Principal Components Analysis.  Here we will choose a rather visual and hopefully intuitive way of seeing what it means for a dimension to be a principal component.\n",
    "\n",
    "In particular, the first principal component has a ready explanation. It is the direction along which the sample variance of the data is largest.  To expand this sentence, consider all possible single dimension in a higher dimensional space. For all such dimensions the data may be projected onto that dimension and then the sample variance calculated.  Unless there are ties - equally good directions to choose from - then there will exist one unique direction that is better - higher variance - than all others. This is the first principal component"
   ]
  },
  {
   "cell_type": "code",
   "execution_count": 17,
   "id": "83708335",
   "metadata": {},
   "outputs": [
    {
     "data": {
      "application/vnd.plotly.v1+json": {
       "config": {
        "plotlyServerURL": "https://plot.ly"
       },
       "data": [
        {
         "hovertemplate": "color=0<br>x=%{x}<br>y=%{y}<extra></extra>",
         "legendgroup": "0",
         "marker": {
          "color": "#636efa",
          "symbol": "circle"
         },
         "mode": "markers",
         "name": "0",
         "showlegend": true,
         "type": "scattergl",
         "x": [
          -0.09570436743325106,
          -0.09674795900919912,
          -0.06427612188858173,
          -0.04336060295091374,
          -0.09510727938560842,
          0.028394420198183043,
          -0.050309110177644674,
          0.10313877162355393,
          0.37318109215228273,
          -0.09649722691331575,
          -0.08979593364507293,
          -0.08888791407102876,
          -0.0934312199092185,
          -0.08358456649480463,
          0.08087747307849641,
          -0.07079764959736781,
          -0.07860765932865076,
          0.04336044465032444,
          -0.039542262941016426,
          -0.066965025609995,
          -0.06852836448105294,
          -0.06006248024962281,
          -0.0944558994189174,
          -0.09751989030620047,
          0.46488783945488965,
          0.010014214440209758,
          -0.020098699557012177,
          -0.07696912899991598,
          0.35721945665653204,
          -0.03530953796692899,
          -0.0869395414072913,
          -0.09575722027394204,
          -0.08432913220525287,
          0.30078614153698285,
          -0.07502586393284517,
          -0.07895506093329956,
          0.03346741451761333,
          -0.07571512475824117,
          -0.010378315382757861,
          -0.010558713718677122,
          -0.08373059673389213,
          -0.002213579310934225,
          0.04557428391012996,
          -0.023797333402882877,
          -0.09261424072956387,
          0.03352434714266686,
          -0.0948361974794189,
          -0.08949497482121604,
          0.018092459692649693,
          -0.08286252907633172,
          -0.09444652995002843,
          -0.09233224172592512,
          -0.08477009308550026,
          -0.08825340729987477,
          -0.09479423316080511,
          0.04941013629545362,
          -0.09668958513498108,
          0.09891043652730647,
          -0.08078788634565291,
          -0.08004432084994703,
          -0.005491469496104878,
          0.037899596516732297,
          -0.08846453902759446,
          0.07522806009798647,
          0.03436415774958625,
          -0.09565044078962136,
          -0.0777935252772472,
          -0.09029664446047589,
          0.010896756792408752,
          -0.09684153598490858,
          -0.07695238437292842,
          -0.07792410190651752,
          1.1064535641870163,
          -0.08821002366025935,
          -0.04172005225056031,
          0.03228052598559742,
          -0.09678295836880874,
          -0.08400075604208103,
          0.03991251008223502,
          0.10925474613942414,
          -0.035785506684792974,
          -0.08104679339827388,
          -0.09670224927815639,
          -0.0759701410755973,
          -0.08561965423110242,
          -0.05728751917334742,
          0.015924750272155654,
          -0.00018013612149086417,
          -0.052431494737989616,
          -0.05219986349348344,
          -0.08786553478821763,
          -0.09366339830839682,
          0.23249120655471978,
          -0.012025821304024934,
          -0.08829212813770006,
          -0.01316279621306165,
          1.0235630455462639,
          -0.08722321152542813,
          -0.09428928778393217,
          -0.0298900252134291,
          0.1416681864662948,
          -0.08527957674644912,
          0.008571545773424059,
          0.03444694238301762,
          -0.07785165643478029,
          -0.06174522948304097,
          -0.09340749056546131,
          -0.0034892168737147475,
          -0.06473090108164781,
          -0.08805228954252022,
          -0.0777665291490523,
          -0.010205798005949816,
          0.034243836382882795,
          -0.046714950988644345,
          -0.0705126210237571,
          0.05094094596472427,
          -0.07600442429412164,
          0.041961114217302455,
          -0.08690284305479802,
          -0.07589572694604041,
          -0.08957069660537359,
          -0.08273867728171622,
          -0.09428344105193953,
          -0.06921107131482421,
          0.646087100120939,
          0.14942367983992036,
          0.12811232902051445,
          -0.026320503550677568,
          -0.08254368626524272,
          -0.07549461242335033,
          -0.0456596810777113,
          0.5909999272439046,
          -0.06912602188373021,
          -0.09679390350398244,
          -0.0688142939589012,
          -0.09181531125726473,
          0.2039749375670072,
          0.30078614153698285,
          -0.013168571642337775,
          -0.008780868866308949,
          0.137824000793943,
          0.059980238833492884,
          -0.08197261425128827,
          -0.05452661184124475,
          -0.05063245068185307,
          -0.005439047259419452,
          0.19553184554747433,
          -0.06982641252306616,
          -0.055107685728449186,
          -0.07045058387567106,
          -0.0669222489551195,
          -0.09705989178898859,
          -0.04433218872327822,
          0.5974642522932171,
          -0.07944052300515528,
          -0.08782264015958768,
          -0.04109400332481855,
          -0.09419219615293156,
          -0.07610168907417028,
          -0.07018385827644309,
          0.024161016810251557,
          -0.05361369383928303,
          -0.09212122510037936,
          1.1064535641870163,
          -0.04868332191713417,
          -0.0891203507122403,
          0.07549114600948137,
          -0.06920549526045452,
          -0.030790976122065977,
          -0.09047450744362351,
          -0.09695495489134939,
          -0.061307283974456055,
          -0.07188120518874805,
          -0.09615752437190433,
          -0.0836947738532713,
          -0.07894130744968608,
          -0.08591257568786351,
          -0.07055845973362045,
          0.010393116552568363,
          -0.0757650288466069,
          -0.09461822733755224,
          0.9154531015091709,
          -0.06614707360408469,
          -0.07829002838459652,
          -0.0940461419317278,
          -0.08672120814328708,
          -0.07780341468246899,
          1.1064535641870163,
          -0.07533175839393806,
          -0.014481147022665437,
          -0.05501543780367117,
          -0.08028362062754411,
          -0.07261331111222093,
          -0.07571543838876035,
          -0.05678361051674936,
          -0.04400025745264498,
          0.9708317909741109,
          1.1064535641870163,
          1.1064535641870163,
          -0.09382547787528003,
          0.045105374143714565,
          0.4643272861991274,
          0.032307598579184534,
          0.015405258210851208,
          -0.09699080275442451,
          0.47994381408582887,
          -0.08116236937570956,
          -0.021780954525857963,
          0.04420318733255806,
          -0.03823366438991761,
          -0.09149284587339705,
          -0.09283465410076443,
          -0.09356381995256532,
          -0.07547905542019098,
          -0.03326173743684501,
          0.027191197429004176,
          -0.06496159861502934,
          -0.094663635824408,
          -0.08533720201580648,
          -0.06182420027527209,
          -0.08315933135970854,
          0.04968696721135342,
          0.11582198602463396,
          -0.08571845279055079,
          -0.06701343658753947,
          -0.024739708623030595,
          -0.08346314892807004,
          -0.08097501804763646,
          -0.09116889806537347,
          -0.021857500092742545,
          0.16067057952418543,
          0.8769799199712256,
          -0.06388300184275306,
          -0.09565442834259262,
          -0.07713225097104329,
          -0.08159417673591321,
          0.030953373863648607,
          -0.0662864635511914,
          -0.07620673178329894,
          0.8319392360498842,
          -0.08989921477916503,
          -0.0880346798282499,
          -0.00018013612149086417,
          0.1266891405953933,
          0.07427458960773252,
          -0.08048764634217893,
          0.013646261673652457,
          -0.0972530403270619,
          -0.07557951492014438,
          0.11453234340749804,
          0.22889419008466186,
          0.12229368087562215,
          -0.09091478488927789,
          0.00970288939034991,
          -0.07005275416795927,
          1.1064535641870163,
          -0.0876338481905595,
          -0.051694782600211334,
          -0.033968696438916035,
          -0.06747726758210505,
          -0.05330932778249739,
          -0.08849671652653951,
          -0.09409858459575068,
          -0.07925346819315757,
          1.0790463915139343,
          0.05349389868709742,
          -0.061766459857263104,
          0.11748243135325404,
          -0.0051797577893843115,
          -0.09669998847036552,
          0.23969541430997895,
          -0.0958207620143596,
          0.8235139369175468,
          -0.08665020943186745,
          -0.07909463754437358,
          -0.06307638345577844,
          -0.07018090261467909,
          0.34311775092189756,
          -0.07885769502606636,
          0.06282256234900455,
          -0.09641770476904224,
          -0.08094788072680238,
          0.038165262195928217,
          -0.07367344468442123,
          -0.08063658215430215,
          -0.046145124932251244,
          -0.08135222805871863,
          -0.04355388081807586,
          0.0036122791871898517,
          0.30518839824529365,
          0.028336760724770746,
          -0.09637130242622673,
          -0.080367292549932,
          0.9249879919567479,
          -0.09407469172285757,
          -0.0957328948960459,
          -0.0804305668349874,
          0.00037237476153620635,
          -0.09624850154504674,
          -0.0954622853343668,
          -0.05904860093742835,
          -0.004635533274195771,
          -0.07177409785055704,
          -0.09590694397763455,
          0.09892296325997849,
          -0.06389145794904968,
          -0.09341555414644383,
          0.0495622844765726,
          0.14098699489263014,
          -0.06946333366150127,
          -0.08548744773597887,
          0.30078614153698285,
          -0.02683706993798468,
          -0.09022599745014069,
          1.1064535641870163,
          -0.08463097978742455,
          -0.0914557424093738,
          -0.05890737179147128,
          0.010043594860749301,
          -0.0880936286444083,
          0.2093450943150692,
          -0.009906299104003811,
          -0.024678035461220015,
          0.2958130642430297,
          -0.08108695258330972,
          -0.0645336091651256,
          -0.08252173066540534,
          -0.050564164653607184,
          -0.07874948108931007,
          1.1064535641870163,
          -0.08496576019638089,
          -0.08182951094277913,
          -0.07351248911300684,
          -0.08447568836190322,
          -0.09308788883811524,
          0.08044917568936794,
          0.2992749620989995,
          0.0162908030325514,
          -0.06615563723952064,
          -0.08966308610356415,
          0.44508192000657687,
          -0.04822483205220354,
          -0.04224744444044542,
          -0.09208903776340781,
          -0.06867549431610318,
          -0.019782523341455232,
          0.17507747388677106,
          0.06586965805790414,
          -0.09373299350815008,
          -0.09406595174148391,
          -0.0631781105163324,
          -0.06466560035524965,
          -0.06677675073835133,
          0.5790547931964759,
          -0.05964535270961869,
          1.1064535641870163,
          0.27307753024767245,
          -0.08726544326198744,
          -0.07717665319106931,
          -0.08690814193686235,
          -0.09138037444438031,
          -0.060978589000133525,
          0.028394420198183043,
          -0.06550022589302612,
          -0.0696648596639434,
          -0.06226413245219123,
          -0.09377131175821504,
          -0.07966228390416336,
          -0.08144853579330998,
          -0.010037592901787625,
          -0.0771423272868165,
          -0.06819717123512348,
          -0.09055921570325678,
          -0.06834782343234637,
          0.0011345734599399995,
          -0.07238026474073074,
          -0.09448579948747514,
          -0.08577578376894383,
          -0.06996727996596921,
          -0.0730705075953537,
          -0.08597382005425892,
          0.10854859377363231,
          -0.09444652995002843,
          -0.07667393723379391,
          -0.06351174604091417,
          -0.09648415823021023,
          -0.08630523331669547,
          -0.08911045121026119,
          -0.023143956136605543,
          -0.09422803804656196,
          -0.09653317711675774,
          -0.0631501051625861,
          -0.008926943432641334,
          -0.08252570717639274,
          0.1266891405953933,
          -0.061317585849218405,
          -0.07265798144722678,
          0.005912988932273161,
          -0.09613557930259015,
          -0.059849383904903415,
          0.07309237232278845,
          -0.08900600633934139,
          -0.08200367617384319,
          -0.09721052804530003,
          0.04206554172983188,
          -0.0269028764483092,
          -0.09728487621618653,
          0.30078614153698285,
          0.03358587589421486,
          0.06734675297850608,
          -0.08755412365840863,
          -0.00018013612149086417,
          -0.0789783008549239,
          1.1064535641870163,
          -0.051985316282474416,
          -0.06984199262359725,
          0.05107737818374193,
          -0.08544863627441497,
          0.13038708693250803,
          0.1431457647357015,
          0.24085658825118483,
          0.000764844125626985,
          0.30078614153698285,
          -0.089921726358662,
          0.2612839874729381,
          0.00006556263931201059,
          0.09673466569730128,
          -0.07019287466567778,
          -0.0858624044090187,
          -0.09118265078055737,
          -0.087472057606672,
          -0.08841427568199449,
          -0.03405220564151237,
          -0.09699398889048012,
          -0.09623977921068136,
          -0.0893979432326446,
          -0.08685073636776143,
          -0.074205842759505,
          -0.00018013612149086417,
          -0.08064755659678972,
          -0.05010392154272552,
          -0.06541683981396496,
          -0.049778328618641315,
          -0.02905661211184514,
          -0.09102423509089588,
          -0.05096926288847136,
          -0.09555251998123283,
          -0.07973925067920067,
          1.1064535641870163,
          -0.07591578185143179,
          0.035683301347846794,
          -0.09578568989672766,
          0.0116477553748067,
          -0.09596686857939986,
          -0.08049149997480363,
          -0.08331122171973492,
          -0.04616284694380072,
          -0.08317749443192257,
          -0.09566467402166864,
          -0.05629064838241401,
          -0.08427965746044258,
          0.043906556416443504,
          -0.08728617182883992,
          -0.08189771334827761,
          -0.08318406372474547,
          0.07344768890561208,
          0.018976585826487886,
          -0.08593370134721479,
          0.683858555047372,
          -0.050062166451761,
          -0.02647253377877829,
          -0.09614335830453127,
          -0.024649101429568936,
          0.13617675770916585,
          -0.09530061358543149,
          0.30078614153698285,
          0.02929038052380378,
          -0.09679717006468297,
          -0.0686294979068526,
          -0.028410659902448825,
          -0.08988051640518557,
          -0.02492768797186582,
          -0.06768819177852657,
          -0.08375578705050593,
          0.19954175030565138,
          -0.049499770798147866,
          -0.09725660976133003,
          0.02863781247766838,
          -0.08370738587437215,
          0.1374541083817915,
          -0.07224516863174106,
          0.14846177580281752,
          -0.09635631816797213,
          -0.06825257518112282,
          -0.09365306133051464,
          0.033818917334913094,
          -0.04605805115980965,
          -0.012427940073987655,
          -0.058176671194961734,
          0.1046101524467523,
          -0.09564238808684952,
          -0.04764463781052343,
          -0.09711796298442446,
          0.09970931920538322,
          -0.08408335879096368,
          -0.027609566492889617,
          1.1064535641870163,
          -0.07199925154429127,
          0.5504128814860069,
          -0.04223156499022979,
          -0.0016256221686731674,
          -0.08043922574474577,
          1.1064535641870163,
          0.044825816463080016,
          -0.02638288416867457,
          0.009774222516979488,
          1.0650003626985085,
          -0.07732426886847947,
          -0.07040016434872702,
          0.5663881657499593,
          -0.08693261493872564,
          -0.08472582907677953,
          -0.047521446482170604,
          1.1064535641870163,
          -0.07647802060864706,
          -0.09614750375282263,
          -0.09459623142630776,
          0.0007482001599652676,
          -0.023801282070579577,
          0.06334918097397821,
          -0.029889617052628336,
          -0.0641036814780142,
          -0.07993208920819085,
          0.11253682041895506,
          -0.002385881014667101,
          -0.08166143119591128,
          -0.06940173166404097,
          0.12249301257106081,
          -0.056854406006405074,
          -0.0022539113062865035,
          -0.09185897672960554,
          0.8966890114129145,
          -0.08522741006214613,
          -0.09489093105943623,
          -0.05713618971717826,
          -0.06682288572561708,
          -0.051817570411128576,
          1.1064535641870163,
          -0.07583366670878988,
          -0.06233023055614345,
          -0.06085098136919541,
          0.0032398675643017702,
          0.2108611783118463,
          -0.0814686453533474,
          -0.054329301206983975,
          0.023216402047336052,
          -0.02740318105860226,
          -0.09238141462548058,
          0.1411105201108397,
          -0.08499259298668796,
          -0.09216064059936545,
          -0.08519295762901853,
          -0.08836060820754067,
          -0.07037949971225263,
          -0.06911243577851835,
          -0.058860435286503136,
          -0.0579007817159636,
          -0.06393671096667844,
          0.09511733642559082,
          0.18198138817513346,
          -0.07136172078576923,
          -0.09549796551581478,
          -0.09150181006421672,
          -0.049133156456544265,
          -0.07736907301953432,
          0.30078614153698285,
          -0.09399982844165025,
          -0.0619443728823963,
          0.016187621579967216,
          0.3502163363030228,
          -0.08893777696327322,
          0.09176058522945536,
          -0.07578523241057007,
          -0.004961462433453111,
          -0.04235329439203465,
          0.3238299718877291,
          -0.05292361254060947,
          -0.05986427996899295,
          -0.08952558088214073,
          -0.08362131925753875,
          -0.07051063784746606,
          0.15777691634350274,
          -0.062372321195912385,
          0.42578109568039896,
          -0.06703284826207859,
          -0.07614900094164632,
          -0.07687997303930102,
          -0.08508423264759032,
          -0.08650343475182348,
          -0.09121645846004174,
          -0.02435032451804854,
          -0.0856747405965617,
          -0.09500831534053027,
          0.433044949448672,
          0.17284667096970358,
          -0.0252427784270738,
          -0.028738439273279494,
          -0.05246669571828256,
          -0.09382537937004755,
          -0.08915526339708785,
          -0.03585899014467296,
          -0.08605734175470982,
          -0.07703581518973075,
          -0.08652988241088112,
          -0.08845437702024403,
          -0.07943180100270553,
          0.4522227336891611,
          -0.09399877971426848,
          -0.03503004706616786,
          0.05097287603370277,
          0.05378482895418006,
          -0.07368167799364166,
          -0.07978171611647517,
          -0.08171710847485157,
          -0.07426022607391988,
          0.30078614153698285,
          -0.09454567939771856,
          -0.09485741438860669,
          -0.06870863994550659,
          1.01796379508622,
          -0.05462128169853246,
          -0.076826528602913,
          -0.04934679569385894,
          -0.07271988821400105,
          -0.03145326510693279,
          -0.09462471661950016,
          -0.09556191361545101,
          -0.08839783287512029,
          -0.01917693880720194,
          -0.014554263408861668,
          -0.026380785615363955,
          1.0079950190957447,
          -0.08521953173537102,
          -0.03683346211673609,
          -0.09665282618951182,
          0.1388587444719646,
          0.5663881657499593,
          0.044716826124179224,
          -0.09511116739871785,
          -0.06417539506722028,
          -0.07851148362218967,
          -0.049310924982317775,
          -0.0886491713138465,
          -0.09599938296294777,
          -0.0960386581256907,
          0.0413817152409789,
          -0.05594258238459694,
          -0.09301984616370318,
          -0.06993171678162892,
          0.38203581872290704,
          0.03823404612929979,
          -0.08419421137170684,
          -0.09392046347314759,
          0.9864845525904274,
          -0.04505690394710573,
          -0.0935673140622314,
          -0.01836329218624049,
          -0.09432046803938594,
          -0.024092424733219743,
          0.251918754024505,
          -0.00018013612149086417,
          -0.09614631709993332,
          -0.02740683575616398,
          -0.009720183091651817,
          -0.07848593314277734,
          -0.080607760129267,
          -0.07148424050250987,
          -0.08710314289145372,
          -0.05392245715648325,
          -0.06602857746111718,
          -0.09276340606873439,
          -0.09513716582327515,
          -0.07701676550808198,
          -0.08929136000589898,
          -0.096334002268014,
          -0.08853076765628216,
          -0.03933801080905402,
          -0.08471749366478366,
          -0.0825088760070709,
          -0.08864315208067951,
          -0.08533563507237972,
          -0.0859947427277792,
          -0.09742071334301394,
          0.04516295318644989,
          0.2611784226508734,
          -0.09427952081779624,
          -0.09336279687584233,
          0.28136827988864105,
          -0.06744669771378374,
          -0.043073382811619175,
          -0.06985083577404798,
          0.0010769264624284195,
          0.30078614153698285,
          -0.09700352751340476,
          -0.06572300585011978,
          -0.06251327098469357,
          -0.054874285443050515,
          -0.08758290316553423,
          -0.08927154530422024,
          -0.05219986349348344,
          0.4507735193186896,
          -0.09172486028225384,
          -0.004444912604010916,
          -0.07923639217457112,
          0.37155218405110657,
          0.6218120018119196,
          -0.07948122198516214,
          -0.09098894263259391,
          -0.08020626112935288,
          -0.08080724487700462,
          -0.037345958454513176,
          -0.0035869408659300423,
          -0.026643866784289847,
          -0.09308066739671056,
          -0.048039194508159966,
          -0.09290275899423052,
          -0.0602330907650965,
          -0.013111558579655359,
          -0.09467851768519757,
          -0.09571162595959687,
          0.013641754595369827,
          -0.08276304749222832,
          0.14942367983992036,
          -0.055394043768857475,
          0.023216402047336052,
          -0.024288650401283644,
          -0.0551045496466837,
          -0.04837604214194976,
          -0.05632353030451266,
          0.19617776377121765,
          0.008853860338985614,
          0.08152471809483201,
          1.1468558297211073,
          -0.07155560217969206,
          -0.04394350736571088,
          -0.07632259351512957,
          0.30751399648245253,
          -0.08509833541020008,
          1.1127003298133311,
          -0.08961891879575494,
          -0.06741007543818107,
          -0.07788115182254343,
          -0.09391082981485657,
          -0.05908692520252202,
          -0.09209383739931434,
          -0.04035438054518073,
          -0.06850791980454538,
          -0.07643062793370525,
          -0.08279330142173459,
          -0.08143598251536302,
          0.04251334303769233,
          -0.06729572514223808,
          -0.07458508400890554,
          -0.06628418568168604,
          -0.08150982301204918,
          -0.09106827573133489,
          0.1712027645522142,
          -0.05605755478639712,
          -0.06254215374536215,
          -0.09621187261695699,
          -0.020388021851506163,
          -0.06910440641263119,
          -0.07396423886596613,
          -0.018717629233816018,
          -0.059953116837638036,
          0.008209589071294907,
          0.05579391280915588,
          -0.06910483893729963,
          -0.0010501716814496137,
          -0.09619753923865788,
          -0.09643341336937807,
          -0.061199467194978055,
          0.2618573587680073,
          -0.0860418511410007,
          -0.08553172256469609,
          -0.09475667310234756,
          0.1160134840039447,
          1.1064535641870163,
          -0.07945714853269924,
          -0.0006046094070241742,
          -0.05767156452835818,
          -0.07064555105766746,
          -0.06886934511102756,
          -0.09360247729291855,
          -0.08876724498491646,
          0.010054165361858252,
          -0.06308430341025424,
          -0.04274389851906143,
          -0.07276930000866383,
          -0.08112304064232302,
          -0.08422923073890606,
          0.012532069791930446,
          -0.094768311721131,
          -0.04936525764020144,
          -0.051512588030113625,
          -0.09261720655105597,
          -0.027193282110023597,
          -0.06929320476605261,
          -0.041253701027352804,
          -0.07606680549352733,
          -0.004015957588419682,
          -0.07264848717215551,
          -0.01308926173655753,
          0.26686669925328377,
          -0.06688218613566818,
          0.09137698980665299,
          -0.05785927755337081,
          1.1064535641870163,
          -0.0804373109894031,
          -0.08965479506053174,
          -0.09148358140636323,
          -0.09526549570920949,
          0.023216402047336052,
          -0.07178048595644035,
          -0.015385751099144704,
          -0.09749308998358416,
          -0.08020242682332833,
          -0.09087143430105649,
          -0.09472017711450796,
          -0.07984412836677778,
          0.6622856869341014,
          -0.06070168838023501,
          0.023835528877436403,
          -0.07913613572045797,
          -0.0156358991666024,
          -0.057089771740563684,
          -0.09708955261557,
          -0.07728581215078999,
          -0.051818421891132824,
          -0.05744337604499746,
          1.2327906352540066,
          -0.042032516879654536,
          -0.031116862620842168,
          -0.09011002989940436,
          -0.038328545589375755,
          -0.06747886574212585,
          0.08439080138786403,
          -0.0352746365138031,
          -0.08135647746968865,
          0.6712461223245029,
          -0.08410505354847672,
          -0.018424331211957745,
          -0.030201533512130424,
          -0.08459580871620916,
          -0.09246840865309242,
          -0.04286608442293756,
          -0.09193555430462048,
          -0.09570530784127868,
          -0.03385814917507382,
          -0.04179376212085457,
          -0.045275538657359775,
          -0.09257078525721352,
          -0.09239607990381173,
          -0.06270462634788464,
          -0.0225552727404366,
          0.023671624628730317,
          -0.08429622959830252,
          -0.08795864879508279,
          -0.06818381042319248,
          -0.079390454751371,
          0.028663955711698875,
          0.010518484071188114,
          -0.06227152450710585,
          -0.04598645797730785,
          -0.09522674171124615,
          -0.09136126232405635,
          -0.09419098713033441,
          -0.059618655307176104,
          0.10003080776433679,
          0.5974642522932171,
          1.1064535641870163,
          -0.08988051640518557,
          -0.09354494740208989,
          -0.05249977354703507,
          -0.0959125933832434,
          0.7038746914830946,
          -0.07919414643567946,
          -0.02397022600749493,
          -0.0006861190523191214,
          -0.07367070166372218,
          -0.0905574453863522,
          1.1064535641870163,
          -0.07416333486220213,
          -0.0805473438189367,
          -0.012676111606787655,
          -0.09251253363479514,
          -0.04550259342719866,
          0.01023948395363468,
          -0.07519907098802008,
          -0.005427732884199559,
          0.28441318141350813,
          -0.06628018276484103,
          -0.06715850737337796,
          0.03893163093028419,
          -0.06292844839222209,
          -0.02896123550549718,
          -0.030833220796814522,
          0.022515917956452688,
          0.27486425328111136,
          0.060230549530688536,
          -0.09440544245965611,
          -0.08826835082275626,
          0.0740258327676965,
          -0.09574407670471445,
          1.1063225721856713,
          0.010393116552568363,
          -0.09261738793633413,
          -0.08793054711404162,
          1.1064535641870163,
          -0.0932448333450023,
          1.0659306465340548,
          -0.05506943339176076,
          -0.054121941214655446,
          0.009848157970548558,
          -0.09306653944005347,
          0.26655872664179064,
          1.1127003298133311,
          -0.07728103248729584,
          0.30078614153698285,
          0.08190363639541386,
          -0.04798275425166802,
          -0.08497298950661505,
          0.30078614153698285,
          -0.09646324973236066,
          0.018560476944854375,
          -0.08565590575737686,
          0.007695837784072001,
          -0.04256996098106129,
          -0.08583069738119169,
          -0.08951841559463533,
          -0.06443199019048691,
          -0.08375267730872468,
          0.30078614153698285,
          -0.0821017926435624,
          -0.08308643312611785,
          -0.09011621395520793,
          -0.02414590605719314,
          -0.06981286255943209,
          -0.08101435568923242,
          1.1064535641870163,
          -0.09318801216457213,
          0.5655626802534576,
          -0.06650017939468923,
          -0.05779767200389318,
          -0.029926111787854474,
          -0.08133338136082553,
          -0.08825340729987477,
          -0.07486097838656812,
          0.12409780782873807,
          -0.09565126870820333,
          -0.060018709622539766,
          -0.08017491048217636,
          1.0659488033739668,
          0.10163420975239155,
          -0.0959083151047735,
          0.2002193551521389,
          -0.09487230832032773,
          0.08383154691831003,
          0.001366515560001836,
          -0.09070122252154991,
          -0.08041563351945566,
          -0.06270361002031875,
          0.25243639826745856,
          -0.03774437518556953,
          -0.08186102443462819,
          0.40515895100900157,
          0.5263513923764682,
          -0.08963312859267171,
          -0.09516467929540352,
          -0.07731543485631043,
          -0.08950663524107931,
          -0.08938167283772937,
          -0.061129779028239725,
          -0.09137563070086606,
          -0.07243000301880506,
          -0.02530912601114124,
          -0.04843653761432208,
          -0.06202404634982154,
          0.3211707211211343,
          -0.08470682902366358,
          -0.03071437760887089,
          -0.089965127826893,
          -0.08643159796921251,
          -0.06763024892157904,
          -0.01722535832056521,
          -0.09476968748126391,
          1.0790463915139343,
          -0.09501097579802269,
          -0.0926526918372341,
          0.13425750682622634,
          0.02595652468252978,
          0.11906807348872771,
          -0.05980933628322697,
          0.013189565502728737,
          -0.05102007564624647,
          -0.06957026202111277,
          0.30078614153698285,
          -0.05357810403360316,
          0.07858888510877592,
          -0.0648389197129273,
          -0.056418833645619164,
          -0.07602492345811512,
          -0.053395586459928826,
          -0.09544673434871738,
          -0.05720179275273121,
          1.1784188394694244,
          -0.09578720152109121,
          0.321097737860333,
          0.14874171560372748,
          -0.07876871764044649,
          -0.006375587149505775,
          -0.058418299393669514,
          -0.01808287201785679,
          -0.0802238024543416,
          -0.09344199129012831,
          -0.05622774970189057,
          -0.03360058183833818,
          -0.06745420734130748,
          -0.09666134745616449,
          -0.09334895130518792,
          -0.08586278900005773,
          0.05499161471095413,
          0.004680713113073034,
          0.01373813963285623,
          -0.09316650987904003,
          -0.015747787230580016,
          -0.09591247772881384,
          -0.015617471126017315,
          -0.06283941884624067,
          -0.07590408412528866,
          0.0018569268017499508,
          1.0790463915139343,
          -0.07775873123090027,
          0.034310829879688406,
          -0.053167844517598116,
          -0.04863130638284749,
          -0.08328444047244069,
          0.00018815491940289111,
          -0.06684022555859753,
          -0.06279867724576323,
          -0.09507426660564315,
          0.018976585826487886,
          0.20996589604208943,
          0.035225503862146575,
          -0.011369527307800957,
          1.1064535641870163,
          -0.09713194253909732,
          0.06194211425576347,
          0.2447653439356122,
          -0.07713225097104329,
          0.10933642462264848,
          -0.08762410863960018,
          -0.03263383603288241,
          -0.08547239707454211,
          0.31646016677937244,
          -0.09232273092950463,
          -0.08284725889944479,
          -0.09629069475202545,
          0.06764822313312971,
          -0.08124370424830975,
          -0.08067271689035181,
          -0.06786641689600054,
          0.0006694534717008854,
          -0.06736540323528917,
          0.1791933956913585,
          -0.015044115685444889,
          0.1692757925608269,
          -0.04454148030976886,
          -0.08823668114720162,
          -0.06789411722899434,
          -0.08266609142176196,
          0.016082494519854326,
          -0.013384364762707025,
          1.01796379508622,
          1.1064535641870163,
          -0.09231622675293429,
          1.1064535641870163,
          -0.09017220950803977,
          -0.05846930353430313,
          -0.08981944266596628,
          -0.07636214460636911,
          -0.0022605584762787714,
          0.6366028362282083,
          0.14649122466199868,
          0.027994163993168956,
          -0.03411060893434839,
          -0.002320014972559217,
          -0.060590867430997765,
          -0.08801988680539975,
          -0.022861944759188402,
          -0.08781586174495705,
          1.1064535641870163,
          1.0659306465340548,
          -0.05161900554128941,
          -0.06956159806122057,
          -0.07706993516874243,
          0.30078614153698285,
          -0.06188741466779182,
          -0.07735934014225113,
          -0.07038701735666597,
          -0.09754060497382702,
          0.06738465598828129,
          -0.08430386587416283,
          -0.096134233430729,
          -0.0946342953208157,
          0.2427064927451465,
          -0.07811663447672607,
          -0.07782242706530969,
          -0.09678353583235617,
          -0.0353776981877153,
          0.8846311713206939,
          -0.0180432802010432,
          0.23702882159753602,
          0.49980366166735846,
          -0.08968616074622893,
          0.30078614153698285,
          -0.00018013612149086417,
          -0.07963532933311034,
          -0.0762051293678863,
          0.006471193306028635,
          -0.08606544184221991,
          -0.0839854198248991,
          -0.03204401295369795,
          -0.06992017479048783,
          -0.03405220564151237,
          -0.08959950758155086,
          -0.00018013612149086417,
          -0.05241595742425868,
          0.026642610482309717,
          -0.0754611768599053,
          -0.0854699831840752,
          -0.07825691702594659,
          -0.05561139066230979,
          -0.08109901828883855,
          -0.015682174260442053,
          0.0027098382450667616,
          -0.0220721867073364,
          -0.09067788127853932,
          0.014568394718025715,
          0.13767905833329394,
          -0.09218247174756493,
          -0.09472618242546271,
          -0.09698361109842044,
          0.4832082167892837,
          -0.0657433118744548,
          -0.08563146069756118,
          -0.0876404450684621,
          -0.08696178625670863,
          -0.04536965156571256,
          -0.035668676494820244,
          0.36399284298035645,
          -0.07355847054896475,
          -0.061048975666193404,
          1.2327906352540066,
          -0.09379945353651196,
          -0.09473719638397561,
          -0.07217076663564959,
          -0.004411130624026945,
          -0.07136129701419583,
          0.05273554439338605,
          -0.0837025322240627,
          -0.047000248328340745,
          -0.08667257377855199,
          -0.09630876099922442,
          -0.08718672435890498,
          -0.06416175167263338,
          -0.08234102110242263,
          -0.08722728095052396,
          -0.022113453022692655,
          -0.050266085720254684,
          0.022604131568009535,
          -0.07898351181115197,
          -0.008552263698705053,
          -0.08066738230814384,
          -0.09701353133921332,
          -0.053474348916603194,
          0.2860860878283183,
          0.3417627065737821,
          -0.08978780043171739,
          -0.08297538212527081,
          -0.0964084084168279,
          -0.08780223379144403,
          -0.03969763404044291,
          -0.09738411988214432,
          -0.08303210473805545,
          -0.051694782600211334,
          0.7467306252330552,
          0.01533154910255992,
          -0.00324544867436673,
          -0.048190871192249324,
          0.5110726556512406,
          1.1064535641870163,
          -0.09285795009384264,
          -0.03522200272676244,
          -0.0774415231380523,
          -0.08865079987483293,
          0.05097287603370277,
          -0.07699832868988991,
          -0.09195656188130912,
          -0.059550393769303954,
          -0.02932713905253973,
          -0.031421043575833835,
          -0.04370083739092663,
          -0.05219986349348344,
          0.08984929212349395,
          -0.09573392090083893,
          -0.07995197122785026,
          0.0011527526679647366,
          -0.0753183583958198,
          0.04548020430215811,
          -0.04789459061455598,
          0.29946294761071146,
          -0.08934028250961415,
          -0.08137014927257016,
          -0.05226349757761421,
          0.9154531015091709,
          -0.08471617274864987,
          -0.022796981772289483,
          -0.09383409406616927,
          -0.09594045439868465,
          -0.05105382733933994,
          -0.07935017782723834,
          -0.07117897763710906,
          -0.09574254776757107,
          -0.08408553386099522,
          0.17512335347186309,
          -0.07334061049236139,
          -0.09173741854112222,
          -0.07964963541079385,
          0.26993013698871204,
          -0.07837827015177526,
          -0.08505768880763498,
          -0.06660368494548304,
          -0.032501944205457066,
          -0.08879492590240737,
          -0.027994278445271876,
          -0.06615683716857201,
          -0.08050779361563758,
          -0.08589485832296594,
          0.30078614153698285,
          -0.05243215345910467,
          -0.08064379351000471,
          0.023216402047336052,
          -0.09480471682198637,
          -0.05287558021433519,
          -0.03633208796509544,
          0.5662785833799883,
          -0.04400025745264498,
          -0.07241151112773729,
          -0.06470320054470506,
          1.1064535641870163,
          -0.09566836338953927,
          -0.047824314162469274,
          -0.09265380077671403,
          -0.07167313904310822,
          1.1127003298133311,
          -0.07176796169949547,
          -0.09441164431132287,
          0.008960196638297903,
          -0.014734146198570289,
          -0.05219986349348344,
          -0.09563697984825616,
          -0.0904803476387321,
          -0.08742624139828623,
          -0.028208499637362525,
          -0.0794441442596753,
          0.3578811449313279,
          -0.05811379317431744,
          1.1064535641870163,
          -0.07858528209726401,
          -0.05840747588677314,
          -0.07738732183936405,
          0.2109269983791951,
          -0.04193237551226226,
          -0.0637158452994352,
          -0.08064826728064577,
          -0.06345032044735653,
          -0.09727779495866672,
          -0.05758519315840619,
          -0.012842891075309793,
          -0.08777231570549655,
          0.016749997714144736,
          -0.07314955554306918,
          0.034677457407161584,
          0.14942367983992036,
          1.1064535641870163,
          -0.06351457200140181,
          -0.08759368173400697,
          -0.03492125396213677,
          0.3781884535348151,
          -0.0836060337421169,
          -0.08118269935632152,
          0.0007613870684431218,
          -0.07697991904780456,
          0.26623451899416073,
          -0.08309893196554359,
          0.07637753374907552,
          0.1266891405953933,
          -0.09526437916277264,
          -0.018036557418162572,
          -0.04020454775427497,
          -0.06619702477570122,
          0.03189304599468027,
          -0.025752907014022813,
          -0.09349550242806688,
          -0.09370543011682704,
          -0.07086083484073935,
          0.4375491697967676,
          -0.013711254412802725,
          1.1127003298133311,
          -0.05057674637754598,
          -0.08630369821946601,
          -0.0740253536843399,
          -0.08256372876978936,
          -0.055671545725623904,
          -0.08282446060827457,
          -0.04404850194314818,
          -0.0027360271655549077,
          1.1064535641870163,
          0.4564235723378895,
          -0.03953462596876903,
          0.37155218405110657,
          -0.051278842005271545,
          -0.02184424093383591,
          -0.08360422467214595,
          -0.013274984841407073,
          -0.06265577193219328,
          0.22945524263426897,
          -0.0840992177343475,
          -0.05509240313183392,
          -0.08462198577876605,
          -0.09350132704468221,
          0.15914450566408617,
          -0.09375256661602625,
          1.1064535641870163,
          -0.05216321108673239,
          0.05097287603370277,
          -0.0691335531221048,
          0.023216402047336052,
          0.1150446653010428,
          0.29523910620515675,
          -0.07368728737667306,
          0.36559100317627174,
          -0.06714717899446628,
          1.1064535641870163,
          -0.09027815798261936,
          -0.09195656188130912,
          -0.08657541458343332,
          -0.043643748640773763,
          -0.08538730564306214,
          0.001968792635027085,
          -0.07819322889325044,
          -0.0880281038429221,
          0.029028836544056226,
          -0.08155972873037406,
          -0.06162636274971902,
          0.06124824800009406,
          -0.08488308332794388,
          -0.09571902248664141,
          -0.0927540364833946,
          -0.034201021325245246,
          -0.09252193198524505,
          0.0392809932174541,
          -0.07532527230474403,
          -0.06070168838023501,
          -0.09541420350990147,
          -0.09108714871878332,
          0.4576212952491679,
          0.031469883117352736,
          -0.06250936159010669,
          -0.09513172585126706,
          0.24085658825118483,
          0.023216402047336052,
          -0.0968514350439334,
          -0.08800519787517527,
          -0.09201151571479067,
          -0.08545526057066793,
          0.5298548651613093,
          -0.0368463534571618,
          0.06199146827150637,
          -0.08278134159200005,
          -0.0031574011895850315,
          -0.08980029890050834,
          -0.08897072284156544,
          0.10364477500659507,
          -0.09415395227581481,
          -0.07600042062447389,
          -0.0610662483187067,
          -0.0930002789137051
         ],
         "xaxis": "x",
         "y": [
          -0.16001243309111102,
          -0.17173809167554346,
          -0.03669698832786917,
          0.1316056890804593,
          -0.14635092811448872,
          0.09764687018776672,
          0.016295370428344495,
          0.10856231410182375,
          0.06719727440284158,
          -0.1687641944735173,
          -0.1255970092994067,
          -0.11077677811192074,
          -0.13024950741210267,
          -0.1149331464378911,
          0.4158571610778771,
          -0.013572236597611092,
          -0.04924372909502102,
          0.27621946736269165,
          0.1425821920568813,
          -0.019226438454715805,
          0.0025487201123634675,
          -0.04542491931344033,
          -0.14271645692308776,
          -0.19164535646394265,
          0.1237439270616693,
          0.09152638021190354,
          0.0678380389141717,
          -0.05969940695864243,
          0.057680386990868124,
          0.14579697068451714,
          -0.16437509330609867,
          -0.16098972866144495,
          -0.1276717882743785,
          0.2267250530902184,
          -0.09766425552062044,
          -0.09083747320807652,
          0.07596455005835748,
          -0.030934467996422844,
          0.055859130270911064,
          0.2087594064954879,
          -0.10597776976559338,
          -0.09466695069006838,
          0.25897156692091355,
          0.15629313005756384,
          -0.1411305734267319,
          0.3277455644695808,
          -0.14638940719746346,
          -0.12111517915306695,
          0.13709797701191315,
          -0.06579366174670648,
          -0.14937381232966662,
          -0.12772975795068847,
          -0.10692990146123524,
          -0.0826048649772769,
          -0.14986629697994835,
          0.158581480391748,
          -0.17728983744914184,
          0.040170237525638426,
          -0.06537363479113469,
          -0.11258907201198765,
          0.05964079057428887,
          0.26772122569805246,
          -0.11429392188150052,
          0.3436311130773213,
          0.16419096852826717,
          -0.15746702902701262,
          -0.10290662275279758,
          -0.11101705499846878,
          0.27947665307714037,
          -0.1736780189417177,
          -0.10101488602594692,
          -0.07113739145261908,
          -0.2767430322329949,
          -0.1229741797316779,
          0.04510394274862083,
          0.009921940835071037,
          -0.18393658950173555,
          -0.08597225915814523,
          0.04532908307365851,
          0.44278504795462337,
          0.14769811018294132,
          -0.04161846285849372,
          -0.17031429017430252,
          -0.05564190710466737,
          -0.10984303607360164,
          -0.044063566971176214,
          0.03443859326326789,
          0.1460351031236982,
          0.07119866515318285,
          0.015450255565477798,
          -0.09499299690707413,
          -0.13562745630437364,
          0.026480653087022275,
          0.2007127743031223,
          -0.09813823996062235,
          0.17992397668631704,
          -0.15243078376170968,
          -0.07852706135220965,
          -0.13825344007501034,
          -0.10259413266507976,
          0.45721240482350084,
          -0.07701811446708391,
          -0.06788357555245458,
          0.2691107166605645,
          -0.040003139496685894,
          -0.026157170887241257,
          -0.131091120528642,
          0.22024045470409837,
          0.027220853872470814,
          -0.09392705086667191,
          -0.0133873479945496,
          0.23013006304532532,
          0.0865349998695122,
          0.08540594552721976,
          0.004756820732474416,
          0.0870926226547467,
          -0.053661709803209286,
          0.1441558190901143,
          -0.12468072209646167,
          -0.019176535063999467,
          -0.09606354362716094,
          -0.10180538631582957,
          -0.14068049804301785,
          0.01779285173716189,
          -0.2474042257766389,
          0.09725472483447373,
          0.33628737672274955,
          0.17897688568797424,
          -0.09295646547193315,
          -0.05791952939863036,
          -0.029939544589911975,
          0.1321557247867275,
          0.0147059653959238,
          -0.18650322431854222,
          0.004289008420976694,
          -0.11616829226811633,
          0.4100855103332204,
          0.2267250530902184,
          0.18447009258921818,
          -0.10829116785504708,
          0.48150742495763577,
          0.1858286061040613,
          -0.03846556023272892,
          0.04885854917879114,
          -0.02176502091886261,
          0.03176318034132466,
          0.5033458415390926,
          -0.045190402646180745,
          -0.08331104982536564,
          -0.003968130708865161,
          0.023513757804528215,
          -0.17892619845491708,
          0.0872632529323237,
          -0.0955298751944601,
          -0.11174419919735888,
          -0.08130334284258205,
          -0.009368285320264895,
          -0.14782174626225467,
          -0.14647264763044357,
          -0.06350826297788788,
          0.01868669547654768,
          -0.051572475302773944,
          -0.1362961664263752,
          -0.2767430322329949,
          0.11135213804458295,
          -0.11863391947635246,
          0.1977543412527608,
          0.007476682924003044,
          0.15060871747124002,
          -0.10437225193452554,
          -0.18045209884773467,
          -0.01450596968355629,
          -0.04355816973710436,
          -0.16167110681839547,
          -0.10937592186716052,
          -0.09660368772046073,
          -0.07275204082795127,
          -0.0201259072126401,
          0.25375043200568875,
          -0.03746162934194154,
          -0.16885324069562774,
          -0.27936699363631445,
          -0.08022434264554153,
          -0.10039439806281332,
          -0.14937586946634537,
          -0.08268832397084375,
          -0.04353008526687635,
          -0.2767430322329949,
          -0.034958076690004634,
          -0.08549180669239827,
          -0.06057595217897468,
          -0.09276514656670581,
          -0.05589045566087657,
          -0.04189120948003757,
          0.053311115784753726,
          0.08312786596512128,
          -0.275804093180341,
          -0.2767430322329949,
          -0.2767430322329949,
          -0.1704014255008072,
          0.29790105072261425,
          0.1610296821284278,
          0.28513281769118975,
          -0.07691638568829902,
          -0.1813311382561019,
          -0.01770085976861381,
          -0.06067590208195642,
          0.009056145873397644,
          0.2322495353499054,
          0.14905206280333944,
          -0.14487345027216597,
          -0.12964421163826723,
          -0.13338852070307772,
          -0.02525775479857197,
          -0.10970044746207097,
          0.3139165265219854,
          -0.05131326658853859,
          -0.1593677110601689,
          -0.05769111793501469,
          -0.030464295954228993,
          -0.07642858997092834,
          0.05878046876386854,
          0.17746455759793653,
          -0.093994758407761,
          -0.020666637520400086,
          -0.012845358666010956,
          -0.08668205288931591,
          -0.10915363652226885,
          -0.12188154968761077,
          0.11985095891949364,
          0.23833229856711224,
          -0.09377115196164994,
          -0.04964221577701875,
          -0.16364842630549956,
          -0.0076533309484131265,
          -0.07061173049300278,
          0.30967790167251713,
          -0.0033205003014442833,
          -0.03342546262693908,
          -0.18919699031908682,
          -0.16567773585210863,
          -0.09900476705218378,
          0.1460351031236982,
          0.42434545821273567,
          -0.019899348586062356,
          -0.04931689083191585,
          0.0777793604298704,
          -0.1873392107715469,
          -0.023327549243229568,
          0.09588770338676775,
          0.006719787102360068,
          0.1032453779536559,
          -0.13024229729232628,
          0.21146572491204949,
          0.0008383902278823482,
          -0.2767430322329949,
          -0.12306004335804394,
          0.0863878487983643,
          0.032355071398377414,
          0.013266195196421235,
          -0.004656884459463357,
          -0.09293644664567849,
          -0.15159523403794553,
          -0.038230448824524414,
          -0.14027400005054785,
          0.25549461792773276,
          -0.09395022027812627,
          0.08897714690133668,
          -0.03315469255246414,
          -0.1749062767947202,
          0.13424033293327034,
          -0.1682214365693415,
          -0.09341127017461032,
          -0.1643244406221558,
          -0.026031817106692407,
          -0.019671772289535035,
          0.022186609446793307,
          0.08594186491583787,
          -0.06543925686061898,
          0.2336249296637207,
          -0.1694581742660304,
          -0.04681356374220127,
          0.34370541855973646,
          0.009980537729418182,
          -0.03687089826060839,
          0.11815732981325279,
          -0.1293386491583698,
          -0.015972395856892405,
          0.2651799614317385,
          0.46182950431114633,
          0.016103666481103496,
          -0.17028344994783873,
          -0.11695444468253753,
          -0.27105217721423097,
          -0.16675401301014112,
          -0.16255147377196003,
          -0.0782000559114592,
          0.2532748609547419,
          -0.1721527210963162,
          -0.17452823566744094,
          -0.08683465424315859,
          0.1868000125073567,
          -0.05852946575342606,
          -0.17136231783546904,
          -0.02016690583381902,
          0.041530399992173936,
          -0.14029083580861235,
          0.2940921189719931,
          -0.004458845430492811,
          0.024695751575429525,
          -0.08428467354556499,
          0.2267250530902184,
          0.056493209309856476,
          -0.10787773646702684,
          -0.2767430322329949,
          -0.07267078714448938,
          -0.11389523145606346,
          0.062422601299890156,
          0.1294590169846549,
          -0.08609558940925044,
          0.03571710387641552,
          -0.015019725115935604,
          0.037617573253879745,
          0.14589923665099985,
          -0.04685962780680195,
          0.00878783898737058,
          -0.06154999811816673,
          0.011426760062299205,
          -0.02173922820613853,
          -0.2767430322329949,
          -0.07137651467841942,
          -0.15952380233051433,
          -0.05804117007621233,
          -0.06388662762003004,
          -0.151196426296172,
          -0.06752931855998905,
          0.1094396880137847,
          0.2306676796275799,
          0.01815986295831753,
          -0.11423866293068487,
          0.07715461735718014,
          0.003774439060166691,
          0.1242599026854712,
          -0.1207686772249293,
          -0.00480809081004128,
          -0.07715960123699848,
          0.3850569797808877,
          -0.030994460892079308,
          -0.13469468233579862,
          -0.14479483565279103,
          -0.06257472987087345,
          0.0032862427271726537,
          0.011497563377103323,
          0.16682883698672102,
          -0.013663769599435199,
          -0.2767430322329949,
          -0.1279303945475967,
          -0.12072574396873045,
          -0.03395495400988012,
          -0.07111929663926984,
          -0.14892934557924659,
          0.01843949309208392,
          0.09764687018776672,
          -0.082050141081114,
          -0.023364906948373416,
          0.058497767366286965,
          -0.1435930469767645,
          -0.048894376072076064,
          -0.06291045510574575,
          -0.08925443640943706,
          -0.03336651899749822,
          -0.10898688078444767,
          -0.11104142950047811,
          0.016416494676575136,
          0.252433310200875,
          -0.047374305955224044,
          -0.14059266521558045,
          -0.06276480969869773,
          0.009312784640309007,
          -0.03546328420760405,
          -0.07980411429808187,
          0.29061982953063104,
          -0.14937381232966662,
          -0.03171114659140117,
          -0.08564362240383011,
          -0.17285073077775662,
          -0.13232331505078668,
          -0.11341094610863234,
          -0.04319706011821656,
          -0.15556398375426272,
          -0.17091747829143986,
          0.02534877947161188,
          -0.08583216159145826,
          -0.1204248174879549,
          0.42434545821273567,
          -0.028048187672323022,
          0.008652404230146024,
          0.08798636212351901,
          -0.16519477955989467,
          -0.08949643697200306,
          0.4073999774239291,
          -0.096286421643836,
          -0.043391638218528227,
          -0.18768314941874012,
          0.11171793411974183,
          -0.005503719521349955,
          -0.18459833577921994,
          0.2267250530902184,
          0.11204604065985392,
          0.15171978712546477,
          -0.10740313615737855,
          0.1460351031236982,
          -0.017251608898711406,
          -0.2767430322329949,
          -0.024373670524350962,
          -0.019771334200947097,
          -0.028074131691771195,
          -0.08272248162879373,
          -0.023140468332281672,
          0.04951636244471183,
          0.43172577035288645,
          0.25426274673206406,
          0.2267250530902184,
          -0.10887914273980119,
          0.0014743502388177131,
          0.25119722942020023,
          0.41767916345815576,
          -0.12008822218966929,
          -0.06659086708313422,
          -0.11486874938340569,
          -0.13978730269060927,
          -0.11541481452672626,
          0.06648671632024779,
          -0.17812469725618976,
          -0.1706356134052739,
          -0.11011763728148255,
          -0.07105940067543635,
          -0.002923437501988069,
          0.1460351031236982,
          -0.12165076054216457,
          0.02634870529364418,
          0.011372888980570931,
          0.06782646174703157,
          0.08643752724741224,
          -0.14341120568800003,
          -0.016343193500853906,
          -0.15544874479661736,
          -0.03178946958862044,
          -0.2767430322329949,
          -0.026494158046266203,
          -0.036755224088082815,
          -0.1677798292408643,
          -0.12004364648725313,
          -0.16814671387941393,
          -0.05083303550128749,
          -0.12020066635087147,
          0.06637283088926613,
          -0.06610015561397474,
          -0.15714451707331228,
          -0.02811589260923775,
          -0.11299480244506788,
          0.3515232740599688,
          -0.09326403808857384,
          -0.052405277365724874,
          -0.07835048375839662,
          0.28071485556688425,
          0.2595808779501934,
          -0.11088888561317588,
          -0.13987741804756731,
          -0.039324851675625265,
          0.14021776459793078,
          -0.16459912605414442,
          0.05390395659177474,
          -0.025216222614219852,
          -0.15230156600912906,
          0.2267250530902184,
          0.024118977830019317,
          -0.17349827601833798,
          0.008037889637212305,
          0.18074774479111894,
          -0.11094384684241113,
          -0.0846313672490159,
          -0.0719785165456074,
          -0.0796036756796608,
          0.08082054427046413,
          0.08679583786668835,
          -0.18703840394882776,
          0.012774677553144877,
          -0.06985562827994901,
          0.2666327252487888,
          -0.05377258555067387,
          0.4783356090613519,
          -0.1705388865543547,
          0.028319475631548914,
          -0.16305574292440655,
          0.20874750434503186,
          0.11641428283856733,
          0.13142328766487676,
          0.018980156086046203,
          0.15991844612941097,
          -0.1595099377474934,
          -0.0007000688284560842,
          -0.1827634384526619,
          0.30843449240125426,
          -0.10027927190476717,
          -0.012221053071550265,
          -0.2767430322329949,
          -0.05276343606923424,
          0.07379383116223605,
          0.13709746515476567,
          0.2450703951209785,
          -0.05104336955040698,
          -0.2767430322329949,
          0.1145491483061179,
          0.14285002953510065,
          0.2589877066084439,
          -0.19078808204279657,
          -0.04266785698395934,
          -0.006635366926469866,
          0.1720909404593513,
          -0.09467400545738913,
          -0.0727101245775901,
          0.04532394858733866,
          -0.2767430322329949,
          -0.00469624730240788,
          -0.16510357231346037,
          -0.1531621873442176,
          0.2546769960105748,
          -0.06484909631892129,
          0.29217239507877074,
          -0.07655036219861411,
          -0.0105382836763072,
          -0.15536678039294705,
          0.0007884190414885755,
          0.23071320958156555,
          -0.0599265496319545,
          0.004019819543049727,
          0.3854323756165124,
          -0.056209317517033335,
          0.20883838482041248,
          -0.1513763430775764,
          -0.22447489115842298,
          -0.0852825188105446,
          -0.15324980476808867,
          -0.06387012430555027,
          -0.09721193567167163,
          0.10004594753524593,
          -0.2767430322329949,
          -0.03323587657074633,
          0.04432173189139668,
          0.01770906691723286,
          0.042973380185744134,
          0.16047311044455706,
          -0.09060326939389499,
          0.015614889905649501,
          0.2781834532721943,
          0.007214053232913857,
          -0.15874016305957622,
          0.05244845013236462,
          -0.05357055897134115,
          -0.1430137442659315,
          -0.06265253651156884,
          -0.11230797478649586,
          -0.02337747100600473,
          -0.06480246555493092,
          -0.028365822664756565,
          0.04704445157795823,
          0.03758334670620458,
          0.030349030048668634,
          0.39881342414458104,
          0.014977256825615072,
          -0.16792605798939406,
          -0.1272532469810815,
          0.07522294350462636,
          -0.0642951556634635,
          0.2267250530902184,
          -0.14509469018492757,
          0.032552521513496135,
          0.21486043689109396,
          0.18948863891195805,
          -0.15154794047661216,
          -0.027460561496717082,
          -0.03296851925807383,
          0.12914738855289148,
          0.08734068150741776,
          0.26663763119956224,
          0.055504725268286995,
          -0.07712720741336439,
          -0.10826538165749153,
          -0.05043527557840988,
          0.026889929500406494,
          0.4261308328079664,
          -0.06042947264186619,
          0.06117168088150385,
          0.019836303371517896,
          -0.039505786727263376,
          -0.038265956418060736,
          -0.08173302489236227,
          -0.11475579052698964,
          -0.13130738789529411,
          0.19003280695860814,
          -0.12098492281237481,
          -0.159845887108808,
          0.13424745026011806,
          0.1785495353078931,
          0.13031850350021706,
          0.17771059078332352,
          0.04657733757344291,
          -0.14309287345472824,
          -0.08709749385960731,
          0.12397882352543418,
          -0.06789199830181836,
          -0.04156645126625176,
          -0.10614613839589049,
          -0.1306034263226304,
          -0.04068027706134132,
          0.11417116526969112,
          -0.14958619019397038,
          0.15310544978404148,
          0.3410452623250353,
          0.05165026860865174,
          -0.011885843084626336,
          -0.042004280452203994,
          -0.08427553182649124,
          -0.08287019305655456,
          0.2267250530902184,
          -0.14830625034560452,
          -0.1462739597212048,
          -0.0013943287486693277,
          -0.27998232890752545,
          0.08571204162991114,
          -0.04395051215363012,
          0.07214656196159876,
          -0.006362628344195439,
          0.07194292369036723,
          -0.14237427383393314,
          -0.15626292639449918,
          -0.12438572851548046,
          0.1644875544880622,
          0.03361776380378387,
          0.11112670350081852,
          -0.1796269312959851,
          -0.08376699928148766,
          -0.031087941122859706,
          -0.1745243824145745,
          0.01951831043656456,
          0.1720909404593513,
          0.04469260500394869,
          -0.1480585573502774,
          -0.11513546565059789,
          -0.025561642596238356,
          0.018389817619207605,
          -0.09763055642903713,
          -0.16134572566225108,
          -0.16146487093293607,
          0.3182038602021013,
          0.055438740054251104,
          -0.1362797450687926,
          -0.043615338869791465,
          0.0521142176760997,
          0.07987091625272455,
          -0.07624198327550068,
          -0.14547241288943802,
          -0.19151139857549557,
          0.08826657557861113,
          -0.14179741793417197,
          0.1553421114779907,
          -0.15909496042997506,
          0.14483543033232874,
          0.023289935818108048,
          0.1460351031236982,
          -0.16567233873048173,
          -0.03526501952447096,
          0.10025294697666809,
          -0.03956074305185067,
          -0.0930251379248863,
          -0.040686132293387155,
          -0.07348278059453932,
          0.09395178750005122,
          -0.10349048679909592,
          -0.14736990102188635,
          -0.15146951982996443,
          -0.0949666038841789,
          -0.09829348752419437,
          -0.17464412472346189,
          -0.11411644499871762,
          0.042262278955413186,
          -0.08199485439548866,
          -0.042546834025526205,
          -0.15314676610762576,
          -0.06677016183495943,
          -0.07434553232257578,
          -0.1893776256643802,
          0.32562072795300656,
          -0.03244764669264065,
          -0.14688221798935458,
          -0.13206368726091589,
          0.08201393436650328,
          0.040322974286530575,
          0.10453186286665826,
          -0.07995215400588852,
          -0.16241998461720064,
          0.2267250530902184,
          -0.18254255561108296,
          0.03430670792358621,
          0.04150376839934687,
          -0.05974012328168166,
          -0.09161333924862398,
          -0.10117150114305778,
          0.015450255565477798,
          -0.18746538285507894,
          -0.12012160558179052,
          -0.04396303722772062,
          -0.026809803098434608,
          0.09475232528127606,
          0.13272804479821743,
          -0.06508057034259057,
          -0.12456668487485731,
          -0.06071352199981055,
          -0.10075413703684351,
          -0.046856030129737575,
          0.1333297822750691,
          0.17995698426424966,
          -0.13449302403158245,
          -0.10458726324838487,
          -0.12394785367514759,
          0.03818254787556285,
          0.15147957500557033,
          -0.15919647705998294,
          -0.16091387470842766,
          -0.08882589817830856,
          -0.11211896482979655,
          0.09725472483447373,
          -0.04492778775479506,
          0.2781834532721943,
          -0.039895986572362006,
          -0.11387903150682692,
          0.05358376429711822,
          0.03377095461670725,
          -0.11592336695878545,
          0.11792096762237975,
          -0.03945346584119511,
          -0.26922594338839767,
          -0.038553727959415474,
          0.09356341882275034,
          -0.05338688073322219,
          0.044047933677326345,
          -0.08221163239035134,
          -0.1714580495824652,
          -0.13173523439285967,
          0.03764707142085529,
          -0.05522403446503866,
          -0.1367490408172845,
          0.00857042022903998,
          -0.1343416522761237,
          0.07119174821791635,
          -0.019441451444854783,
          -0.019654166335664386,
          -0.12981118374705516,
          -0.1170209462879469,
          0.06076630708144067,
          -0.04347249216143417,
          -0.029558335541032422,
          0.007154029497971299,
          -0.06716828730324888,
          -0.13222348149777027,
          0.25717862623263094,
          0.012167082776096173,
          0.060588396903283,
          -0.1668337744050375,
          0.1296383512791382,
          -0.06889791178547937,
          -0.09464456413136745,
          0.20320361234609116,
          -0.000716340947254292,
          0.14997162193903923,
          -0.0015995072143160087,
          -0.07354389228890983,
          0.1833410323645865,
          -0.16929513129241855,
          -0.17016743667540615,
          -0.09742043636016551,
          0.5158135862417591,
          -0.141534225590541,
          -0.07413319128366137,
          -0.1460200795397042,
          0.16766976180596532,
          -0.2767430322329949,
          -0.025410335837864766,
          0.08935588474444647,
          -0.05956147663626265,
          -0.0073988853546317545,
          -0.020159499253705967,
          -0.12886219959974096,
          -0.093363997711849,
          0.04595291159697122,
          -0.010126851473510784,
          -0.02594446177211748,
          0.005426966367292295,
          -0.08028366063832681,
          -0.04837632888552402,
          0.05411799692902804,
          -0.14934763809819765,
          0.03856341490018671,
          0.04844546042042947,
          -0.13850330935616856,
          -0.04684812506270064,
          0.0028818173047830357,
          0.11776204340377415,
          -0.07423333397307887,
          0.20862390609220705,
          -0.0014096038412313725,
          -0.0022508082996528585,
          0.04174184098927463,
          -0.00100861699088127,
          0.08862758461916849,
          0.020076556168556286,
          -0.2767430322329949,
          -0.05195579316280708,
          -0.09092854575118582,
          -0.11519370489184522,
          -0.15521921322929724,
          0.2781834532721943,
          -0.01903169637075091,
          0.2073665610697531,
          -0.1943593440036271,
          -0.0329230916661222,
          -0.1719431787144064,
          -0.14556102624807815,
          -0.04029363211496212,
          -0.25987384311253314,
          0.03537034841257043,
          0.286852312006122,
          -0.04105040090733305,
          0.043476842215358934,
          0.08205813684450429,
          -0.17914197296269088,
          -0.04609808114864426,
          0.05675811797676355,
          0.05113042244386017,
          -0.271827686558082,
          0.01299418778333417,
          0.06569355084380937,
          -0.1151791788624388,
          -0.005117304844104095,
          -0.07212175608218958,
          0.3078147472763256,
          0.08650407566815448,
          -0.06815599076962571,
          -0.157932259186407,
          -0.05409032408529332,
          0.06828366244025494,
          -0.05839504506486112,
          -0.056760336150942246,
          -0.13890586224200632,
          0.10726682843123145,
          -0.12980203795308398,
          -0.15866097327421708,
          0.04390123974178759,
          0.04511100948204853,
          -0.009259022643296708,
          -0.13597238759708016,
          -0.12823401651721525,
          0.02861382815236777,
          0.16133650416556825,
          0.004452025616089604,
          -0.0493070925512266,
          -0.12632002516085572,
          0.037026033762368106,
          -0.08270669042326449,
          -0.05351149658508883,
          0.21263725688809296,
          -0.06429510076299867,
          0.12118344607561939,
          -0.1478596146578945,
          -0.13278808064004735,
          -0.13660959456834373,
          -0.08518269168342833,
          0.10503026828119937,
          -0.0955298751944601,
          -0.2767430322329949,
          -0.11094384684241113,
          -0.13662933362870178,
          0.009301677774673056,
          -0.16550041046802977,
          -0.08031349147158903,
          -0.052528473570448486,
          0.18832459724166256,
          0.250576644004207,
          -0.09323605119757428,
          -0.1094593348504071,
          -0.2767430322329949,
          -0.04043618928670829,
          -0.07925629862867907,
          0.009774552515621305,
          -0.12562844401079598,
          -0.09296194369391703,
          0.2785833464474792,
          -0.04075356177701934,
          0.06514353171668703,
          -0.0902678940695026,
          0.01630141793265025,
          0.01223822908137644,
          -0.1186713217465488,
          0.05463813857110127,
          0.13524127520301782,
          -0.09147005245126852,
          0.04820218780766184,
          -0.06585428662958936,
          0.05995602083033791,
          -0.15176768070478142,
          -0.09697617734152304,
          -0.015674525375098246,
          -0.15714204812606103,
          -0.22989791968033552,
          0.25375043200568875,
          -0.13113991699366984,
          -0.11511069762160968,
          -0.2767430322329949,
          -0.12754205233692123,
          -0.28344732704006864,
          -0.04150563413021478,
          0.0909236670362783,
          0.049354474853213835,
          -0.14317575167405155,
          0.02925158705292506,
          -0.1714580495824652,
          -0.027674554472382488,
          0.2267250530902184,
          -0.12704925944076628,
          0.07110999534171192,
          -0.10706520032103714,
          0.2267250530902184,
          -0.17512258570621705,
          0.15881113037037248,
          -0.07124897968086925,
          0.21672797353024328,
          -0.00350413825909453,
          -0.09623215408048752,
          -0.12850222084540466,
          -0.12269044451073072,
          -0.07034616971542652,
          0.2267250530902184,
          -0.04978162621064692,
          -0.04167503434860754,
          -0.101214689006763,
          0.14188618364306427,
          -0.05954291956714302,
          -0.15250423287256876,
          -0.2767430322329949,
          -0.15105136563946342,
          0.11352140582586218,
          -0.12453163123045707,
          -0.014044534000859218,
          -0.0416677195545415,
          -0.1133483880539834,
          -0.0826048649772769,
          -0.023178544321622113,
          0.05621936257064372,
          -0.15760146535153463,
          -0.05652535048642757,
          -0.059390208619289474,
          -0.21718936060961816,
          0.18087135168764826,
          -0.16192589511589411,
          0.010472621070094574,
          -0.14649185007015209,
          0.18132106200228498,
          -0.07735646578443801,
          -0.11623544484800352,
          -0.06236490295209891,
          -0.07070456090984933,
          -0.07416299322076596,
          0.13367468866007012,
          -0.058408753809696796,
          0.11426070151362476,
          0.15079105345553775,
          -0.10853307004100565,
          -0.15897106350533635,
          -0.03410843337497995,
          -0.10141083889365729,
          -0.11813965571168712,
          0.057976217643402266,
          -0.12573247238930002,
          -0.09923198030839488,
          0.15592636504027232,
          0.003405216739852211,
          0.02175320631801519,
          0.07579196842882392,
          -0.07148543372739678,
          0.010492477186338748,
          -0.10617053026535195,
          -0.08981794161111309,
          -0.05469170163281142,
          0.16358583510381713,
          -0.1471533377279872,
          -0.14027400005054785,
          -0.15585804886551877,
          -0.14765148574360534,
          0.332919588024544,
          0.28294016862124544,
          0.008353161669609054,
          -0.06531923608742973,
          -0.08362059762215603,
          0.03628842886706945,
          -0.05016018611930727,
          0.2267250530902184,
          0.0970445418464521,
          0.32908549241005236,
          -0.0075338942364534655,
          0.08442940844321122,
          -0.039404664345732615,
          0.09727222202166119,
          -0.156121402580823,
          0.033512490141689444,
          -0.2735411104932653,
          -0.15612919296946823,
          0.3997295015863132,
          0.004956358597773998,
          -0.058389648535110916,
          0.23860801643163948,
          0.07718023731027536,
          0.15085260337670983,
          -0.04633738958931341,
          -0.128091838348348,
          -0.04761516394229134,
          0.1598333587073511,
          0.02115486553220828,
          -0.17156636274969198,
          -0.1372487788463941,
          -0.06515661177557178,
          0.020579703544035995,
          0.07415727680598369,
          0.23524962652889933,
          -0.1301633712480428,
          0.018646091050560573,
          -0.160937888229194,
          0.07194548354537937,
          0.027240954423604774,
          -0.0018399904971046798,
          0.2082575450593733,
          -0.14027400005054785,
          -0.058655500932426545,
          0.07058048592808912,
          0.0377641662523039,
          0.07955658409401818,
          -0.11512416482005404,
          -0.0018471784411378987,
          -0.010382025978311818,
          0.06013088834713157,
          -0.15194559853907755,
          0.2595808779501934,
          0.06032285564364811,
          -0.051323241258002944,
          0.22038878750727797,
          -0.2767430322329949,
          -0.18459806641941126,
          0.3658114193781875,
          0.04958563103653719,
          -0.0076533309484131265,
          0.131221865615269,
          -0.0907467192713862,
          0.08450898365167171,
          -0.08013217945314148,
          -0.07127770606346268,
          -0.15528490246900778,
          -0.08342535800989041,
          -0.16734216801423704,
          -0.1419823063015111,
          -0.061040612353792253,
          -0.11635156049222146,
          0.035882787323230234,
          0.057419632875752157,
          0.0225114138472853,
          -0.012155840645115289,
          0.06041244136217776,
          0.10953387636111196,
          0.10652869592989613,
          -0.10285625437847629,
          -0.060779294500418614,
          -0.09372225012525749,
          -0.060716509739608925,
          0.10030698170543842,
          -0.27998232890752545,
          -0.2767430322329949,
          -0.12983136350370328,
          -0.2767430322329949,
          -0.10556203394862225,
          0.037420635697166485,
          -0.10233350482455551,
          -0.1077352883777222,
          0.1972376890432664,
          0.20913024529971116,
          0.3022692238360153,
          0.32086893997301613,
          0.05053105166584743,
          0.07348527911920862,
          0.0079476558940456,
          -0.0866359927365045,
          0.024584995326380945,
          -0.11049141008465753,
          -0.2767430322329949,
          -0.28344732704006864,
          -0.039060944785463896,
          -0.008020396963156429,
          -0.05667821653239281,
          0.2267250530902184,
          -0.013891106751255345,
          -0.12640810844178466,
          0.024959381569671098,
          -0.19151241181536977,
          0.3226821237088818,
          -0.08109596755694122,
          -0.16622793722741236,
          -0.17357295444772516,
          -0.11225770271952194,
          -0.10376266820217617,
          -0.06184788522148897,
          -0.1739313975829693,
          -0.07857781896623224,
          -0.16650257728696388,
          0.1853117346828295,
          0.026292278775203622,
          0.03228166455772394,
          -0.091332168051372,
          0.2267250530902184,
          0.1460351031236982,
          -0.033331497940325486,
          -0.029238997244188457,
          0.04182668569919703,
          -0.06071371652589574,
          -0.105557451700584,
          0.14962227884961984,
          -0.007881534319327999,
          0.06648671632024779,
          -0.10048366680053833,
          0.1460351031236982,
          0.05533535882264704,
          0.025141101561911638,
          -0.11098143673677743,
          -0.12461088169674948,
          -0.02546560860092326,
          -0.04077757213634461,
          -0.04316277263010098,
          0.0440410760821928,
          0.19852205344348603,
          0.18766556216235394,
          -0.11346380174541426,
          0.2628672870490064,
          0.4487004405423958,
          -0.13280950706299324,
          -0.16703426863188284,
          -0.17867134334051415,
          0.14716411157870374,
          -0.13583333218470722,
          -0.08292148831339309,
          -0.08696318842468638,
          -0.07332864252145689,
          -0.07417731636851815,
          0.15862507057202996,
          -0.1892866193823772,
          -0.056355301356490695,
          -0.1125880867893693,
          -0.271827686558082,
          -0.14052791300750272,
          -0.16124529868748377,
          -0.02237438489879047,
          -0.09889722189218553,
          -0.01875221051732437,
          0.31909099836702626,
          -0.05191162442785815,
          -0.08793312669459465,
          -0.08586762832198133,
          -0.1701669207856031,
          -0.122947407321215,
          -0.0007620160769919437,
          -0.11752998909166819,
          -0.08023409445384562,
          0.15179222508601017,
          0.07671112223203144,
          0.05636422904264766,
          -0.11790543320799932,
          0.06790398298828328,
          -0.08433469232089638,
          -0.18236975465225666,
          0.06511194510290433,
          0.058393331040467726,
          0.035844614074954095,
          -0.09121095176937004,
          -0.06280215376702293,
          -0.17227077287444126,
          -0.11054163325973737,
          0.10145496907679356,
          -0.1870316237278897,
          -0.1061847960588162,
          0.0863878487983643,
          0.0753695840628821,
          -0.0463117600660137,
          0.24403768377924176,
          0.08965578244424206,
          0.05383592390885652,
          -0.2767430322329949,
          -0.13476681962680664,
          -0.10310958501504247,
          -0.04754371226862919,
          -0.15372734720211648,
          0.3410452623250353,
          -0.11200061339081942,
          -0.151734913732624,
          -0.002193564247125126,
          0.09298799537408227,
          0.02030381633364672,
          0.03643626247575254,
          0.015450255565477798,
          0.24034034773440122,
          -0.1597796554020072,
          -0.03876752863341393,
          0.2552377505158239,
          -0.07862911309538723,
          -0.03137925949087666,
          -0.023115333347613412,
          -0.12886804106039507,
          -0.14499994580640804,
          -0.05484467795593174,
          -0.07433507200308043,
          -0.27936699363631445,
          -0.12692439952113144,
          -0.035307486120448324,
          -0.1314456007336227,
          -0.16325486130070838,
          0.07829581165069537,
          -0.027874785046108273,
          0.023713143314511652,
          -0.15652204816347356,
          -0.09550850686886783,
          0.07368392047451172,
          -0.036107219306899294,
          -0.14769868231996636,
          -0.06014674659413621,
          0.05538494289739727,
          -0.07955946961876957,
          -0.08283337838167976,
          0.008677715354084767,
          -0.05359939503391654,
          -0.0858150630101694,
          0.06694710069820112,
          -0.13939257260066854,
          -0.045436487666353706,
          -0.07520344546473143,
          0.2267250530902184,
          0.04751379953217972,
          -0.07363550289743258,
          0.2781834532721943,
          -0.1476449374698487,
          0.017344336721216925,
          -0.07244776588493874,
          0.3008365073497751,
          0.08312786596512128,
          -0.05342984787651286,
          -0.024214853392815885,
          -0.2767430322329949,
          -0.15748611176110425,
          -0.06796860816076733,
          -0.13182611949505105,
          -0.06391423629156316,
          -0.1714580495824652,
          -0.056184707117616535,
          -0.14008437384162367,
          0.27384204365751735,
          -0.13825752631544572,
          0.015450255565477798,
          -0.1617996565539713,
          -0.1300400932358624,
          -0.14535195470991652,
          -0.06859940289431107,
          -0.05232892057872245,
          -0.06934650038810494,
          0.03116775965490531,
          -0.2767430322329949,
          -0.07960159550769669,
          -0.0868564496788545,
          -0.02203973204758477,
          0.009329288949215057,
          -0.013749446063247222,
          0.022949403937948268,
          -0.060470508590894756,
          -0.00436520462187835,
          -0.18770808496413516,
          -0.06046159893950685,
          -0.007927527119316782,
          -0.0918938355312394,
          -0.08324994338942432,
          -0.007751817669682967,
          0.3251167561224369,
          0.09725472483447373,
          -0.2767430322329949,
          0.052902568135230504,
          -0.1308043273325801,
          -0.03013853311638543,
          0.07373366326385745,
          -0.15845527450370053,
          -0.04404177393291855,
          0.25425442393466485,
          -0.007833129616389293,
          0.11826487877811379,
          -0.09984746632431901,
          0.32308876371182105,
          0.42434545821273567,
          -0.15448345936246935,
          0.18516500097107638,
          0.05226710954291843,
          0.013418399048875233,
          -0.11673022286776448,
          0.15586742890541402,
          -0.1396080769997789,
          -0.1413729863879077,
          -0.12862693760262603,
          -0.1589722172010707,
          0.026725976219134057,
          -0.1714580495824652,
          0.05037515958198905,
          -0.07175829823926505,
          -0.020432760379080067,
          -0.03771292549535596,
          0.08794400059095772,
          -0.11804436782607333,
          -0.0010715489356472986,
          -0.0584982640915205,
          -0.2767430322329949,
          -0.07360935806146757,
          0.09534369491113245,
          0.09475232528127606,
          -0.026561356484264508,
          0.029251196349356596,
          -0.051652130088606966,
          0.16196936304753046,
          -0.07597000006139076,
          0.02646744277831803,
          -0.1080097285154338,
          0.06000684628386998,
          -0.08693141999464404,
          -0.14749593151002835,
          0.010813522751062518,
          -0.1513468203298382,
          -0.2767430322329949,
          0.10093592396824812,
          0.3410452623250353,
          -0.11820313828915634,
          0.2781834532721943,
          0.10486070998825235,
          0.05218381963324627,
          -0.06334903464513784,
          0.2255284249321562,
          0.037572625464551486,
          -0.2767430322329949,
          -0.10864809564266384,
          -0.151734913732624,
          -0.08940050624477215,
          0.12289231394136133,
          -0.08516172747810279,
          0.2580902426690653,
          -0.03255471537679203,
          -0.1331219518031138,
          0.3029986259411443,
          -0.04083668747633812,
          -0.006541203114896065,
          -0.10565183477036111,
          -0.07679720440775732,
          -0.16131364986466934,
          -0.13677457588311992,
          -0.13304559800894925,
          -0.12447321963332554,
          0.01076643498767995,
          -0.02560521712369458,
          0.03537034841257043,
          -0.16060082330418976,
          -0.13904659372915343,
          0.0408565612746513,
          0.03742599438727185,
          0.010222475865557627,
          -0.15718475196833606,
          0.43172577035288645,
          0.2781834532721943,
          -0.17857268651065114,
          -0.10241858734975127,
          -0.12327227760141449,
          -0.09025013676452416,
          0.09386967940059732,
          0.10476240981186216,
          0.30257293215339415,
          -0.12489832441943721,
          0.20148468195142064,
          -0.14114090344575828,
          -0.10701415845845597,
          0.14338164517878035,
          -0.14743687416959142,
          -0.0026881946851658955,
          -0.0003207062895571871,
          -0.13057762837466597
         ],
         "yaxis": "y"
        },
        {
         "hovertemplate": "color=1<br>x=%{x}<br>y=%{y}<extra></extra>",
         "legendgroup": "1",
         "marker": {
          "color": "#EF553B",
          "symbol": "circle"
         },
         "mode": "markers",
         "name": "1",
         "showlegend": true,
         "type": "scattergl",
         "x": [
          -0.07199162606420202,
          -0.09562703690128846,
          -0.007720474654296542,
          -0.07344911906395049,
          -0.019597794280836314,
          -0.051227319111425154,
          0.013768199359482529,
          -0.09570652103128835,
          -0.07463654263245145,
          0.025072980007317364,
          -0.01823929135735645,
          -0.09095251146168473,
          -0.0911718727636439,
          -0.08474180891824565,
          -0.09326709656503764,
          -0.07147596166983985,
          -0.09553722034183881,
          -0.019014844092416907,
          0.02646651345783552,
          -0.09004068333892588,
          -0.024838316219534987,
          -0.08643192974018205,
          0.0851065066945657,
          -0.09471181415339443,
          -0.0631590770789989,
          -0.06655855768291044,
          -0.07856726900879063,
          -0.08831967654138057,
          -0.09590778838480656,
          -0.06201121587076603,
          -0.029143466718848616,
          -0.04716254904110591,
          -0.08037950480871461,
          -0.004577168245813736,
          0.054046327475288425,
          -0.08697283931135752,
          -0.03141029725464107,
          0.008279703127346352,
          -0.01915325492587558,
          -0.07066899953447961,
          0.0026271522062789186,
          -0.05502373969060249,
          -0.09384642949715735,
          -0.09519954514783711,
          0.1806666797006253,
          -0.08589226892294921,
          -0.09284701456000145,
          -0.07903928712659102,
          -0.05211665468365943,
          -0.0954467574415415,
          -0.08029167279842207,
          -0.09153059330832632,
          0.11007620162348747,
          -0.08910757416024565,
          -0.07760326310957714,
          -0.09543381959327774,
          -0.06951139876060199,
          -0.06851058390592461,
          -0.05963336341903564,
          -0.09327601133494862,
          -0.015041909093863158,
          -0.023261178700357273,
          -0.0920127663775288,
          -0.08653431641006204,
          -0.08297835916620115,
          -0.0954120104741391,
          -0.0907583921066711,
          -0.05505040972560843,
          -0.07569176174850221,
          -0.09566133712438928,
          0.01728060366426001,
          -0.09236860943842314,
          -0.08844154990606302,
          -0.071862748425424,
          -0.08276142663688169,
          -0.08523245640115187,
          -0.004577168245813736,
          -0.05222636398208938,
          -0.07833492926903665,
          -0.07235669929790436,
          -0.0782285089165743,
          -0.06346801967258009,
          -0.09094978632221473,
          -0.025946936125903857,
          0.08980828369295606,
          -0.08144111841053968,
          -0.0854913039123094,
          -0.08825594021443005,
          -0.07792191021538825,
          0.08130778169034614,
          0.11067026410646787,
          -0.08785432576788321,
          -0.09341632257520158,
          -0.09281997866723495,
          -0.08496155436778147,
          -0.09073622839931235,
          -0.09114749372671903,
          0.022274366187170217,
          -0.09590778838480656,
          -0.07406134886047185,
          -0.0918637935292074,
          -0.05124404323557873,
          -0.07843451895731803,
          -0.06011684307692275,
          -0.07290627348042415,
          -0.008902937461081612,
          -0.058919197905346755,
          -0.057368768179799724,
          -0.08845132969290766,
          -0.09328024027527461,
          -0.08467003224704758,
          -0.07593359294649533,
          -0.05356271082229407,
          -0.051141539578240046,
          -0.05223384622784108,
          -0.09739659048329785,
          -0.09739744175959274,
          -0.09483409232444048,
          -0.09715234163105911,
          -0.09445324114103308,
          -0.09189327571370423,
          -0.09385373520508213,
          0.05293365466797654,
          -0.0014578537291029346,
          -0.09521808211200247,
          -0.096195638888977,
          -0.04770903374046953,
          -0.08782371991426731,
          -0.0674398255897301,
          -0.09468822456570179,
          -0.0804611300554473,
          -0.09407607278108746,
          -0.09511308343551754,
          -0.08097178494496671,
          -0.08891612057692844,
          -0.07400922567375522,
          -0.09669312912895205,
          -0.05267164663080743,
          -0.08164379243688272,
          -0.08128834445973471,
          -0.08835465151107022,
          -0.06111158855453355,
          -0.08499291884858086,
          -0.09543308784170694,
          -0.04021251157700459,
          -0.08585414847123918,
          -0.019282820674942025,
          -0.08931535350616285,
          0.003772422960400823,
          -0.06932137746943286,
          -0.09411696471413937,
          -0.09508494771115371,
          -0.08883520999815284,
          -0.09489357966612567,
          -0.047382739272804585,
          -0.0721413383381469,
          0.1066001721192471,
          0.05815534894211188,
          -0.09061118960421513,
          -0.045331322527737625,
          -0.0933642116474142,
          -0.012057718931129877,
          -0.09240692441722505,
          -0.000502397270089417,
          0.05513219329108631,
          -0.08851873362191623,
          0.021184890314170757,
          -0.08900099935851503,
          -0.0868413422845294,
          -0.08811539051548858,
          -0.09520778872979885,
          -0.07281010254497092,
          -0.08315235294655131,
          -0.08861471455561291,
          -0.07523808750423577,
          -0.07956608727732446,
          -0.013655363522806004,
          -0.08171712237083062,
          -0.03977007735053173,
          -0.08739476530025293,
          -0.02073881323933554,
          -0.06445251667194332,
          -0.0898321034471028,
          -0.06341305378969611,
          -0.085294998873632,
          -0.0892810084586412,
          -0.025041294861155868,
          -0.07977771830668137,
          -0.08551249972400118,
          -0.0447621807151202,
          -0.0803474519500533,
          -0.058594057345939865,
          -0.022976539201560085,
          -0.0717538183527817,
          -0.08775094241504214,
          -0.09164889167703473,
          -0.047346363244636674,
          -0.07102854595701198,
          0.049103695959612,
          0.00789609330407544,
          -0.03892926402250693,
          -0.019706713499286214,
          -0.02395011218947523,
          -0.07792884800292507,
          0.12458267585300642,
          -0.053487003201197696,
          -0.05405987208191594,
          -0.09575625675872732,
          -0.05645855722867579,
          -0.08742042809711915,
          -0.029482653194168675,
          -0.07747301369170174,
          -0.0788806064279598,
          -0.05382942887004951,
          -0.08942612913882665,
          -0.0783841390771589,
          -0.06415269667840807,
          0.08392699323571641,
          -0.07975115591029387,
          -0.07969574631539271,
          -0.09475497554684954,
          -0.06543058127419871,
          -0.07496943771286899,
          -0.0889156577731679,
          -0.09039853748320095,
          -0.05977121041642309,
          -0.0950893119224084,
          -0.06103087429858371,
          -0.020554452990056517,
          -0.07428333724648138,
          0.06984910827682768,
          -0.08143389453640122,
          0.12553242821638214,
          -0.08937932217117375,
          -0.06135672499971358,
          -0.06118025791766475,
          -0.07243374155093378,
          -0.06241190353267799,
          -0.0777792939150582,
          -0.06263740638318595,
          -0.08891261798023026,
          -0.08276141896576333,
          -0.09675078124001313,
          0.09357733940417616,
          -0.09095226879583189,
          -0.07763535779515905,
          -0.09244043334866577,
          -0.07219929605373307,
          -0.03560663979799189,
          -0.009557149003305558,
          -0.07806247651178065,
          -0.05440948758712965,
          -0.027742190015901613,
          0.011947291284829227,
          0.012328796811866645,
          -0.09261751662978092,
          -0.03068295531179275,
          -0.013904649209323239,
          -0.0799533526618972,
          -0.07800800385244754,
          -0.09277834917359182,
          -0.04957042231727152,
          -0.09462703318003166,
          0.04818211648856613,
          -0.060426799781124516,
          -0.07996644933047545,
          -0.09559566015737639,
          -0.08238392672407958,
          -0.054194141538084675,
          -0.09340453283138404,
          -0.07254450271793596,
          -0.02478504240820726,
          -0.08300023068303837,
          -0.08923447291348838,
          -0.09276220835458823,
          -0.08171712237083062,
          -0.08160026188634723,
          -0.09407861557060754,
          -0.011473770711115945,
          0.5445171286228323,
          -0.007854172190997622,
          -0.008902937461081612,
          -0.06410429691984787,
          -0.05280766529930713,
          -0.056646174712900906,
          -0.07551982174380131,
          -0.06677236796703201,
          -0.06413127600181985,
          -0.030783764312619418,
          -0.09521229115500848,
          -0.07239626540737093,
          -0.08837017564742272,
          0.019114140453099473,
          0.013680323166823409,
          -0.04549316840970366,
          -0.047709920930886045,
          -0.08523550380251321,
          -0.09568526504024766,
          -0.08416868976467817,
          -0.07721136668329713,
          0.08224981207272179,
          -0.07838687127643437,
          -0.08591437700723573,
          -0.09520002128995313,
          -0.03678827824019773,
          -0.06401745328878607,
          -0.08723389294320283,
          -0.0707655913779581,
          0.06556361283536692,
          0.09358360730958994,
          0.0077025103238986155,
          0.005784553189914864,
          -0.08099657212313294,
          -0.09106172906758055,
          -0.08051239216608821,
          -0.08776856646033443,
          0.15676524840023412,
          -0.08688730384659435,
          -0.07560928935301522,
          -0.09522290296818027,
          -0.020072965669631716,
          -0.09325953178262664,
          -0.04442475503195789,
          0.04755780447781963,
          -0.05424111720393326,
          -0.08128834445973471,
          -0.030955066265487847,
          -0.08761586734806213,
          -0.016877404584942638,
          0.6198420620817191,
          -0.09094982460608077,
          -0.004577547429532405,
          0.013707793262743614,
          -0.0828640875637782,
          -0.04767435869204905,
          -0.029907667259237342,
          -0.08070658447175363,
          -0.08214346726012046,
          0.6247365117945607,
          -0.07254922036610666,
          -0.09207802739647794,
          0.01716840977894022,
          -0.08794022144278,
          -0.07365568608515634,
          -0.09080918371229069,
          -0.05331210658316307,
          -0.09095254974566805,
          0.017170632684587777,
          -0.08772358451116853,
          -0.09134538850674165,
          -0.09145830532772536,
          -0.09429768419842047,
          -0.034182391418673505,
          -0.07887027567917135,
          -0.05182600272211445,
          -0.08490824022529711,
          -0.047746847160881886,
          -0.05494444357556675,
          -0.09596767593041537,
          -0.07873328938625804,
          -0.04715046101915471,
          -0.07719317136539144,
          -0.004037799241780426,
          -0.09079216255550009,
          -0.05222735171879982,
          -0.09553116196925832,
          -0.08712797384548378,
          -0.08330184206737248,
          -0.0961945417154869,
          -0.05329404538197404,
          -0.09130600547707717,
          -0.05267164663080743,
          0.021184890314170757,
          -0.01789746619683132,
          -0.07848918111482851,
          -0.09401491460723116,
          -0.01789681933912714,
          -0.022976539201560085,
          -0.09276232126262676,
          -0.08502055286475235,
          -0.0789379314834672,
          -0.01789681933912714,
          -0.08600799551025048,
          0.36296141181631,
          0.495001195322649,
          -0.08231848391114796,
          -0.08851950809812753,
          -0.09226508457941085,
          -0.07804758093677133,
          -0.06498931359692244,
          0.05108105567014903,
          -0.09528428112818765,
          -0.06226413245219123,
          -0.04460114668965629,
          -0.059770517466869934,
          -0.09281388141199222,
          -0.08925998199543698,
          -0.08829517942283331,
          -0.09504108276970073,
          -0.08937935539737639,
          -0.08803874926174353,
          -0.0721171980026586,
          -0.0510572591029463,
          -0.04599185373474817,
          -0.08782949788901757,
          -0.0914691499204011,
          -0.0701503655890317,
          -0.09055298982355606,
          -0.056402349156234224,
          -0.06738136935746933,
          -0.07303886662435403,
          -0.09520966178061155,
          -0.08453855425725766,
          -0.07075449470166395,
          -0.05085516720961271,
          -0.07730298876897403,
          -0.03239082004937289,
          -0.09424128644435877,
          -0.08938362865845274,
          -0.03604112528361461,
          -0.006583256499516398,
          0.15772693826208345,
          -0.04340385293079776,
          -0.08876846293922323,
          -0.04432938519836211,
          -0.0008524799419816821,
          -0.07870859896830817,
          -0.012008033176249842,
          -0.07073086530199116,
          -0.09539955292761623,
          0.14734996629149613,
          -0.0707817401600527,
          -0.06289289489955166,
          -0.08963901087909208,
          -0.08352539619509423,
          -0.09193572552185872,
          -0.0854311944343596,
          -0.08166440892783797,
          -0.0859924720765704,
          -0.013799731068827084,
          -0.025730294705897952,
          -0.07646843508491881,
          -0.09565576129112274,
          -0.018349705944352045,
          -0.05162671395881623,
          -0.06571582908882821,
          -0.09317991033601007,
          -0.07371183552199313,
          -0.08073845578791139,
          -0.08968227733291227,
          -0.04881797899352116,
          0.015927335931467123,
          -0.08549914609009653,
          -0.09614585027961997,
          -0.09604675541191811,
          -0.08831705757352781,
          -0.013655363522806004,
          -0.0908200355800568,
          -0.07919735126572573,
          -0.06836703007286864,
          -0.09519183632517648,
          -0.08717903180677551,
          0.025223552689392057,
          -0.09565596388176176,
          -0.011027279690003113,
          -0.08855711921929209,
          -0.06971332273215494,
          -0.073348793440647,
          -0.08782377356485681,
          -0.051927724210969674,
          0.3510690057516197,
          -0.06852065368781715,
          -0.052234075955073636,
          0.1438548362253763,
          -0.06058006521892493,
          0.07239387447406809,
          -0.09411746458340602,
          -0.095582623188126,
          -0.08725769208310699,
          -0.05775702839698661,
          -0.07565750043447332,
          -0.059764517684113824,
          -0.053461341683411504,
          0.04755797550674929,
          -0.0673275915702205,
          -0.09209106199534157,
          0.008508019328389705,
          -0.0014037329207438384,
          -0.05158262751357361,
          -0.055465985067143425,
          -0.007854427795801058,
          -0.06798699212390961,
          -0.09657338755828258,
          -0.004577137821464727,
          -0.08171780628122782,
          0.1807000321510509,
          -0.04785975845271139,
          -0.023856644881322206,
          -0.09434825485352893,
          -0.08307605542941597,
          -0.0835246217794765,
          0.06329291046338639,
          -0.041917188797199544,
          -0.07413881464622994,
          -0.09463581746995597,
          -0.08212475737092999,
          -0.011801213882417413,
          -0.08991588164209471,
          -0.057848712702281216,
          -0.07635013415061655,
          -0.05803692741639803,
          -0.08593085670126958,
          -0.09093895090326479,
          -0.013655363522806004,
          -0.07852569375245624,
          0.09346680049536926,
          0.04548925686435714,
          -0.016773020425584803,
          -0.035491006897020484,
          -0.08202741477254386,
          -0.038954624264132605,
          0.07701702240989593,
          -0.020221037297166497,
          -0.08222670863764323,
          -0.09575060114238106,
          -0.02988552734508005,
          -0.09516449942048132,
          -0.08161837853211436,
          -0.08255284228718926,
          -0.08672746362826289,
          -0.09178754940830817,
          -0.08426750851995655,
          0.00789609330407544,
          -0.092790612632737,
          -0.08494849503531562,
          -0.09095255225254709,
          0.007894763489981823,
          -0.09654913419939969,
          -0.06947900129536687,
          -0.07074189471134945,
          -0.046887542519610935,
          -0.009748803709070792,
          -0.012471959136490626,
          -0.08492384270397728,
          -0.07418221668374386,
          -0.08639459835555963,
          -0.042927225499237,
          -0.059024149284602104,
          -0.09117951197439364,
          -0.029885523926568278,
          -0.09276220835458823,
          -0.0581764897770233,
          -0.004896993267496372,
          -0.09317628537721839,
          0.011394131749616242,
          -0.08824483152615004,
          -0.09093017169589403,
          -0.09496111266950741,
          -0.09134226726081497,
          -0.08438586161712254,
          0.02001971188825264,
          -0.07507280344145591,
          -0.05197667638202967,
          0.04658137648606822,
          -0.0924674103005441,
          -0.060062205686062985,
          -0.08241986143679801,
          -0.06821167885161974,
          -0.08013373431596091,
          -0.039215057352690465,
          -0.03862446079352248,
          -0.04784497219491671,
          0.28502215078302157,
          -0.06520296495656744,
          -0.09073624982667479,
          -0.09155041414244111,
          -0.08273575632422404,
          -0.09049997908045045,
          -0.07878866605442995,
          0.004729278094837768,
          -0.062120552749266915,
          -0.07208930971427926,
          -0.08223003468429556,
          -0.08771053475264316,
          -0.06979733128289811,
          -0.09278715578163152,
          -0.059328330196015494,
          -0.08527291754952873,
          -0.08364063336765949,
          -0.0891432152110831,
          -0.05287076007255577,
          -0.09593876249156523,
          -0.050775117943900445,
          -0.06239709794287455,
          -0.08796294191545961,
          -0.07909173905463149,
          -0.06147421219633147,
          -0.09080341281501433,
          -0.012272615432592185,
          0.05108105567014903,
          0.20151658749891718,
          -0.054183616699818346,
          -0.043474561220583845,
          -0.02374789379182786,
          -0.018676466741807046,
          -0.06170987876175718,
          -0.0898826359969401,
          -0.08502593560166079,
          -0.02893050343243678,
          -0.0852265561711575,
          -0.024941145154590373,
          -0.004577168245813736,
          -0.0783841390771589,
          -0.08502284708191013,
          -0.04531625018493291,
          -0.03688680862737617,
          0.08897144187775073,
          0.12659668073775385,
          -0.08167013228264822,
          -0.08125284304686649,
          -0.09326924378488072,
          -0.076145318631799,
          -0.09093630905925493,
          -0.08701635584517767,
          -0.0649321596914846,
          -0.09025463377893204,
          -0.05904457182946328,
          -0.09355291613317852,
          0.09616577962961569,
          -0.049096785545852575,
          -0.08688732128595587,
          -0.007854172190997622,
          -0.08805638712169804,
          -0.007675295622798599,
          -0.09243096698884888,
          -0.08823890194574445,
          -0.07379919841199711,
          -0.09236860943842314,
          -0.08810383564886326,
          -0.054475311891103384,
          -0.09078673230284376,
          -0.06856605135754383,
          -0.07066604324032724,
          -0.0715313989476538,
          0.05108105567014903,
          -0.09146926915933798,
          -0.07854341794035628,
          -0.07987295540333403,
          -0.0745419461306194,
          0.19418252426450694,
          -0.08891620621297547,
          -0.047332142322264195,
          -0.020922045233774073,
          -0.09225740534513154,
          -0.08453855425725766,
          -0.07936633150782268,
          -0.06469157328839606,
          -0.092059640663026,
          -0.09571828133247218,
          -0.06736322872096598,
          -0.09570652103128835,
          -0.08435039280671758,
          -0.0425691783986194,
          -0.04491716819764331,
          -0.06558477852666021,
          -0.043241234321433515,
          -0.0026138872723842875,
          -0.09423159901547032,
          -0.021352065796833273,
          -0.0902949576878583,
          -0.08181930881547962,
          -0.03854122437974373,
          -0.00498525253498676,
          -0.05803692741639803,
          -0.058431918165759766,
          -0.024825566416734956,
          -0.09529164068815996,
          -0.05220308394425636,
          -0.004859455603754813,
          -0.09361697790471589,
          -0.0876288035536248,
          -0.08460167020447229,
          -0.08755102779302232,
          -0.09081279486582877,
          -0.08353891037134056,
          -0.03237645092264471,
          -0.09507305893266008,
          -0.08273575632422404,
          -0.007709999510665221,
          -0.0933387218733347,
          -0.04684318699527119,
          -0.02219302823691885,
          -0.07684519843184312,
          -0.09111506330107808,
          -0.08631242262468312,
          -0.08670486527312034,
          -0.09388560457809841,
          -0.05256365231951723,
          0.03749023837294035,
          -0.05806371323543582,
          -0.07735748417382667,
          -0.09080341281501433,
          0.18071136129552173,
          -0.04985923097880044,
          -0.04167332902599555,
          -0.09436786368036519,
          -0.08125262511172465,
          -0.06347049628417556,
          0.04698868555324581,
          -0.05819247057642836,
          0.055931915213208096,
          0.04053750005405788,
          -0.08633389410861371,
          -0.07684519843184312,
          -0.07909309086949178,
          -0.08296672185577403,
          -0.053480214897487756,
          -0.07136154387631005,
          -0.043467923179284954,
          -0.09505741256365477,
          -0.08613544231987397,
          -0.06341282602908689,
          -0.07098530211389949,
          -0.06539635804933161,
          -0.09051854976624676,
          -0.09447071541944688,
          -0.08254894944673077,
          -0.06908699546218426,
          0.07384880278207957,
          -0.04820250032938155,
          -0.048548152517925436,
          -0.07542495808471436,
          -0.09612586292616689,
          0.0010936777092863366,
          0.01674515398116004,
          -0.09550380286272063,
          -0.08437679279079874,
          0.08961818366365067,
          0.03883332316549642,
          -0.07979888360638082,
          -0.06273375380001324,
          -0.08755180428070193,
          -0.09128343990489789,
          -0.08435039280671758,
          0.02150141449368319,
          -0.09726078848132783,
          -0.0916646307249521,
          -0.06276261411625203,
          -0.08100335950309098,
          -0.09172253673971346,
          -0.08010015743259809,
          -0.09282529158247997,
          -0.0962317765754327,
          -0.004831711967987621,
          0.01415959036352429,
          -0.08035868027813134,
          -0.09563518616915158,
          -0.07057946400367816,
          -0.002615462680757578,
          -0.06468217655515372,
          -0.08397090256719336,
          -0.09112552844132063,
          -0.0014578537291029346,
          -0.052635094429204825,
          -0.09307313142395358,
          -0.050275948023205855,
          -0.059272209899285506,
          -0.0854905938930977,
          -0.09051854834248395,
          -0.01835019308494918,
          -0.08920518586199415,
          -0.09367879705876365,
          -0.0774858339364998,
          -0.01891026387712447,
          -0.08457814033083882,
          -0.08833427681005736,
          0.12186460495621024,
          0.052833539159703846,
          -0.07653906407197696,
          -0.013655352659458605,
          0.1946273639776362,
          -0.07507297859547968,
          -0.05739807741041701,
          -0.08323301607420369,
          -0.050566773419278246,
          -0.05836919027366165,
          0.04755772434253347,
          -0.08305461063985345,
          -0.08825613420927159,
          -0.0938083835970972,
          -0.06605336829141842,
          -0.062411375702709715,
          -0.0908350301886675,
          -0.03424132837603138,
          -0.09521992192193399,
          -0.07192797135280488,
          -0.012008033176249842,
          -0.07860453433528841,
          -0.0949691891442327,
          -0.09400670369740152,
          0.0014144640659119925,
          -0.07908184665030213,
          -0.004577168245813736,
          -0.09316502361192062,
          -0.06647451452917018,
          -0.05734089507655823,
          -0.08724651556539847,
          -0.08497632172636085,
          -0.09119108967831907,
          -0.08596338044617771,
          -0.07254450271793596,
          -0.07881710537753374,
          -0.01208694803942919,
          -0.09583536155835577,
          0.0715058533201469,
          -0.06738113569400382,
          -0.085517038487852,
          -0.01208694803942919,
          -0.09028720931365615,
          -0.0919217399633889,
          -0.09106344604718017,
          -0.09366261143338198,
          -0.0731978575934013,
          -0.08528064860604476,
          -0.09510240229345876,
          -0.09466906211174858,
          -0.09022537804198377,
          -0.06613640570926561,
          -0.019014917217267994,
          -0.07373492900230742,
          -0.09236860943842314,
          -0.07625455527193391,
          -0.07432755584132958,
          -0.0556903984948451,
          -0.09300305621874881,
          -0.06315104370253735,
          -0.09276205481371216,
          -0.08356636529859104,
          -0.0579785571301999,
          -0.07654817036618818,
          0.26885290219057734,
          -0.009117095062013919,
          -0.013655363522806004,
          -0.09322839180385598,
          -0.08320275232476552,
          -0.0951285282118132,
          -0.07430271872562073,
          -0.08077658017848902,
          0.0035847251122333446,
          -0.038495641825079835,
          -0.09134116491389091,
          -0.07254058069841106,
          -0.08500672954899338,
          -0.09246719931204568,
          -0.08965990056526955,
          -0.08731995719964544,
          -0.08819089359890159,
          -0.08461490626126933,
          -0.09059076235193622,
          -0.08547951659994711,
          -0.09319964624821596,
          -0.06120057699216167,
          -0.05429449536791357,
          0.1229601848235335,
          0.048117290036258385,
          0.036053942175993434,
          0.08812320995492454,
          -0.07919374058240262,
          -0.07779786699452236,
          -0.05125051722426228,
          -0.004577547429532405,
          -0.09106173146702663,
          0.09150107484656278,
          -0.08653431641006204,
          -0.08982070005001043,
          0.0017788154431966471,
          -0.007252146812811227,
          -0.08352539619509423,
          -0.039246994546121766,
          -0.015793416281840247,
          -0.08755180428070193,
          -0.08873526680000011,
          -0.09110569871829315,
          -0.057994862190285296,
          -0.05184654979399079,
          -0.0896186879223942,
          -0.09513295375668934,
          0.15554915069998018,
          -0.015783266130190744,
          -0.01662285838580939,
          -0.012693180364010407,
          -0.013655379033325614,
          -0.06218134164849764,
          -0.08986829264412943,
          -0.08686723113049984,
          -0.06024315753038633,
          -0.09570838300303282,
          -0.0882402683864186,
          -0.06425788319217071,
          -0.0592339568566817,
          -0.0930706345329336
         ],
         "xaxis": "x",
         "y": [
          0.019020188067395676,
          -0.15781163530167042,
          0.1949383073823537,
          0.011492945423657787,
          0.15663230258310287,
          0.09743560787728196,
          0.28954510994575294,
          -0.15907043521813535,
          -0.055138387788737565,
          0.3098655011919598,
          0.20256445854529204,
          -0.1316207104093363,
          -0.13388348961222957,
          -0.06200736757092834,
          -0.1341117602013876,
          -0.014743376603568309,
          -0.1521422309924304,
          0.20829413826830143,
          0.3182638585289935,
          -0.09221644711202408,
          0.17540243637970523,
          -0.07900439121085677,
          0.4319051336655224,
          -0.1597508068110377,
          0.05073173673745574,
          -0.03858516861425683,
          -0.039254855819754804,
          -0.08485609106681358,
          -0.16205972886197276,
          -0.08381000752216075,
          0.1765881123611857,
          0.12063025183487304,
          -0.030061891090361385,
          0.22191742800925468,
          0.3734745419514767,
          -0.08349385888512323,
          0.16722672970433677,
          0.2575203058950275,
          0.20580388657117354,
          0.0092342330854652,
          0.2431090730113453,
          0.061901922403773416,
          -0.1485636627446228,
          -0.151519410788549,
          0.5326489438220473,
          -0.07790674169466025,
          -0.1199207611014794,
          -0.020045069427239433,
          0.08640941922391826,
          -0.15947614984989367,
          -0.05965602990561612,
          -0.12217526505827801,
          0.4610510611922181,
          -0.09279166242498192,
          -0.012868490093620205,
          -0.15191963674080028,
          -0.0285969349725007,
          0.03403177844753919,
          -0.004133968099604658,
          -0.1401142747025612,
          0.21917362589089667,
          0.05165063972878381,
          -0.11130839068889672,
          -0.08404862602579674,
          -0.042597619154093436,
          -0.1753160740324371,
          -0.1109608205510578,
          0.07685040578778683,
          0.0020340975560626806,
          -0.1583679827585413,
          0.1339100206565582,
          -0.1343507221828125,
          -0.08363365907476306,
          0.0012160583535582804,
          -0.0397718239589706,
          -0.0877528841912316,
          0.22191742800925468,
          0.09298385079473087,
          -0.02812675164224988,
          0.010068811583528297,
          -0.07108632855357264,
          -0.03785680985036732,
          -0.1316188907105795,
          0.17005650068478026,
          0.43951323287368543,
          -0.06229582880054196,
          -0.07186436282625053,
          -0.0821360259170645,
          -0.0321618373564062,
          0.4151393870014079,
          0.47583586093542785,
          -0.14115227313101608,
          -0.1264019527815852,
          -0.1304435212096067,
          -0.059884009326335266,
          -0.09852091405351296,
          -0.12188924797782881,
          0.29815159878424957,
          -0.16205972886197276,
          0.008481606691395572,
          -0.11445003123964723,
          0.08409479848044436,
          -0.0317278129959583,
          0.05608891961032199,
          -0.04181850150779327,
          0.23403302348558594,
          0.07231751054809991,
          0.08272955457371281,
          -0.09214572569308452,
          -0.13420980683319345,
          -0.09070871337169438,
          -0.008453857390144147,
          0.040792775476620746,
          0.1071118702836134,
          0.09297545406197293,
          -0.1879271627443447,
          -0.18795130991540687,
          -0.14274798204111805,
          -0.1819964047196345,
          -0.14221101136328007,
          -0.11428838643417617,
          -0.14768135510793162,
          0.37123984807616023,
          0.25362297270636297,
          -0.15162482789289525,
          -0.16624402416558823,
          0.11034932792847689,
          -0.08967289209244304,
          -0.001742725056079728,
          -0.14900081745086116,
          -0.03157243278429737,
          -0.1413497437796745,
          -0.15231207833813742,
          -0.04331665544937725,
          -0.08939099534454001,
          -0.0022522013626295333,
          -0.17598512805387395,
          0.08980780372123351,
          -0.03878174867115781,
          -0.03365850090518284,
          -0.11999466854445279,
          0.05650297334837628,
          -0.06057936260524834,
          -0.15296055228041472,
          0.12989056743120025,
          -0.06360182561029429,
          0.2075492561577201,
          -0.09626370344523395,
          0.23250447430634763,
          -0.010877366872060524,
          -0.13444489162403103,
          -0.14767782709684116,
          -0.08808365281680447,
          -0.14850038872919039,
          -0.03909434106296094,
          0.009794974286948328,
          0.4649148610913965,
          0.12072796044279147,
          -0.10429187214187793,
          0.11377533881206356,
          -0.1351505845910022,
          0.21553414849520056,
          -0.14890153638578926,
          0.2552295551427999,
          0.3759426548328433,
          -0.09252932624553845,
          0.29027195513602005,
          -0.1471601619312186,
          -0.07249218318633015,
          -0.08669480024211734,
          -0.15152304773493733,
          0.01094819706630606,
          -0.05652284291192251,
          -0.08864630326588205,
          -0.004073604878494503,
          -0.03509202642375864,
          0.2229060536390979,
          -0.037012738722482744,
          0.07437249145165051,
          -0.07583996988417417,
          0.202097490509234,
          0.05124853479698333,
          -0.11337508666396334,
          0.04020237361159755,
          -0.061670824829918834,
          -0.08681370275096643,
          -0.10989676993239116,
          -0.043073347451518446,
          -0.05807237025068544,
          0.12301267548211854,
          -0.029846652433624006,
          -0.04691703001956429,
          0.1934987935388759,
          0.021870486710276436,
          -0.08332025159304868,
          -0.11053691547854723,
          0.08633124701629097,
          0.02138104123244424,
          0.343928654677549,
          0.2768528865365858,
          0.13908382267751307,
          0.20638555347646317,
          0.16320553155149448,
          -0.04605963651179554,
          0.48305858619187647,
          0.09362444689585109,
          0.08436763802252051,
          -0.16198935696590297,
          0.08551096600692858,
          -0.07063166644038973,
          0.17802922208952396,
          -0.02642089145456746,
          -0.019446214607567135,
          0.08708180868366551,
          -0.1115830887394764,
          -0.031691791140321786,
          0.05348395851662202,
          0.43078670684224607,
          -0.10294627569324757,
          -0.04521456819710842,
          -0.14957759286143657,
          0.04329762679090814,
          -0.03109495856571592,
          -0.08939031087034494,
          -0.10608014182245905,
          0.062271595102561146,
          -0.14606298867585757,
          0.007494388654284177,
          0.1693152094019532,
          -0.056281650051269935,
          0.4057187320273319,
          -0.03275750083840982,
          0.4979471065409801,
          -0.12018843576764582,
          0.04085519350306111,
          0.06529207155861641,
          0.00780693001401841,
          0.049380975530107715,
          -0.050958431268459795,
          0.05683044195560508,
          -0.08264513779447578,
          -0.03977181225034266,
          -0.17427250076557238,
          0.44740413491869563,
          -0.1316203472334296,
          -0.02132435335941377,
          -0.1268251052579139,
          -0.034963327065801936,
          0.15298170765814423,
          0.2314865379551685,
          -0.025597989594130077,
          0.08322799505172428,
          0.16526296717088745,
          0.2836536110683372,
          0.2875467696166089,
          -0.12235237498943136,
          0.1679468861821635,
          0.11056083666451069,
          -0.024685204033738542,
          -0.013763772099502136,
          -0.1236460482400479,
          0.08607061953975019,
          -0.14325609691056973,
          0.36437646718747174,
          0.05391580727628687,
          -0.024700726047005704,
          -0.1750638006509582,
          -0.04255400981841299,
          0.08998148756181251,
          -0.12748609727560756,
          0.01655060880979671,
          0.1917455115362213,
          -0.08842307647436853,
          -0.09596321777946233,
          -0.12350423608889674,
          -0.037012738722482744,
          -0.05516794857980584,
          -0.14975075273571095,
          0.18386825759526082,
          0.1304067003008572,
          0.21433961698448797,
          0.23403302348558594,
          0.007064273744034299,
          0.0946444160785432,
          -0.03163976109122953,
          -0.011527159005617911,
          0.039002545234314845,
          0.01408695664426608,
          0.17180900716074587,
          -0.17182353539825881,
          -0.014150810717353314,
          -0.08185929983882473,
          0.25953818390228034,
          0.2886157684922796,
          0.12569049220410772,
          0.11034867098921357,
          -0.07204240429649778,
          -0.17544764297543827,
          -0.05081112127006999,
          -0.006035997040121266,
          0.41695750239164353,
          -0.01825934062390175,
          -0.07043383217330286,
          -0.15180668074908293,
          0.13781307876994242,
          0.033257200259951186,
          -0.0829603006350033,
          0.014183147472870314,
          0.12985710765183844,
          0.4474104826405184,
          0.276398363870464,
          0.26788076403689204,
          -0.06182860521206379,
          -0.13386727681053778,
          -0.040783059273169456,
          -0.16646415994978514,
          0.5272400769548532,
          -0.06507441990399636,
          -0.0005917903610050222,
          -0.15167324228717116,
          -0.03220081627336444,
          -0.12591682971040433,
          0.11956360048910146,
          0.3607308806709757,
          0.06944224450193301,
          -0.03365850090518284,
          0.1709382443233148,
          -0.10895369560727577,
          0.2134816628825127,
          0.1414014095742384,
          -0.13161894672889793,
          0.22191741886509622,
          0.2221033185383711,
          -0.05841732454424774,
          0.09859961586366531,
          0.16904876240095734,
          -0.03548546845564256,
          -0.04966220728796976,
          0.1193064409910131,
          -0.0054043497948203754,
          -0.14909078815972387,
          0.2975266640755421,
          -0.09505748246793409,
          0.0036005413257690533,
          -0.13153834728980143,
          0.09477517478606337,
          -0.1316207664277766,
          0.2975293369844081,
          -0.14098517381910922,
          -0.10273528836314003,
          -0.11109632439376382,
          -0.13679315827562616,
          0.1612035322327697,
          -0.07502757187081122,
          0.0931509313375969,
          -0.06554470049549754,
          0.017187730982784748,
          0.03332654757094817,
          -0.16187349879478088,
          -0.027534694808583792,
          0.11695872476797323,
          -0.03222160194054567,
          0.04653898795606768,
          -0.099025483215968,
          0.09298274747495815,
          -0.1747510003986512,
          -0.09548776953376918,
          -0.05413513703435709,
          -0.1655960314388058,
          0.09269177951802986,
          -0.11901190416655152,
          0.08980780372123351,
          0.29027195513602005,
          0.19274120115869234,
          -0.0346449985938899,
          -0.1448617416475793,
          0.19274208484763541,
          0.1934987935388759,
          -0.12350441021959656,
          -0.07495696955108623,
          -0.07602381166942765,
          0.19274208484763541,
          -0.0755824264139723,
          0.16213570761638474,
          0.05583040013065022,
          -0.05054046451035925,
          -0.1031145487056993,
          -0.11548848587621849,
          -0.02364596807318711,
          0.04868813916192729,
          0.23822767140683854,
          -0.1578646148841266,
          0.058497767366286965,
          0.09168234172158253,
          0.06339020050460924,
          -0.13288351118772043,
          -0.08739718074417718,
          -0.09997286782673658,
          -0.149511722140811,
          -0.12018848309531631,
          -0.08053321491391797,
          0.014184907776411819,
          0.10416203616491486,
          0.11771265341177264,
          -0.09465009624893693,
          -0.11106902546421427,
          -0.04518187247840725,
          -0.10886739461130453,
          -0.06127363208654619,
          0.02045398500652502,
          -0.015711552258716822,
          -0.1514828812804117,
          -0.10569606145707586,
          -0.01769936553031545,
          0.10248187340677341,
          -0.039676204731504114,
          0.16924055095510745,
          -0.13341447005460214,
          -0.08468485417564953,
          0.15795926358683354,
          0.21157073807857216,
          0.1387834072721014,
          0.1314542538465294,
          -0.08854087930242975,
          0.13100283383734293,
          0.25524506756601,
          -0.04009474010443331,
          0.20519779216059275,
          -0.017681048820278752,
          -0.1542781598989443,
          0.5235123069851753,
          0.014172381919634653,
          0.022581109624624205,
          -0.09443708248466032,
          -0.08502407618282018,
          -0.11172636571648478,
          -0.08447843646499506,
          -0.04703957839127097,
          -0.06773320934669329,
          0.21802235669323172,
          0.11705288259514934,
          -0.053156118555577773,
          -0.1578468317956075,
          0.20249451936804097,
          0.05958277025168596,
          0.044480917436701815,
          -0.14261447632417137,
          -0.014219098027626253,
          -0.04145239690078917,
          -0.09256658992426348,
          0.11455241272311763,
          0.2951859866116511,
          -0.06634347314019563,
          -0.17220662520717375,
          -0.16400462851632602,
          -0.09199412843901708,
          0.2229060536390979,
          -0.1315398016289544,
          -0.02488714562003645,
          0.03335865627462825,
          -0.15124629556622354,
          -0.10740860282717903,
          0.3099592798187204,
          -0.17424679358025627,
          0.20705857150268048,
          -0.08022772771368973,
          -0.03283398368748582,
          -0.02931928877857224,
          -0.08967295110449099,
          0.10096096902494724,
          0.15978009344798091,
          0.03078444218092906,
          0.09297518930907492,
          0.5178662080810728,
          0.05237511614240092,
          0.129041130070462,
          -0.13454116501005203,
          -0.17489647572414954,
          -0.0971334280337279,
          0.07619878074586428,
          -0.03715805732849647,
          0.05945504814652523,
          0.07759302210190558,
          0.28679811696979957,
          -0.0018310445033372163,
          -0.1297290197850098,
          0.2771778702239314,
          0.2536676254682526,
          0.09312677804317511,
          0.08284323863309355,
          0.2143396052898004,
          0.025134449486820722,
          -0.17044318070843661,
          0.2219174283018284,
          -0.03701369575520046,
          0.532723961343781,
          0.11818408492506524,
          0.08148789355402764,
          -0.1454092725254545,
          -0.04452791388768933,
          -0.08502351144080246,
          0.39148751164497025,
          0.12050188785468126,
          0.002304895747406719,
          -0.1441164023399408,
          -0.03887518487783827,
          0.2254063223180911,
          -0.13417738796994422,
          0.08208224635513833,
          -0.018584175736871458,
          0.0689163130108613,
          -0.07280728606438641,
          -0.12213495016506498,
          0.2229060536390979,
          -0.02188879069306539,
          0.4472166873733894,
          0.3565122130585997,
          0.20477874127252832,
          0.15341130289897215,
          -0.08073078292468616,
          0.14779759426837202,
          0.4185192377983203,
          0.20495731020508173,
          -0.07828365127484321,
          -0.16184916051888157,
          0.1768445341894561,
          -0.14739942130903189,
          -0.03503087912096587,
          -0.062432574593298165,
          -0.08568172849319657,
          -0.12312134796126639,
          -0.06628495367584455,
          0.2768528865365858,
          -0.14389933417622608,
          -0.06142035963878334,
          -0.13162077304122477,
          0.27685275336876464,
          -0.17085359101442388,
          0.025251320745292908,
          -0.003080168948500368,
          -0.012468745744560009,
          -0.0037850366298901594,
          0.22452872007837144,
          -0.06768488959714615,
          -0.001292919008289303,
          -0.06470995268596261,
          0.13274964448088575,
          0.05486376252895012,
          -0.13351389627282187,
          0.17684453299105554,
          -0.12350423608889674,
          0.06857791183717436,
          0.22608421172149043,
          -0.16299606353426718,
          0.23590117495874982,
          -0.0775598822341091,
          -0.10036706981482495,
          -0.15022767046555108,
          -0.16075595351829142,
          -0.050577310914224405,
          0.28714233012851775,
          -0.006747860858493953,
          0.0979383823565201,
          0.36026503725351466,
          -0.11971778909782432,
          0.05822906531677272,
          -0.04432836860889095,
          0.029725835454178222,
          -0.042351000434890436,
          0.09735573910675169,
          0.14315394521046565,
          0.03396507345547593,
          0.13512460437617693,
          0.040432221656454236,
          -0.09852094847465341,
          -0.11100648439564137,
          -0.09407065681758023,
          -0.10968942310378592,
          -0.030926957670324055,
          0.18891747671890097,
          0.04315336748483129,
          -0.016400181718632927,
          -0.03954225410330146,
          -0.07416462351632418,
          0.022824612953013145,
          -0.13073178689876216,
          0.05749505337869482,
          -0.05947529968482673,
          -0.08677184022882317,
          -0.10134508578537331,
          0.10081021686013497,
          -0.1600683076068701,
          0.1025695616004088,
          -0.003630055317802129,
          -0.07713050881519365,
          -0.10729945955542194,
          0.05004751710328622,
          -0.1315281379109055,
          0.19721648755771573,
          0.23822767140683854,
          0.003323504205692196,
          0.04509687064214938,
          0.12018275979747647,
          0.18707060723907665,
          0.163398086849786,
          0.0576437100463136,
          -0.09255219206856924,
          -0.06874673863033308,
          0.17217279036496017,
          -0.11929343195882171,
          0.19129400361560672,
          0.22191742800925468,
          -0.031691791140321786,
          -0.11595405393832643,
          0.1096631795756087,
          0.14949417305325172,
          0.43980906529434693,
          0.5005347537120114,
          -0.044444077947438786,
          -0.029968669796194666,
          -0.13389961322346927,
          -0.019107742424784982,
          -0.10685300715076652,
          -0.07862268357996319,
          0.04407404091799091,
          -0.09996535048720075,
          0.07730722815225564,
          -0.15140797073137074,
          0.45123525153591343,
          0.0665097631789999,
          -0.06507444738898112,
          0.21433961698448797,
          -0.08584708366271693,
          0.19495893890538463,
          -0.12388168486122357,
          -0.0806023829914861,
          -0.00000446932326272226,
          -0.1343507221828125,
          -0.0809962603286653,
          0.09368428009305352,
          -0.12490243666534755,
          0.023327725714319115,
          -0.011085822501985582,
          0.017840625387685966,
          0.23822767140683854,
          -0.11106920622726107,
          -0.01890539782022741,
          -0.028171608647396856,
          -0.0009561678735077127,
          0.2126187531582566,
          -0.08939112245528215,
          0.11898614472858336,
          0.19277714609160873,
          -0.11541924566769596,
          -0.10569606145707586,
          -0.07739500076961764,
          0.04186692230930472,
          -0.12099202761386431,
          -0.16727427400917935,
          0.020466694581336528,
          -0.15907043521813535,
          -0.056117211471635786,
          0.13034921834829002,
          0.10876767374131054,
          0.04556781275509197,
          0.13312808791061426,
          0.23246322405846928,
          -0.13739784836470562,
          0.14391733882978555,
          -0.09953664437222019,
          -0.07379830372986454,
          0.13303554964270697,
          0.24225363842787104,
          0.0689163130108613,
          0.06135831606346406,
          0.1859019683213803,
          -0.1505765794354791,
          0.08633343118801637,
          0.21210418263669542,
          -0.1438911069591641,
          -0.09878378438015047,
          -0.12232174775213432,
          -0.09257070845869507,
          -0.10583303138726172,
          -0.05438453835531147,
          0.16623872555832622,
          -0.14831352937699677,
          -0.09407065681758023,
          0.22460318221696282,
          -0.12616433960723739,
          0.12234319997214918,
          0.17338128083815776,
          -0.02174604780655295,
          -0.11887535024282392,
          -0.08008850595199268,
          -0.07757423949357267,
          -0.13648270681804875,
          -0.03103359232691834,
          0.30688666523014474,
          0.0689095372557935,
          -0.07155308524536386,
          -0.1315281379109055,
          0.5327447703257367,
          0.1086098092550895,
          -0.12605204536151723,
          -0.15577015959502535,
          -0.029968418305561576,
          0.05314433634036686,
          0.1318895242081266,
          0.07352961218702932,
          0.3746188539522059,
          0.34756356584674286,
          -0.07280343927217864,
          -0.02174604780655295,
          -0.023481835736097998,
          -0.05856821217068485,
          0.09241516585002428,
          0.02123357645228003,
          0.12018954613552237,
          -0.1469881941528223,
          -0.06440570987846932,
          0.0532761672468321,
          0.019199186927343983,
          0.04400770650866891,
          -0.11492832864645336,
          -0.13971421685552726,
          -0.07692671819890755,
          0.03449667196281414,
          0.2324482068975891,
          0.08758914541942127,
          0.09407876279969145,
          -0.0001405349882638852,
          -0.16577629707241734,
          0.25999839844700057,
          0.29476084017627885,
          -0.15259832354332295,
          -0.08899406615622343,
          0.44089082695610987,
          0.3344688320275692,
          -0.024345112866734134,
          0.04938444556318668,
          -0.09714396161072027,
          -0.10612701794518666,
          -0.056117211471635786,
          0.29036611026355874,
          -0.18536670297551697,
          -0.12432176581149297,
          0.055635855393293174,
          -0.031244122624547746,
          -0.11085451440766209,
          -0.025560273396168842,
          -0.13066307877889483,
          -0.1726130724782679,
          0.22614433864181704,
          0.2894593444540827,
          -0.04823357616200946,
          -0.15857754604380886,
          0.019231473354872953,
          0.2514586531445079,
          0.035828502367190825,
          -0.05086030100546227,
          -0.11034348795629452,
          0.25362297270636297,
          0.09215179022866582,
          -0.1226473964874775,
          0.10765674929562243,
          0.07446222084215774,
          -0.07186345001480236,
          -0.11492833590585683,
          0.20249403282992784,
          -0.09034881849648513,
          -0.13217157112125558,
          -0.032347135436294736,
          0.20363125914197946,
          -0.05184985338856567,
          -0.11485801954291726,
          0.49078649072301533,
          0.3711891553847915,
          -0.008204367642295082,
          0.22290607001774113,
          0.07267573702943034,
          -0.006748115025801752,
          0.03511327860328004,
          -0.08322127000449284,
          0.08825072132718888,
          0.061426178088283157,
          0.3607307876864006,
          -0.054577080451321265,
          -0.08213632292308656,
          -0.13091623686318915,
          -0.006519011185254301,
          0.04938152286599765,
          -0.11337040153099727,
          0.14982921076154948,
          -0.14847703567539297,
          -0.012070938479810452,
          0.20519779216059275,
          -0.09885933582335861,
          -0.1444010232928436,
          -0.1340162730721756,
          0.2370576537066764,
          -0.10747269531383206,
          0.22191742800925468,
          -0.13272907941750045,
          0.03835317226498998,
          0.06812225792685282,
          -0.0838744893251665,
          -0.08648670629332503,
          -0.13352238758697674,
          -0.08101180498879768,
          0.01655060880979671,
          -0.038569771285300994,
          0.21551616537805948,
          -0.1575750127105982,
          0.4049565294515629,
          0.020454282163571456,
          -0.059226551667670733,
          0.21551616537805948,
          -0.11489499316386383,
          -0.1117148843318698,
          -0.10892193865989759,
          -0.12902055030680443,
          -0.014192059986867787,
          -0.09436483716048691,
          -0.1501091591846472,
          -0.14859793519875614,
          -0.11537046011960791,
          0.006878888046091045,
          0.20829402437403322,
          -0.026107713455910255,
          -0.1343507221828125,
          -0.010090226235343554,
          -0.04649293402499472,
          0.0883906538012529,
          -0.1312841946407121,
          0.012422955346072016,
          -0.12350400344411701,
          -0.09159646118492076,
          0.07523252251065767,
          -0.03957192825347251,
          0.3496890155896352,
          0.23224436194057568,
          0.2229060536390979,
          -0.12440898183053001,
          -0.05119317948584431,
          -0.14663500682278596,
          0.006892277753747077,
          -0.047605735108573036,
          0.2667425297898611,
          0.14362905622106678,
          -0.10611702857815267,
          0.013162853871194926,
          -0.05577042768242863,
          -0.12082492129211207,
          -0.09241774331487025,
          -0.0880578348187331,
          -0.09924522882897273,
          -0.11195431062615363,
          -0.10039418619754686,
          -0.07606536475487656,
          -0.13379772774438403,
          0.05635039892450491,
          0.0845390734802825,
          0.48293003382229827,
          0.3640037459816698,
          0.33717844910635575,
          0.42793246654792694,
          -0.024882010082682045,
          -0.025700139343199275,
          0.10671513608237501,
          0.22191741886509622,
          -0.13386728320854213,
          0.4440144781617895,
          -0.08404862602579674,
          -0.0952706124344351,
          0.26233930863120536,
          0.23720709149186914,
          -0.08502407618282018,
          0.13822306495604014,
          0.19308725791632372,
          -0.09714396161072027,
          -0.09419450693766741,
          -0.13543467506176854,
          0.04100980853283359,
          0.10454035145173604,
          -0.094120296129233,
          -0.14699420863537332,
          0.5250423071748525,
          0.21646203412469003,
          0.18011854387316956,
          0.21861644356972612,
          0.22290602936336135,
          -0.033897377121585824,
          -0.09553475325002929,
          -0.08717838753683421,
          0.06728255047193887,
          -0.17582493588479528,
          -0.08725400530311248,
          0.04875137096626286,
          0.06525826557755196,
          -0.12231321662013231
         ],
         "yaxis": "y"
        }
       ],
       "layout": {
        "legend": {
         "title": {
          "text": "color"
         },
         "tracegroupgap": 0
        },
        "margin": {
         "t": 60
        },
        "template": {
         "data": {
          "bar": [
           {
            "error_x": {
             "color": "#2a3f5f"
            },
            "error_y": {
             "color": "#2a3f5f"
            },
            "marker": {
             "line": {
              "color": "#E5ECF6",
              "width": 0.5
             },
             "pattern": {
              "fillmode": "overlay",
              "size": 10,
              "solidity": 0.2
             }
            },
            "type": "bar"
           }
          ],
          "barpolar": [
           {
            "marker": {
             "line": {
              "color": "#E5ECF6",
              "width": 0.5
             },
             "pattern": {
              "fillmode": "overlay",
              "size": 10,
              "solidity": 0.2
             }
            },
            "type": "barpolar"
           }
          ],
          "carpet": [
           {
            "aaxis": {
             "endlinecolor": "#2a3f5f",
             "gridcolor": "white",
             "linecolor": "white",
             "minorgridcolor": "white",
             "startlinecolor": "#2a3f5f"
            },
            "baxis": {
             "endlinecolor": "#2a3f5f",
             "gridcolor": "white",
             "linecolor": "white",
             "minorgridcolor": "white",
             "startlinecolor": "#2a3f5f"
            },
            "type": "carpet"
           }
          ],
          "choropleth": [
           {
            "colorbar": {
             "outlinewidth": 0,
             "ticks": ""
            },
            "type": "choropleth"
           }
          ],
          "contour": [
           {
            "colorbar": {
             "outlinewidth": 0,
             "ticks": ""
            },
            "colorscale": [
             [
              0,
              "#0d0887"
             ],
             [
              0.1111111111111111,
              "#46039f"
             ],
             [
              0.2222222222222222,
              "#7201a8"
             ],
             [
              0.3333333333333333,
              "#9c179e"
             ],
             [
              0.4444444444444444,
              "#bd3786"
             ],
             [
              0.5555555555555556,
              "#d8576b"
             ],
             [
              0.6666666666666666,
              "#ed7953"
             ],
             [
              0.7777777777777778,
              "#fb9f3a"
             ],
             [
              0.8888888888888888,
              "#fdca26"
             ],
             [
              1,
              "#f0f921"
             ]
            ],
            "type": "contour"
           }
          ],
          "contourcarpet": [
           {
            "colorbar": {
             "outlinewidth": 0,
             "ticks": ""
            },
            "type": "contourcarpet"
           }
          ],
          "heatmap": [
           {
            "colorbar": {
             "outlinewidth": 0,
             "ticks": ""
            },
            "colorscale": [
             [
              0,
              "#0d0887"
             ],
             [
              0.1111111111111111,
              "#46039f"
             ],
             [
              0.2222222222222222,
              "#7201a8"
             ],
             [
              0.3333333333333333,
              "#9c179e"
             ],
             [
              0.4444444444444444,
              "#bd3786"
             ],
             [
              0.5555555555555556,
              "#d8576b"
             ],
             [
              0.6666666666666666,
              "#ed7953"
             ],
             [
              0.7777777777777778,
              "#fb9f3a"
             ],
             [
              0.8888888888888888,
              "#fdca26"
             ],
             [
              1,
              "#f0f921"
             ]
            ],
            "type": "heatmap"
           }
          ],
          "heatmapgl": [
           {
            "colorbar": {
             "outlinewidth": 0,
             "ticks": ""
            },
            "colorscale": [
             [
              0,
              "#0d0887"
             ],
             [
              0.1111111111111111,
              "#46039f"
             ],
             [
              0.2222222222222222,
              "#7201a8"
             ],
             [
              0.3333333333333333,
              "#9c179e"
             ],
             [
              0.4444444444444444,
              "#bd3786"
             ],
             [
              0.5555555555555556,
              "#d8576b"
             ],
             [
              0.6666666666666666,
              "#ed7953"
             ],
             [
              0.7777777777777778,
              "#fb9f3a"
             ],
             [
              0.8888888888888888,
              "#fdca26"
             ],
             [
              1,
              "#f0f921"
             ]
            ],
            "type": "heatmapgl"
           }
          ],
          "histogram": [
           {
            "marker": {
             "pattern": {
              "fillmode": "overlay",
              "size": 10,
              "solidity": 0.2
             }
            },
            "type": "histogram"
           }
          ],
          "histogram2d": [
           {
            "colorbar": {
             "outlinewidth": 0,
             "ticks": ""
            },
            "colorscale": [
             [
              0,
              "#0d0887"
             ],
             [
              0.1111111111111111,
              "#46039f"
             ],
             [
              0.2222222222222222,
              "#7201a8"
             ],
             [
              0.3333333333333333,
              "#9c179e"
             ],
             [
              0.4444444444444444,
              "#bd3786"
             ],
             [
              0.5555555555555556,
              "#d8576b"
             ],
             [
              0.6666666666666666,
              "#ed7953"
             ],
             [
              0.7777777777777778,
              "#fb9f3a"
             ],
             [
              0.8888888888888888,
              "#fdca26"
             ],
             [
              1,
              "#f0f921"
             ]
            ],
            "type": "histogram2d"
           }
          ],
          "histogram2dcontour": [
           {
            "colorbar": {
             "outlinewidth": 0,
             "ticks": ""
            },
            "colorscale": [
             [
              0,
              "#0d0887"
             ],
             [
              0.1111111111111111,
              "#46039f"
             ],
             [
              0.2222222222222222,
              "#7201a8"
             ],
             [
              0.3333333333333333,
              "#9c179e"
             ],
             [
              0.4444444444444444,
              "#bd3786"
             ],
             [
              0.5555555555555556,
              "#d8576b"
             ],
             [
              0.6666666666666666,
              "#ed7953"
             ],
             [
              0.7777777777777778,
              "#fb9f3a"
             ],
             [
              0.8888888888888888,
              "#fdca26"
             ],
             [
              1,
              "#f0f921"
             ]
            ],
            "type": "histogram2dcontour"
           }
          ],
          "mesh3d": [
           {
            "colorbar": {
             "outlinewidth": 0,
             "ticks": ""
            },
            "type": "mesh3d"
           }
          ],
          "parcoords": [
           {
            "line": {
             "colorbar": {
              "outlinewidth": 0,
              "ticks": ""
             }
            },
            "type": "parcoords"
           }
          ],
          "pie": [
           {
            "automargin": true,
            "type": "pie"
           }
          ],
          "scatter": [
           {
            "marker": {
             "colorbar": {
              "outlinewidth": 0,
              "ticks": ""
             }
            },
            "type": "scatter"
           }
          ],
          "scatter3d": [
           {
            "line": {
             "colorbar": {
              "outlinewidth": 0,
              "ticks": ""
             }
            },
            "marker": {
             "colorbar": {
              "outlinewidth": 0,
              "ticks": ""
             }
            },
            "type": "scatter3d"
           }
          ],
          "scattercarpet": [
           {
            "marker": {
             "colorbar": {
              "outlinewidth": 0,
              "ticks": ""
             }
            },
            "type": "scattercarpet"
           }
          ],
          "scattergeo": [
           {
            "marker": {
             "colorbar": {
              "outlinewidth": 0,
              "ticks": ""
             }
            },
            "type": "scattergeo"
           }
          ],
          "scattergl": [
           {
            "marker": {
             "colorbar": {
              "outlinewidth": 0,
              "ticks": ""
             }
            },
            "type": "scattergl"
           }
          ],
          "scattermapbox": [
           {
            "marker": {
             "colorbar": {
              "outlinewidth": 0,
              "ticks": ""
             }
            },
            "type": "scattermapbox"
           }
          ],
          "scatterpolar": [
           {
            "marker": {
             "colorbar": {
              "outlinewidth": 0,
              "ticks": ""
             }
            },
            "type": "scatterpolar"
           }
          ],
          "scatterpolargl": [
           {
            "marker": {
             "colorbar": {
              "outlinewidth": 0,
              "ticks": ""
             }
            },
            "type": "scatterpolargl"
           }
          ],
          "scatterternary": [
           {
            "marker": {
             "colorbar": {
              "outlinewidth": 0,
              "ticks": ""
             }
            },
            "type": "scatterternary"
           }
          ],
          "surface": [
           {
            "colorbar": {
             "outlinewidth": 0,
             "ticks": ""
            },
            "colorscale": [
             [
              0,
              "#0d0887"
             ],
             [
              0.1111111111111111,
              "#46039f"
             ],
             [
              0.2222222222222222,
              "#7201a8"
             ],
             [
              0.3333333333333333,
              "#9c179e"
             ],
             [
              0.4444444444444444,
              "#bd3786"
             ],
             [
              0.5555555555555556,
              "#d8576b"
             ],
             [
              0.6666666666666666,
              "#ed7953"
             ],
             [
              0.7777777777777778,
              "#fb9f3a"
             ],
             [
              0.8888888888888888,
              "#fdca26"
             ],
             [
              1,
              "#f0f921"
             ]
            ],
            "type": "surface"
           }
          ],
          "table": [
           {
            "cells": {
             "fill": {
              "color": "#EBF0F8"
             },
             "line": {
              "color": "white"
             }
            },
            "header": {
             "fill": {
              "color": "#C8D4E3"
             },
             "line": {
              "color": "white"
             }
            },
            "type": "table"
           }
          ]
         },
         "layout": {
          "annotationdefaults": {
           "arrowcolor": "#2a3f5f",
           "arrowhead": 0,
           "arrowwidth": 1
          },
          "autotypenumbers": "strict",
          "coloraxis": {
           "colorbar": {
            "outlinewidth": 0,
            "ticks": ""
           }
          },
          "colorscale": {
           "diverging": [
            [
             0,
             "#8e0152"
            ],
            [
             0.1,
             "#c51b7d"
            ],
            [
             0.2,
             "#de77ae"
            ],
            [
             0.3,
             "#f1b6da"
            ],
            [
             0.4,
             "#fde0ef"
            ],
            [
             0.5,
             "#f7f7f7"
            ],
            [
             0.6,
             "#e6f5d0"
            ],
            [
             0.7,
             "#b8e186"
            ],
            [
             0.8,
             "#7fbc41"
            ],
            [
             0.9,
             "#4d9221"
            ],
            [
             1,
             "#276419"
            ]
           ],
           "sequential": [
            [
             0,
             "#0d0887"
            ],
            [
             0.1111111111111111,
             "#46039f"
            ],
            [
             0.2222222222222222,
             "#7201a8"
            ],
            [
             0.3333333333333333,
             "#9c179e"
            ],
            [
             0.4444444444444444,
             "#bd3786"
            ],
            [
             0.5555555555555556,
             "#d8576b"
            ],
            [
             0.6666666666666666,
             "#ed7953"
            ],
            [
             0.7777777777777778,
             "#fb9f3a"
            ],
            [
             0.8888888888888888,
             "#fdca26"
            ],
            [
             1,
             "#f0f921"
            ]
           ],
           "sequentialminus": [
            [
             0,
             "#0d0887"
            ],
            [
             0.1111111111111111,
             "#46039f"
            ],
            [
             0.2222222222222222,
             "#7201a8"
            ],
            [
             0.3333333333333333,
             "#9c179e"
            ],
            [
             0.4444444444444444,
             "#bd3786"
            ],
            [
             0.5555555555555556,
             "#d8576b"
            ],
            [
             0.6666666666666666,
             "#ed7953"
            ],
            [
             0.7777777777777778,
             "#fb9f3a"
            ],
            [
             0.8888888888888888,
             "#fdca26"
            ],
            [
             1,
             "#f0f921"
            ]
           ]
          },
          "colorway": [
           "#636efa",
           "#EF553B",
           "#00cc96",
           "#ab63fa",
           "#FFA15A",
           "#19d3f3",
           "#FF6692",
           "#B6E880",
           "#FF97FF",
           "#FECB52"
          ],
          "font": {
           "color": "#2a3f5f"
          },
          "geo": {
           "bgcolor": "white",
           "lakecolor": "white",
           "landcolor": "#E5ECF6",
           "showlakes": true,
           "showland": true,
           "subunitcolor": "white"
          },
          "hoverlabel": {
           "align": "left"
          },
          "hovermode": "closest",
          "mapbox": {
           "style": "light"
          },
          "paper_bgcolor": "white",
          "plot_bgcolor": "#E5ECF6",
          "polar": {
           "angularaxis": {
            "gridcolor": "white",
            "linecolor": "white",
            "ticks": ""
           },
           "bgcolor": "#E5ECF6",
           "radialaxis": {
            "gridcolor": "white",
            "linecolor": "white",
            "ticks": ""
           }
          },
          "scene": {
           "xaxis": {
            "backgroundcolor": "#E5ECF6",
            "gridcolor": "white",
            "gridwidth": 2,
            "linecolor": "white",
            "showbackground": true,
            "ticks": "",
            "zerolinecolor": "white"
           },
           "yaxis": {
            "backgroundcolor": "#E5ECF6",
            "gridcolor": "white",
            "gridwidth": 2,
            "linecolor": "white",
            "showbackground": true,
            "ticks": "",
            "zerolinecolor": "white"
           },
           "zaxis": {
            "backgroundcolor": "#E5ECF6",
            "gridcolor": "white",
            "gridwidth": 2,
            "linecolor": "white",
            "showbackground": true,
            "ticks": "",
            "zerolinecolor": "white"
           }
          },
          "shapedefaults": {
           "line": {
            "color": "#2a3f5f"
           }
          },
          "ternary": {
           "aaxis": {
            "gridcolor": "white",
            "linecolor": "white",
            "ticks": ""
           },
           "baxis": {
            "gridcolor": "white",
            "linecolor": "white",
            "ticks": ""
           },
           "bgcolor": "#E5ECF6",
           "caxis": {
            "gridcolor": "white",
            "linecolor": "white",
            "ticks": ""
           }
          },
          "title": {
           "x": 0.05
          },
          "xaxis": {
           "automargin": true,
           "gridcolor": "white",
           "linecolor": "white",
           "ticks": "",
           "title": {
            "standoff": 15
           },
           "zerolinecolor": "white",
           "zerolinewidth": 2
          },
          "yaxis": {
           "automargin": true,
           "gridcolor": "white",
           "linecolor": "white",
           "ticks": "",
           "title": {
            "standoff": 15
           },
           "zerolinecolor": "white",
           "zerolinewidth": 2
          }
         }
        },
        "xaxis": {
         "anchor": "y",
         "domain": [
          0,
          1
         ],
         "title": {
          "text": "x"
         }
        },
        "yaxis": {
         "anchor": "x",
         "domain": [
          0,
          1
         ],
         "title": {
          "text": "y"
         }
        }
       }
      }
     },
     "metadata": {},
     "output_type": "display_data"
    }
   ],
   "source": [
    "from sklearn.decomposition import PCA\n",
    "import plotly.express as px\n",
    "import plotly.graph_objects as go\n",
    "\n",
    "spam_pca = PCA(copy=True, iterated_power='auto', n_components=7, random_state=42)  # create PCA model\n",
    "spam_pca.fit(X_train)  # fit the model\n",
    " \n",
    "X_pca = spam_pca.transform(X_train)  # transform the data\n",
    "\n",
    "fig = px.scatter(X_pca, x=X_pca[:,0], y=X_pca[:,1], color=y_train)   # plot the data\n",
    "fig.show()  # display the plot of the first two components.\n"
   ]
  },
  {
   "cell_type": "markdown",
   "id": "f3930717",
   "metadata": {},
   "source": [
    "This graph is very interesting as it is letting us visualize a 57 dimensional problem in two dimensions. It can be seen that there is a visual decision boundary based on the two largest principal components. Attemping to separate this using a SVM proved to have lower accuracy than running SVM without PCA applied."
   ]
  },
  {
   "cell_type": "code",
   "execution_count": 28,
   "id": "ca5375a3",
   "metadata": {},
   "outputs": [
    {
     "data": {
      "text/plain": [
       "(7, 57)"
      ]
     },
     "execution_count": 28,
     "metadata": {},
     "output_type": "execute_result"
    }
   ],
   "source": [
    "Xcps = spam_pca.components_  # get the principal components\n",
    "Xcps.shape  # get the shape of the principal components"
   ]
  },
  {
   "cell_type": "markdown",
   "id": "f32f471e",
   "metadata": {},
   "source": [
    "In order to determine the right amount of prinicipal componenet to use we can use the explained variance ratio. \n",
    "\n",
    "The explained variance ratio is the percentage of variance that is attributed by each of the selected components. Ideally, you would choose the number of components to include in your model by adding the explained variance ratio of each component until you reach a total of around 0.8 or 80% to avoid overfitting. [Source](https://towardsdatascience.com/dealing-with-highly-dimensional-data-using-principal-component-analysis-pca-fea1ca817fe6#:~:text=The%20explained%20variance%20ratio%20is,or%2080%25%20to%20avoid%20overfitting.)\n",
    "\n",
    "Here I added components one at a time until explained variance ratio of 80% was achieved."
   ]
  },
  {
   "cell_type": "code",
   "execution_count": 30,
   "id": "5d24e807",
   "metadata": {},
   "outputs": [
    {
     "name": "stdout",
     "output_type": "stream",
     "text": [
      "\n",
      " Total Variance Explained with 7 principal components: 82.46\n"
     ]
    }
   ],
   "source": [
    "spam_var_ratio = spam_pca.explained_variance_ratio_ # get the explained variance ratio\n",
    "print('\\n Total Variance Explained with 7 principal components:'\n",
    "            , round(sum(list(spam_pca.explained_variance_ratio_))*100, 2))  # get total variance explained"
   ]
  },
  {
   "cell_type": "markdown",
   "id": "f825cf58",
   "metadata": {},
   "source": [
    "We can see that the two classes are pretty distinct and fairly separable. We can conclude that the compressed data representation is most likely sufficient for a classification model. We can compare the variance in the overall dataset to what was captured from our seven primary components using .explained_variance_ratio_. \n",
    "\n",
    "Now let us also take a look at which features may be the most important for classification in the dataset by looking into a decision tree."
   ]
  },
  {
   "cell_type": "markdown",
   "id": "9ba3998b",
   "metadata": {},
   "source": [
    "# Part 8: Decision Tree\n",
    "\n",
    "Utilizing a decision tree can be quite elucidating when using a dataset with many features as it can bring to light the most important factors that lead to a classification. \n",
    "\n",
    "In the decision tree created below using the sklearn library, it can be seen that the number one deciding factor is whether or not a '$' is in the email. This makes sense since a large amount of spam mentions money whereas legitimate email oftentimes does not. It can also be seen that lack of the word HP in the Email increases the chances of the spam classification since the dataset was trained on HP company Emails.\n",
    "\n",
    "With selecting a depth of two an accuracy of ~ 0.86 is acheived whereas not limiting the depth results in a depth of 23 and an accuracy of ~ 0.90 which is not significantly much better."
   ]
  },
  {
   "cell_type": "code",
   "execution_count": 20,
   "id": "3018407b",
   "metadata": {},
   "outputs": [
    {
     "name": "stdout",
     "output_type": "stream",
     "text": [
      "Test Set Accuracy is: 0.86\n"
     ]
    },
    {
     "data": {
      "image/png": "[encoded data removed]",
      "text/plain": [
       "<Figure size 1440x1440 with 1 Axes>"
      ]
     },
     "metadata": {
      "needs_background": "light"
     },
     "output_type": "display_data"
    }
   ],
   "source": [
    "from sklearn.tree import DecisionTreeClassifier, plot_tree\n",
    "\n",
    "spam_tree = DecisionTreeClassifier(splitter=\"best\", max_depth=2 , random_state=42)  # create the model\n",
    "spam_tree.fit(X_train, y_train);  # fit the model\n",
    "\n",
    " \n",
    "plt.figure(figsize=(20,20))  # create a figure of size 20x20\n",
    "plot_tree(spam_tree, filled=True, rounded=True, feature_names=spam_features)  # plot the tree\n",
    "plt.savefig('tree.pdf') # save the tree as a pdf\n",
    "print(f'Test Set Accuracy is: {spam_tree.score(X_test,y_test):2.2f}')  # print the accuracy of the model\n",
    "plt.show()  # display plot"
   ]
  },
  {
   "cell_type": "markdown",
   "id": "6525432e",
   "metadata": {},
   "source": [
    "Seeing the accuracy of just a depth of two makes one wonder what the accuracy would be with various depths. Below we see the code needed to plot the accuracy versus depth.\n",
    "\n",
    "It can be seen that the accuracy, based on the train/test split, seems to form an asyptote at around an accuracy of 0.90. What is intersting is how fast the accuracy reaches this point. At around a depth of 3-4 the accuracy seems to hit a maximum value."
   ]
  },
  {
   "cell_type": "code",
   "execution_count": 21,
   "id": "ca70a3e3",
   "metadata": {},
   "outputs": [
    {
     "data": {
      "image/png": "[encoded data removed]",
      "text/plain": [
       "<Figure size 1080x576 with 1 Axes>"
      ]
     },
     "metadata": {
      "needs_background": "light"
     },
     "output_type": "display_data"
    }
   ],
   "source": [
    "# plot the accuracy vs depth of the decision plot_tree\n",
    "max_depth = range(1,20)  # range of max depth values to try\n",
    "train_scores = []  # list to store training scores\n",
    "test_scores = []  # list to store testing scores\n",
    "\n",
    "\n",
    "for depth in max_depth:  # for each value of max depth\n",
    "    spam_tree = DecisionTreeClassifier(splitter=\"best\", max_depth=depth, random_state=42)  # create the model\n",
    "    spam_tree.fit(X_train, y_train);  # fit the model\n",
    "    train_scores.append(spam_tree.score(X_train, y_train))  # get training score\n",
    "    test_scores.append(spam_tree.score(X_test, y_test))  # get testing score\n",
    "\n",
    "plt.figure(figsize=(15,8))  # create a figure \n",
    "plt.plot(max_depth, train_scores, label='Training Accuracy')  # plot training scores\n",
    "plt.plot(max_depth, test_scores, label='Testing Accuracy')  # plot testing scores\n",
    "plt.legend()  # show legend\n",
    "plt.xlabel('Max Depth')  # label x-axis\n",
    "plt.ylabel('Accuracy')  # label y-axis\n",
    "plt.title('Accuracy vs. Max Depth')  # set title\n",
    "plt.show()  # display plot"
   ]
  },
  {
   "cell_type": "markdown",
   "id": "9b88a8d8",
   "metadata": {},
   "source": [
    "# Part 9: Random Forest Classifier\n",
    "\n",
    "The decision tree classifier above has shown a promising accuracy for classification of the spam dataset but we can do even better by taking advantage of the power of repeated trials with a random forest clasifier.\n",
    "\n",
    "Random forests use decision trees as the base classifier and at each split in the decision tree, choose a subset of features from which to choose the split on.\n",
    "\n",
    "> **Sources*\n",
    "CS345 Machine Learning Foundations and Practice at Colorado State University: Module07_02_ensemble_methods - created by Asa Ben-Hur and Ross Beveridge"
   ]
  },
  {
   "cell_type": "code",
   "execution_count": 22,
   "id": "5565e266",
   "metadata": {},
   "outputs": [
    {
     "name": "stdout",
     "output_type": "stream",
     "text": [
      "Decision Tree Classifier Accuracy:  0.8839639724606243\n",
      "Random Forest Classifier Accuracy:  0.9365462604923135\n"
     ]
    },
    {
     "data": {
      "application/vnd.plotly.v1+json": {
       "config": {
        "plotlyServerURL": "https://plot.ly"
       },
       "data": [
        {
         "name": "Decision Tree",
         "type": "scatter",
         "x": [
          1,
          2,
          3,
          4,
          5
         ],
         "y": [
          0.8828633405639913,
          0.8695652173913043,
          0.8956521739130435,
          0.8739130434782608,
          0.8978260869565218
         ]
        },
        {
         "name": "Random Forest",
         "type": "scatter",
         "x": [
          1,
          2,
          3,
          4,
          5
         ],
         "y": [
          0.9436008676789588,
          0.941304347826087,
          0.941304347826087,
          0.9195652173913044,
          0.9369565217391305
         ]
        }
       ],
       "layout": {
        "template": {
         "data": {
          "bar": [
           {
            "error_x": {
             "color": "#2a3f5f"
            },
            "error_y": {
             "color": "#2a3f5f"
            },
            "marker": {
             "line": {
              "color": "#E5ECF6",
              "width": 0.5
             },
             "pattern": {
              "fillmode": "overlay",
              "size": 10,
              "solidity": 0.2
             }
            },
            "type": "bar"
           }
          ],
          "barpolar": [
           {
            "marker": {
             "line": {
              "color": "#E5ECF6",
              "width": 0.5
             },
             "pattern": {
              "fillmode": "overlay",
              "size": 10,
              "solidity": 0.2
             }
            },
            "type": "barpolar"
           }
          ],
          "carpet": [
           {
            "aaxis": {
             "endlinecolor": "#2a3f5f",
             "gridcolor": "white",
             "linecolor": "white",
             "minorgridcolor": "white",
             "startlinecolor": "#2a3f5f"
            },
            "baxis": {
             "endlinecolor": "#2a3f5f",
             "gridcolor": "white",
             "linecolor": "white",
             "minorgridcolor": "white",
             "startlinecolor": "#2a3f5f"
            },
            "type": "carpet"
           }
          ],
          "choropleth": [
           {
            "colorbar": {
             "outlinewidth": 0,
             "ticks": ""
            },
            "type": "choropleth"
           }
          ],
          "contour": [
           {
            "colorbar": {
             "outlinewidth": 0,
             "ticks": ""
            },
            "colorscale": [
             [
              0,
              "#0d0887"
             ],
             [
              0.1111111111111111,
              "#46039f"
             ],
             [
              0.2222222222222222,
              "#7201a8"
             ],
             [
              0.3333333333333333,
              "#9c179e"
             ],
             [
              0.4444444444444444,
              "#bd3786"
             ],
             [
              0.5555555555555556,
              "#d8576b"
             ],
             [
              0.6666666666666666,
              "#ed7953"
             ],
             [
              0.7777777777777778,
              "#fb9f3a"
             ],
             [
              0.8888888888888888,
              "#fdca26"
             ],
             [
              1,
              "#f0f921"
             ]
            ],
            "type": "contour"
           }
          ],
          "contourcarpet": [
           {
            "colorbar": {
             "outlinewidth": 0,
             "ticks": ""
            },
            "type": "contourcarpet"
           }
          ],
          "heatmap": [
           {
            "colorbar": {
             "outlinewidth": 0,
             "ticks": ""
            },
            "colorscale": [
             [
              0,
              "#0d0887"
             ],
             [
              0.1111111111111111,
              "#46039f"
             ],
             [
              0.2222222222222222,
              "#7201a8"
             ],
             [
              0.3333333333333333,
              "#9c179e"
             ],
             [
              0.4444444444444444,
              "#bd3786"
             ],
             [
              0.5555555555555556,
              "#d8576b"
             ],
             [
              0.6666666666666666,
              "#ed7953"
             ],
             [
              0.7777777777777778,
              "#fb9f3a"
             ],
             [
              0.8888888888888888,
              "#fdca26"
             ],
             [
              1,
              "#f0f921"
             ]
            ],
            "type": "heatmap"
           }
          ],
          "heatmapgl": [
           {
            "colorbar": {
             "outlinewidth": 0,
             "ticks": ""
            },
            "colorscale": [
             [
              0,
              "#0d0887"
             ],
             [
              0.1111111111111111,
              "#46039f"
             ],
             [
              0.2222222222222222,
              "#7201a8"
             ],
             [
              0.3333333333333333,
              "#9c179e"
             ],
             [
              0.4444444444444444,
              "#bd3786"
             ],
             [
              0.5555555555555556,
              "#d8576b"
             ],
             [
              0.6666666666666666,
              "#ed7953"
             ],
             [
              0.7777777777777778,
              "#fb9f3a"
             ],
             [
              0.8888888888888888,
              "#fdca26"
             ],
             [
              1,
              "#f0f921"
             ]
            ],
            "type": "heatmapgl"
           }
          ],
          "histogram": [
           {
            "marker": {
             "pattern": {
              "fillmode": "overlay",
              "size": 10,
              "solidity": 0.2
             }
            },
            "type": "histogram"
           }
          ],
          "histogram2d": [
           {
            "colorbar": {
             "outlinewidth": 0,
             "ticks": ""
            },
            "colorscale": [
             [
              0,
              "#0d0887"
             ],
             [
              0.1111111111111111,
              "#46039f"
             ],
             [
              0.2222222222222222,
              "#7201a8"
             ],
             [
              0.3333333333333333,
              "#9c179e"
             ],
             [
              0.4444444444444444,
              "#bd3786"
             ],
             [
              0.5555555555555556,
              "#d8576b"
             ],
             [
              0.6666666666666666,
              "#ed7953"
             ],
             [
              0.7777777777777778,
              "#fb9f3a"
             ],
             [
              0.8888888888888888,
              "#fdca26"
             ],
             [
              1,
              "#f0f921"
             ]
            ],
            "type": "histogram2d"
           }
          ],
          "histogram2dcontour": [
           {
            "colorbar": {
             "outlinewidth": 0,
             "ticks": ""
            },
            "colorscale": [
             [
              0,
              "#0d0887"
             ],
             [
              0.1111111111111111,
              "#46039f"
             ],
             [
              0.2222222222222222,
              "#7201a8"
             ],
             [
              0.3333333333333333,
              "#9c179e"
             ],
             [
              0.4444444444444444,
              "#bd3786"
             ],
             [
              0.5555555555555556,
              "#d8576b"
             ],
             [
              0.6666666666666666,
              "#ed7953"
             ],
             [
              0.7777777777777778,
              "#fb9f3a"
             ],
             [
              0.8888888888888888,
              "#fdca26"
             ],
             [
              1,
              "#f0f921"
             ]
            ],
            "type": "histogram2dcontour"
           }
          ],
          "mesh3d": [
           {
            "colorbar": {
             "outlinewidth": 0,
             "ticks": ""
            },
            "type": "mesh3d"
           }
          ],
          "parcoords": [
           {
            "line": {
             "colorbar": {
              "outlinewidth": 0,
              "ticks": ""
             }
            },
            "type": "parcoords"
           }
          ],
          "pie": [
           {
            "automargin": true,
            "type": "pie"
           }
          ],
          "scatter": [
           {
            "marker": {
             "colorbar": {
              "outlinewidth": 0,
              "ticks": ""
             }
            },
            "type": "scatter"
           }
          ],
          "scatter3d": [
           {
            "line": {
             "colorbar": {
              "outlinewidth": 0,
              "ticks": ""
             }
            },
            "marker": {
             "colorbar": {
              "outlinewidth": 0,
              "ticks": ""
             }
            },
            "type": "scatter3d"
           }
          ],
          "scattercarpet": [
           {
            "marker": {
             "colorbar": {
              "outlinewidth": 0,
              "ticks": ""
             }
            },
            "type": "scattercarpet"
           }
          ],
          "scattergeo": [
           {
            "marker": {
             "colorbar": {
              "outlinewidth": 0,
              "ticks": ""
             }
            },
            "type": "scattergeo"
           }
          ],
          "scattergl": [
           {
            "marker": {
             "colorbar": {
              "outlinewidth": 0,
              "ticks": ""
             }
            },
            "type": "scattergl"
           }
          ],
          "scattermapbox": [
           {
            "marker": {
             "colorbar": {
              "outlinewidth": 0,
              "ticks": ""
             }
            },
            "type": "scattermapbox"
           }
          ],
          "scatterpolar": [
           {
            "marker": {
             "colorbar": {
              "outlinewidth": 0,
              "ticks": ""
             }
            },
            "type": "scatterpolar"
           }
          ],
          "scatterpolargl": [
           {
            "marker": {
             "colorbar": {
              "outlinewidth": 0,
              "ticks": ""
             }
            },
            "type": "scatterpolargl"
           }
          ],
          "scatterternary": [
           {
            "marker": {
             "colorbar": {
              "outlinewidth": 0,
              "ticks": ""
             }
            },
            "type": "scatterternary"
           }
          ],
          "surface": [
           {
            "colorbar": {
             "outlinewidth": 0,
             "ticks": ""
            },
            "colorscale": [
             [
              0,
              "#0d0887"
             ],
             [
              0.1111111111111111,
              "#46039f"
             ],
             [
              0.2222222222222222,
              "#7201a8"
             ],
             [
              0.3333333333333333,
              "#9c179e"
             ],
             [
              0.4444444444444444,
              "#bd3786"
             ],
             [
              0.5555555555555556,
              "#d8576b"
             ],
             [
              0.6666666666666666,
              "#ed7953"
             ],
             [
              0.7777777777777778,
              "#fb9f3a"
             ],
             [
              0.8888888888888888,
              "#fdca26"
             ],
             [
              1,
              "#f0f921"
             ]
            ],
            "type": "surface"
           }
          ],
          "table": [
           {
            "cells": {
             "fill": {
              "color": "#EBF0F8"
             },
             "line": {
              "color": "white"
             }
            },
            "header": {
             "fill": {
              "color": "#C8D4E3"
             },
             "line": {
              "color": "white"
             }
            },
            "type": "table"
           }
          ]
         },
         "layout": {
          "annotationdefaults": {
           "arrowcolor": "#2a3f5f",
           "arrowhead": 0,
           "arrowwidth": 1
          },
          "autotypenumbers": "strict",
          "coloraxis": {
           "colorbar": {
            "outlinewidth": 0,
            "ticks": ""
           }
          },
          "colorscale": {
           "diverging": [
            [
             0,
             "#8e0152"
            ],
            [
             0.1,
             "#c51b7d"
            ],
            [
             0.2,
             "#de77ae"
            ],
            [
             0.3,
             "#f1b6da"
            ],
            [
             0.4,
             "#fde0ef"
            ],
            [
             0.5,
             "#f7f7f7"
            ],
            [
             0.6,
             "#e6f5d0"
            ],
            [
             0.7,
             "#b8e186"
            ],
            [
             0.8,
             "#7fbc41"
            ],
            [
             0.9,
             "#4d9221"
            ],
            [
             1,
             "#276419"
            ]
           ],
           "sequential": [
            [
             0,
             "#0d0887"
            ],
            [
             0.1111111111111111,
             "#46039f"
            ],
            [
             0.2222222222222222,
             "#7201a8"
            ],
            [
             0.3333333333333333,
             "#9c179e"
            ],
            [
             0.4444444444444444,
             "#bd3786"
            ],
            [
             0.5555555555555556,
             "#d8576b"
            ],
            [
             0.6666666666666666,
             "#ed7953"
            ],
            [
             0.7777777777777778,
             "#fb9f3a"
            ],
            [
             0.8888888888888888,
             "#fdca26"
            ],
            [
             1,
             "#f0f921"
            ]
           ],
           "sequentialminus": [
            [
             0,
             "#0d0887"
            ],
            [
             0.1111111111111111,
             "#46039f"
            ],
            [
             0.2222222222222222,
             "#7201a8"
            ],
            [
             0.3333333333333333,
             "#9c179e"
            ],
            [
             0.4444444444444444,
             "#bd3786"
            ],
            [
             0.5555555555555556,
             "#d8576b"
            ],
            [
             0.6666666666666666,
             "#ed7953"
            ],
            [
             0.7777777777777778,
             "#fb9f3a"
            ],
            [
             0.8888888888888888,
             "#fdca26"
            ],
            [
             1,
             "#f0f921"
            ]
           ]
          },
          "colorway": [
           "#636efa",
           "#EF553B",
           "#00cc96",
           "#ab63fa",
           "#FFA15A",
           "#19d3f3",
           "#FF6692",
           "#B6E880",
           "#FF97FF",
           "#FECB52"
          ],
          "font": {
           "color": "#2a3f5f"
          },
          "geo": {
           "bgcolor": "white",
           "lakecolor": "white",
           "landcolor": "#E5ECF6",
           "showlakes": true,
           "showland": true,
           "subunitcolor": "white"
          },
          "hoverlabel": {
           "align": "left"
          },
          "hovermode": "closest",
          "mapbox": {
           "style": "light"
          },
          "paper_bgcolor": "white",
          "plot_bgcolor": "#E5ECF6",
          "polar": {
           "angularaxis": {
            "gridcolor": "white",
            "linecolor": "white",
            "ticks": ""
           },
           "bgcolor": "#E5ECF6",
           "radialaxis": {
            "gridcolor": "white",
            "linecolor": "white",
            "ticks": ""
           }
          },
          "scene": {
           "xaxis": {
            "backgroundcolor": "#E5ECF6",
            "gridcolor": "white",
            "gridwidth": 2,
            "linecolor": "white",
            "showbackground": true,
            "ticks": "",
            "zerolinecolor": "white"
           },
           "yaxis": {
            "backgroundcolor": "#E5ECF6",
            "gridcolor": "white",
            "gridwidth": 2,
            "linecolor": "white",
            "showbackground": true,
            "ticks": "",
            "zerolinecolor": "white"
           },
           "zaxis": {
            "backgroundcolor": "#E5ECF6",
            "gridcolor": "white",
            "gridwidth": 2,
            "linecolor": "white",
            "showbackground": true,
            "ticks": "",
            "zerolinecolor": "white"
           }
          },
          "shapedefaults": {
           "line": {
            "color": "#2a3f5f"
           }
          },
          "ternary": {
           "aaxis": {
            "gridcolor": "white",
            "linecolor": "white",
            "ticks": ""
           },
           "baxis": {
            "gridcolor": "white",
            "linecolor": "white",
            "ticks": ""
           },
           "bgcolor": "#E5ECF6",
           "caxis": {
            "gridcolor": "white",
            "linecolor": "white",
            "ticks": ""
           }
          },
          "title": {
           "x": 0.05
          },
          "xaxis": {
           "automargin": true,
           "gridcolor": "white",
           "linecolor": "white",
           "ticks": "",
           "title": {
            "standoff": 15
           },
           "zerolinecolor": "white",
           "zerolinewidth": 2
          },
          "yaxis": {
           "automargin": true,
           "gridcolor": "white",
           "linecolor": "white",
           "ticks": "",
           "title": {
            "standoff": 15
           },
           "zerolinecolor": "white",
           "zerolinewidth": 2
          }
         }
        },
        "title": {
         "text": "Accuracy of Classifiers"
        },
        "xaxis": {
         "title": {
          "text": "Fold"
         }
        },
        "yaxis": {
         "title": {
          "text": "Accuracy"
         }
        }
       }
      }
     },
     "metadata": {},
     "output_type": "display_data"
    }
   ],
   "source": [
    "from sklearn.model_selection import cross_val_score\n",
    "from sklearn.model_selection import StratifiedKFold\n",
    "from sklearn.ensemble import RandomForestClassifier\n",
    "\n",
    "spam_forest = RandomForestClassifier()\n",
    "spam_forest.fit(X_train, y_train)\n",
    "\n",
    "cv = StratifiedKFold(n_splits=5, random_state=0, shuffle=True)   # create a cross-validation object\n",
    "\n",
    "spam_tree_accuracy = cross_val_score(spam_tree, X_test, y_test, cv=cv, scoring='accuracy')  # get accuracy scores\n",
    "print('Decision Tree Classifier Accuracy: ', np.mean(spam_tree_accuracy)) # print mean accuracy\n",
    "\n",
    "spam_forest_accuracy = cross_val_score(spam_forest, X_test, y_test, cv=cv, scoring='accuracy') # get accuracy scores\n",
    "print('Random Forest Classifier Accuracy: ' , np.mean(spam_forest_accuracy)) # print mean accuracy\n",
    "\n",
    "#plot the accuracy of the classifiers\n",
    "fig = go.Figure() # create a figure\n",
    "fig.add_trace(go.Scatter(x=np.arange(1, len(spam_tree_accuracy)+1), y=spam_tree_accuracy, name='Decision Tree')) # add a scatter trace\n",
    "fig.add_trace(go.Scatter(x=np.arange(1, len(spam_forest_accuracy)+1), y=spam_forest_accuracy, name='Random Forest')) # add a scatter trace\n",
    "fig.update_layout(title='Accuracy of Classifiers', xaxis_title='Fold', yaxis_title='Accuracy') # set the title and axis titles\n",
    "fig.show() # display the plot\n"
   ]
  },
  {
   "cell_type": "markdown",
   "id": "367523fd",
   "metadata": {},
   "source": [
    "We can see that there is a boost in classification accuracy for the random forest classifer versus that of the decision tree. This accuracy is beats every other classification method we have tried thus far. "
   ]
  },
  {
   "cell_type": "markdown",
   "id": "66ae7c68",
   "metadata": {},
   "source": [
    "# Part 10: Final Analysis / Conclusion"
   ]
  },
  {
   "cell_type": "markdown",
   "id": "1008181c",
   "metadata": {},
   "source": [
    "After investigating various classification models for the analysis of the spam dataset it was determined that the most accurate model found was the random forest classifier followed closely by the neural network classification model.\n",
    "\n",
    "Below we can see the results of the various classification models for the analysis of the spam dataset compared by their accuracies on the test set."
   ]
  },
  {
   "cell_type": "code",
   "execution_count": 32,
   "id": "e374e95e",
   "metadata": {},
   "outputs": [
    {
     "data": {
      "application/vnd.plotly.v1+json": {
       "config": {
        "plotlyServerURL": "https://plot.ly"
       },
       "data": [
        {
         "alignmentgroup": "True",
         "hovertemplate": "Classifiers=%{x}<br>Accuracy=%{y}<br>color=%{marker.color}<extra></extra>",
         "legendgroup": "",
         "marker": {
          "color": [
           0,
           1,
           2,
           3,
           4
          ],
          "coloraxis": "coloraxis",
          "pattern": {
           "shape": ""
          }
         },
         "name": "",
         "offsetgroup": "",
         "orientation": "v",
         "showlegend": false,
         "textposition": "auto",
         "type": "bar",
         "x": [
          "Random Forest",
          "Neural Network",
          "Decision Tree",
          "Logistic Regression",
          "Support Vector Machine"
         ],
         "xaxis": "x",
         "y": [
          0.9365462604923135,
          0.909604549407959,
          0.8839639724606243,
          0.7727075184702303,
          0.717948717948718
         ],
         "yaxis": "y"
        }
       ],
       "layout": {
        "barmode": "relative",
        "coloraxis": {
         "colorbar": {
          "title": {
           "text": "color"
          }
         },
         "colorscale": [
          [
           0,
           "#0d0887"
          ],
          [
           0.1111111111111111,
           "#46039f"
          ],
          [
           0.2222222222222222,
           "#7201a8"
          ],
          [
           0.3333333333333333,
           "#9c179e"
          ],
          [
           0.4444444444444444,
           "#bd3786"
          ],
          [
           0.5555555555555556,
           "#d8576b"
          ],
          [
           0.6666666666666666,
           "#ed7953"
          ],
          [
           0.7777777777777778,
           "#fb9f3a"
          ],
          [
           0.8888888888888888,
           "#fdca26"
          ],
          [
           1,
           "#f0f921"
          ]
         ]
        },
        "legend": {
         "tracegroupgap": 0
        },
        "template": {
         "data": {
          "bar": [
           {
            "error_x": {
             "color": "#2a3f5f"
            },
            "error_y": {
             "color": "#2a3f5f"
            },
            "marker": {
             "line": {
              "color": "#E5ECF6",
              "width": 0.5
             },
             "pattern": {
              "fillmode": "overlay",
              "size": 10,
              "solidity": 0.2
             }
            },
            "type": "bar"
           }
          ],
          "barpolar": [
           {
            "marker": {
             "line": {
              "color": "#E5ECF6",
              "width": 0.5
             },
             "pattern": {
              "fillmode": "overlay",
              "size": 10,
              "solidity": 0.2
             }
            },
            "type": "barpolar"
           }
          ],
          "carpet": [
           {
            "aaxis": {
             "endlinecolor": "#2a3f5f",
             "gridcolor": "white",
             "linecolor": "white",
             "minorgridcolor": "white",
             "startlinecolor": "#2a3f5f"
            },
            "baxis": {
             "endlinecolor": "#2a3f5f",
             "gridcolor": "white",
             "linecolor": "white",
             "minorgridcolor": "white",
             "startlinecolor": "#2a3f5f"
            },
            "type": "carpet"
           }
          ],
          "choropleth": [
           {
            "colorbar": {
             "outlinewidth": 0,
             "ticks": ""
            },
            "type": "choropleth"
           }
          ],
          "contour": [
           {
            "colorbar": {
             "outlinewidth": 0,
             "ticks": ""
            },
            "colorscale": [
             [
              0,
              "#0d0887"
             ],
             [
              0.1111111111111111,
              "#46039f"
             ],
             [
              0.2222222222222222,
              "#7201a8"
             ],
             [
              0.3333333333333333,
              "#9c179e"
             ],
             [
              0.4444444444444444,
              "#bd3786"
             ],
             [
              0.5555555555555556,
              "#d8576b"
             ],
             [
              0.6666666666666666,
              "#ed7953"
             ],
             [
              0.7777777777777778,
              "#fb9f3a"
             ],
             [
              0.8888888888888888,
              "#fdca26"
             ],
             [
              1,
              "#f0f921"
             ]
            ],
            "type": "contour"
           }
          ],
          "contourcarpet": [
           {
            "colorbar": {
             "outlinewidth": 0,
             "ticks": ""
            },
            "type": "contourcarpet"
           }
          ],
          "heatmap": [
           {
            "colorbar": {
             "outlinewidth": 0,
             "ticks": ""
            },
            "colorscale": [
             [
              0,
              "#0d0887"
             ],
             [
              0.1111111111111111,
              "#46039f"
             ],
             [
              0.2222222222222222,
              "#7201a8"
             ],
             [
              0.3333333333333333,
              "#9c179e"
             ],
             [
              0.4444444444444444,
              "#bd3786"
             ],
             [
              0.5555555555555556,
              "#d8576b"
             ],
             [
              0.6666666666666666,
              "#ed7953"
             ],
             [
              0.7777777777777778,
              "#fb9f3a"
             ],
             [
              0.8888888888888888,
              "#fdca26"
             ],
             [
              1,
              "#f0f921"
             ]
            ],
            "type": "heatmap"
           }
          ],
          "heatmapgl": [
           {
            "colorbar": {
             "outlinewidth": 0,
             "ticks": ""
            },
            "colorscale": [
             [
              0,
              "#0d0887"
             ],
             [
              0.1111111111111111,
              "#46039f"
             ],
             [
              0.2222222222222222,
              "#7201a8"
             ],
             [
              0.3333333333333333,
              "#9c179e"
             ],
             [
              0.4444444444444444,
              "#bd3786"
             ],
             [
              0.5555555555555556,
              "#d8576b"
             ],
             [
              0.6666666666666666,
              "#ed7953"
             ],
             [
              0.7777777777777778,
              "#fb9f3a"
             ],
             [
              0.8888888888888888,
              "#fdca26"
             ],
             [
              1,
              "#f0f921"
             ]
            ],
            "type": "heatmapgl"
           }
          ],
          "histogram": [
           {
            "marker": {
             "pattern": {
              "fillmode": "overlay",
              "size": 10,
              "solidity": 0.2
             }
            },
            "type": "histogram"
           }
          ],
          "histogram2d": [
           {
            "colorbar": {
             "outlinewidth": 0,
             "ticks": ""
            },
            "colorscale": [
             [
              0,
              "#0d0887"
             ],
             [
              0.1111111111111111,
              "#46039f"
             ],
             [
              0.2222222222222222,
              "#7201a8"
             ],
             [
              0.3333333333333333,
              "#9c179e"
             ],
             [
              0.4444444444444444,
              "#bd3786"
             ],
             [
              0.5555555555555556,
              "#d8576b"
             ],
             [
              0.6666666666666666,
              "#ed7953"
             ],
             [
              0.7777777777777778,
              "#fb9f3a"
             ],
             [
              0.8888888888888888,
              "#fdca26"
             ],
             [
              1,
              "#f0f921"
             ]
            ],
            "type": "histogram2d"
           }
          ],
          "histogram2dcontour": [
           {
            "colorbar": {
             "outlinewidth": 0,
             "ticks": ""
            },
            "colorscale": [
             [
              0,
              "#0d0887"
             ],
             [
              0.1111111111111111,
              "#46039f"
             ],
             [
              0.2222222222222222,
              "#7201a8"
             ],
             [
              0.3333333333333333,
              "#9c179e"
             ],
             [
              0.4444444444444444,
              "#bd3786"
             ],
             [
              0.5555555555555556,
              "#d8576b"
             ],
             [
              0.6666666666666666,
              "#ed7953"
             ],
             [
              0.7777777777777778,
              "#fb9f3a"
             ],
             [
              0.8888888888888888,
              "#fdca26"
             ],
             [
              1,
              "#f0f921"
             ]
            ],
            "type": "histogram2dcontour"
           }
          ],
          "mesh3d": [
           {
            "colorbar": {
             "outlinewidth": 0,
             "ticks": ""
            },
            "type": "mesh3d"
           }
          ],
          "parcoords": [
           {
            "line": {
             "colorbar": {
              "outlinewidth": 0,
              "ticks": ""
             }
            },
            "type": "parcoords"
           }
          ],
          "pie": [
           {
            "automargin": true,
            "type": "pie"
           }
          ],
          "scatter": [
           {
            "marker": {
             "colorbar": {
              "outlinewidth": 0,
              "ticks": ""
             }
            },
            "type": "scatter"
           }
          ],
          "scatter3d": [
           {
            "line": {
             "colorbar": {
              "outlinewidth": 0,
              "ticks": ""
             }
            },
            "marker": {
             "colorbar": {
              "outlinewidth": 0,
              "ticks": ""
             }
            },
            "type": "scatter3d"
           }
          ],
          "scattercarpet": [
           {
            "marker": {
             "colorbar": {
              "outlinewidth": 0,
              "ticks": ""
             }
            },
            "type": "scattercarpet"
           }
          ],
          "scattergeo": [
           {
            "marker": {
             "colorbar": {
              "outlinewidth": 0,
              "ticks": ""
             }
            },
            "type": "scattergeo"
           }
          ],
          "scattergl": [
           {
            "marker": {
             "colorbar": {
              "outlinewidth": 0,
              "ticks": ""
             }
            },
            "type": "scattergl"
           }
          ],
          "scattermapbox": [
           {
            "marker": {
             "colorbar": {
              "outlinewidth": 0,
              "ticks": ""
             }
            },
            "type": "scattermapbox"
           }
          ],
          "scatterpolar": [
           {
            "marker": {
             "colorbar": {
              "outlinewidth": 0,
              "ticks": ""
             }
            },
            "type": "scatterpolar"
           }
          ],
          "scatterpolargl": [
           {
            "marker": {
             "colorbar": {
              "outlinewidth": 0,
              "ticks": ""
             }
            },
            "type": "scatterpolargl"
           }
          ],
          "scatterternary": [
           {
            "marker": {
             "colorbar": {
              "outlinewidth": 0,
              "ticks": ""
             }
            },
            "type": "scatterternary"
           }
          ],
          "surface": [
           {
            "colorbar": {
             "outlinewidth": 0,
             "ticks": ""
            },
            "colorscale": [
             [
              0,
              "#0d0887"
             ],
             [
              0.1111111111111111,
              "#46039f"
             ],
             [
              0.2222222222222222,
              "#7201a8"
             ],
             [
              0.3333333333333333,
              "#9c179e"
             ],
             [
              0.4444444444444444,
              "#bd3786"
             ],
             [
              0.5555555555555556,
              "#d8576b"
             ],
             [
              0.6666666666666666,
              "#ed7953"
             ],
             [
              0.7777777777777778,
              "#fb9f3a"
             ],
             [
              0.8888888888888888,
              "#fdca26"
             ],
             [
              1,
              "#f0f921"
             ]
            ],
            "type": "surface"
           }
          ],
          "table": [
           {
            "cells": {
             "fill": {
              "color": "#EBF0F8"
             },
             "line": {
              "color": "white"
             }
            },
            "header": {
             "fill": {
              "color": "#C8D4E3"
             },
             "line": {
              "color": "white"
             }
            },
            "type": "table"
           }
          ]
         },
         "layout": {
          "annotationdefaults": {
           "arrowcolor": "#2a3f5f",
           "arrowhead": 0,
           "arrowwidth": 1
          },
          "autotypenumbers": "strict",
          "coloraxis": {
           "colorbar": {
            "outlinewidth": 0,
            "ticks": ""
           }
          },
          "colorscale": {
           "diverging": [
            [
             0,
             "#8e0152"
            ],
            [
             0.1,
             "#c51b7d"
            ],
            [
             0.2,
             "#de77ae"
            ],
            [
             0.3,
             "#f1b6da"
            ],
            [
             0.4,
             "#fde0ef"
            ],
            [
             0.5,
             "#f7f7f7"
            ],
            [
             0.6,
             "#e6f5d0"
            ],
            [
             0.7,
             "#b8e186"
            ],
            [
             0.8,
             "#7fbc41"
            ],
            [
             0.9,
             "#4d9221"
            ],
            [
             1,
             "#276419"
            ]
           ],
           "sequential": [
            [
             0,
             "#0d0887"
            ],
            [
             0.1111111111111111,
             "#46039f"
            ],
            [
             0.2222222222222222,
             "#7201a8"
            ],
            [
             0.3333333333333333,
             "#9c179e"
            ],
            [
             0.4444444444444444,
             "#bd3786"
            ],
            [
             0.5555555555555556,
             "#d8576b"
            ],
            [
             0.6666666666666666,
             "#ed7953"
            ],
            [
             0.7777777777777778,
             "#fb9f3a"
            ],
            [
             0.8888888888888888,
             "#fdca26"
            ],
            [
             1,
             "#f0f921"
            ]
           ],
           "sequentialminus": [
            [
             0,
             "#0d0887"
            ],
            [
             0.1111111111111111,
             "#46039f"
            ],
            [
             0.2222222222222222,
             "#7201a8"
            ],
            [
             0.3333333333333333,
             "#9c179e"
            ],
            [
             0.4444444444444444,
             "#bd3786"
            ],
            [
             0.5555555555555556,
             "#d8576b"
            ],
            [
             0.6666666666666666,
             "#ed7953"
            ],
            [
             0.7777777777777778,
             "#fb9f3a"
            ],
            [
             0.8888888888888888,
             "#fdca26"
            ],
            [
             1,
             "#f0f921"
            ]
           ]
          },
          "colorway": [
           "#636efa",
           "#EF553B",
           "#00cc96",
           "#ab63fa",
           "#FFA15A",
           "#19d3f3",
           "#FF6692",
           "#B6E880",
           "#FF97FF",
           "#FECB52"
          ],
          "font": {
           "color": "#2a3f5f"
          },
          "geo": {
           "bgcolor": "white",
           "lakecolor": "white",
           "landcolor": "#E5ECF6",
           "showlakes": true,
           "showland": true,
           "subunitcolor": "white"
          },
          "hoverlabel": {
           "align": "left"
          },
          "hovermode": "closest",
          "mapbox": {
           "style": "light"
          },
          "paper_bgcolor": "white",
          "plot_bgcolor": "#E5ECF6",
          "polar": {
           "angularaxis": {
            "gridcolor": "white",
            "linecolor": "white",
            "ticks": ""
           },
           "bgcolor": "#E5ECF6",
           "radialaxis": {
            "gridcolor": "white",
            "linecolor": "white",
            "ticks": ""
           }
          },
          "scene": {
           "xaxis": {
            "backgroundcolor": "#E5ECF6",
            "gridcolor": "white",
            "gridwidth": 2,
            "linecolor": "white",
            "showbackground": true,
            "ticks": "",
            "zerolinecolor": "white"
           },
           "yaxis": {
            "backgroundcolor": "#E5ECF6",
            "gridcolor": "white",
            "gridwidth": 2,
            "linecolor": "white",
            "showbackground": true,
            "ticks": "",
            "zerolinecolor": "white"
           },
           "zaxis": {
            "backgroundcolor": "#E5ECF6",
            "gridcolor": "white",
            "gridwidth": 2,
            "linecolor": "white",
            "showbackground": true,
            "ticks": "",
            "zerolinecolor": "white"
           }
          },
          "shapedefaults": {
           "line": {
            "color": "#2a3f5f"
           }
          },
          "ternary": {
           "aaxis": {
            "gridcolor": "white",
            "linecolor": "white",
            "ticks": ""
           },
           "baxis": {
            "gridcolor": "white",
            "linecolor": "white",
            "ticks": ""
           },
           "bgcolor": "#E5ECF6",
           "caxis": {
            "gridcolor": "white",
            "linecolor": "white",
            "ticks": ""
           }
          },
          "title": {
           "x": 0.05
          },
          "xaxis": {
           "automargin": true,
           "gridcolor": "white",
           "linecolor": "white",
           "ticks": "",
           "title": {
            "standoff": 15
           },
           "zerolinecolor": "white",
           "zerolinewidth": 2
          },
          "yaxis": {
           "automargin": true,
           "gridcolor": "white",
           "linecolor": "white",
           "ticks": "",
           "title": {
            "standoff": 15
           },
           "zerolinecolor": "white",
           "zerolinewidth": 2
          }
         }
        },
        "title": {
         "text": "Accuracy of Each Classification Model on the UCI Spam Dataset"
        },
        "xaxis": {
         "anchor": "y",
         "domain": [
          0,
          1
         ],
         "title": {
          "text": "Classifiers"
         },
         "type": "category"
        },
        "yaxis": {
         "anchor": "x",
         "domain": [
          0,
          1
         ],
         "title": {
          "text": "Accuracy"
         },
         "type": "log"
        }
       }
      }
     },
     "metadata": {},
     "output_type": "display_data"
    }
   ],
   "source": [
    "# scatter plot all of the classifier accuracies\n",
    "\n",
    "accuracies =[np.mean(spam_forest_accuracy), spam_network_accuracy, np.mean(spam_tree_accuracy), pred_lreg_score, spam_SVM_score]\n",
    "labels = ['Random Forest', 'Neural Network', 'Decision Tree', 'Logistic Regression', 'Support Vector Machine' ]\n",
    "\n",
    "fig = px.bar(x=labels, y = accuracies, title=\"Accuracy of Each Classification Model on the UCI Spam Dataset\", labels=dict(x=\"Classifiers\", y=\"Accuracy\"), log_y=True, color=[i for i in range(len(labels))])\n",
    "fig.update_xaxes(type='category')\n",
    "fig.show()"
   ]
  },
  {
   "cell_type": "markdown",
   "id": "f020232b",
   "metadata": {},
   "source": [
    "Let us explore why the random forest classifier performs better than the neural network model with our particular dataset.\n",
    "\n",
    "\n",
    "A random forest classification model may be better than a neural net for classifying spam vs non-spam email when the attributes are soley word frequency and capital letter count because: \n",
    "\n",
    "* It can handle a large number of features: A random forest can handle thousands of features like word frequency, while a neural net may only be able to handle a few hundred. \n",
    "* It is not susceptible to overfitting: Overfitting is when a model memorizes the training data too well and does not generalize well to new data. This is a problem with neural nets, but not with random Forests. \n",
    "* It can handle missing data: If there is missing data in the training set, a random Forest can still build a model. This is not the case with neural nets.\n",
    "\n",
    "Source: [3 Reasons to Use Random Forest Over a Neural Network](https://towardsdatascience.com/3-reasons-to-use-random-forest-over-a-neural-network-comparing-machine-learning-versus-deep-f9d65a154d89)\n",
    "\n",
    "Now when it comes to spam classification we really do no want to overfit our data since we want to be able to develop a model that can classify spam emails across domains. This dataset was taken specifically from HP so this dataset would not be suitable outside of the HP network but if we obtained a dataset that contained data points outside of HP we would want a model that can handle missing data and not overfit.\n",
    "\n",
    "This is not to say that a neural net could not perform just as well as a random forest though as they can be trained on more complex patterns than a random forest. If rather than just accessing word frequencies we could train a model to tokenize entire emails and access various characteristics that a random forest would struggle with, for example:\n",
    "\n",
    "- The email has a generic subject line that doesn't seem to be personalized\n",
    "- The sender's address is often unfamiliar or includes strange characters\n",
    "- The body of the email contains misspellings or odd grammar\n",
    "- The email includes text urging the recipient to open an attachment or click a link\n",
    "- The email urges you to act quickly or provides a sense of urgency\n",
    "\n",
    "These advanced analytics would be better suited for a neural network and in my opinion are stronger indicators of spam than word frequency alone.\n",
    "\n",
    "If I were to create a spam detection model I would first attempt to collect a dataset of known spam email and non-spam email from my personal inbox. I would then extract the email data such as \"From, To, CC, BCC, Subject Line, Body, Attachments\". I would then create features based on the tokenized data based and do research on the most reported red flags of spam email and ensure they are included in the attributes list. I am not elucidating exactly how I would create these attributes since this would be a very large part of the process and would involve data-wrangling, data-cleaning, and much more research. Presuming I have a useable dataset, I would then run the same tests as I performed in this document against my dataset and I would be very interested to see if the neural net performs better than the random forest."
   ]
  }
 ],
 "metadata": {
  "colab": {
   "collapsed_sections": [],
   "name": "CS345_Spring_2022_Assignment03.ipynb",
   "provenance": []
  },
  "kernelspec": {
   "display_name": "Python 3 (ipykernel)",
   "language": "python",
   "name": "python3"
  },
  "language_info": {
   "codemirror_mode": {
    "name": "ipython",
    "version": 3
   },
   "file_extension": ".py",
   "mimetype": "text/x-python",
   "name": "python",
   "nbconvert_exporter": "python",
   "pygments_lexer": "ipython3",
   "version": "3.7.13"
  }
 },
 "nbformat": 4,
 "nbformat_minor": 5
}
